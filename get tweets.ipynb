{
 "cells": [
  {
   "cell_type": "markdown",
   "metadata": {},
   "source": [
    "This script mines tweets to train the model.\n",
    "\n",
    "Use my followers to get tweets, then say similar stuff."
   ]
  },
  {
   "cell_type": "code",
   "execution_count": 1,
   "metadata": {},
   "outputs": [
    {
     "name": "stdout",
     "output_type": "stream",
     "text": [
      "should have already got credentials\n"
     ]
    }
   ],
   "source": [
    "#retweets tweets about the housing crisis\n",
    "\n",
    "# Import Tweepy, sleep, credentials.py\n",
    "import tweepy\n",
    "import time\n",
    "from datetime import datetime, timezone, timedelta\n",
    "\n",
    "import sys, os\n",
    "\n",
    "from authenticate import *\n",
    "\n",
    "api = get_authenticated_api()"
   ]
  },
  {
   "cell_type": "markdown",
   "metadata": {},
   "source": [
    "## Identify users to RT"
   ]
  },
  {
   "cell_type": "code",
   "execution_count": 2,
   "metadata": {},
   "outputs": [],
   "source": [
    "starting_user_set = api.friends(count=200)"
   ]
  },
  {
   "cell_type": "markdown",
   "metadata": {},
   "source": [
    "We could prune these people in a variety of ways. It might help to get a subset where some of them follow each other, then get the users that _they_ follow together and add them to the list. But this might be needlessly complex, so to start, let's just see what we can do with this group."
   ]
  },
  {
   "cell_type": "markdown",
   "metadata": {},
   "source": [
    "## Identify tweets from them that we actually want to use"
   ]
  },
  {
   "cell_type": "markdown",
   "metadata": {},
   "source": [
    "We want:\n",
    "\n",
    " - Retweets only - MAYBE, maybe not. I am not sure. It might be OK to just generate random pro-housing slogans.\n",
    " - Tweets specific to housing. I would rather avoid a direct keyword approach. Something social, like where they're retweeting each other, might work.\n",
    " \n",
    "Other options:\n",
    "\n",
    " - Get those users' favorites using API.favorites"
   ]
  },
  {
   "cell_type": "markdown",
   "metadata": {},
   "source": [
    "### Step 1. Get some users' tweets"
   ]
  },
  {
   "cell_type": "code",
   "execution_count": 25,
   "metadata": {},
   "outputs": [
    {
     "name": "stdout",
     "output_type": "stream",
     "text": [
      "Getting page 1 for statuses\n",
      "154\n",
      "Getting page 2 for statuses\n",
      "158\n",
      "Getting page 3 for statuses\n",
      "162\n",
      "Getting page 4 for statuses\n",
      "145\n",
      "Getting page 5 for statuses\n",
      "122\n",
      "Getting page 6 for statuses\n",
      "124\n",
      "Getting page 7 for statuses\n",
      "138\n",
      "Getting page 8 for statuses\n",
      "127\n",
      "Getting page 9 for statuses\n",
      "123\n",
      "Getting page 10 for statuses\n",
      "147\n",
      "Getting page 11 for statuses\n",
      "145\n",
      "Getting page 12 for statuses\n",
      "141\n",
      "Getting page 13 for statuses\n",
      "150\n",
      "Getting page 14 for statuses\n",
      "127\n",
      "Getting page 15 for statuses\n",
      "103\n",
      "Getting page 16 for statuses\n",
      "124\n",
      "Getting page 17 for statuses\n",
      "35\n",
      "number of statuses for user: 2225\n"
     ]
    }
   ],
   "source": [
    "user_statuses=[]\n",
    "page_count=0\n",
    "for status_page in tweepy.Cursor(\n",
    "        api.user_timeline, screen_name=\"curiouskiwicat\", include_rts=False, \n",
    "        tweet_mode='extended', count=200).pages():\n",
    "    page_count += 1\n",
    "    print(f'Getting page {page_count} for statuses')\n",
    "    print(len(status_page))\n",
    "    user_statuses.extend(status_page)\n",
    "print(f\"number of statuses for user: {len(user_statuses)}\")\n",
    "curiouskiwicat_statuses=user_statuses"
   ]
  },
  {
   "cell_type": "code",
   "execution_count": 39,
   "metadata": {},
   "outputs": [
    {
     "data": {
      "text/plain": [
       "[datetime.datetime(2018, 1, 5, 2, 7, 10)]"
      ]
     },
     "execution_count": 39,
     "metadata": {},
     "output_type": "execute_result"
    }
   ],
   "source": [
    "[s.created_at for s in curiouskiwicat_statuses[2008:2009]]"
   ]
  },
  {
   "cell_type": "code",
   "execution_count": 42,
   "metadata": {},
   "outputs": [
    {
     "data": {
      "text/plain": [
       "949099924330721280"
      ]
     },
     "execution_count": 42,
     "metadata": {},
     "output_type": "execute_result"
    }
   ],
   "source": [
    "#a tweet at the beginning of 2018\n",
    "curiouskiwicat_statuses[2008].id"
   ]
  },
  {
   "cell_type": "code",
   "execution_count": 43,
   "metadata": {},
   "outputs": [],
   "source": [
    "beginning_of_2018_marker=949099924330721280"
   ]
  },
  {
   "cell_type": "code",
   "execution_count": 3,
   "metadata": {},
   "outputs": [],
   "source": [
    "def describe_status(s):\n",
    "    print(f\"TWEET by {s.user.screen_name}:\")\n",
    "    print(s.full_text)\n",
    "    #print(\", \".join(dir(s)))\n",
    "    print(f\"is_quote_status: {s.is_quote_status}\")\n",
    "    print(f\"in_reply_to_screen_name: {s.in_reply_to_screen_name}\")\n",
    "    print(\"___\\n\")\n",
    "    "
   ]
  },
  {
   "cell_type": "code",
   "execution_count": 4,
   "metadata": {},
   "outputs": [],
   "source": [
    "#\",\".join(dir(user_retweets[0]))"
   ]
  },
  {
   "cell_type": "markdown",
   "metadata": {},
   "source": [
    "So we need to look up the original tweet using the quoted_status_id..."
   ]
  },
  {
   "cell_type": "markdown",
   "metadata": {},
   "source": [
    "get a set of user statuses that are retweets..."
   ]
  },
  {
   "cell_type": "markdown",
   "metadata": {},
   "source": [
    "get this user's last 10 statuses"
   ]
  },
  {
   "cell_type": "markdown",
   "metadata": {},
   "source": [
    "#### Retrieval script to retrieve a set of tweets in my dictionary format and save to a csv"
   ]
  },
  {
   "cell_type": "code",
   "execution_count": null,
   "metadata": {},
   "outputs": [],
   "source": [
    "import time"
   ]
  },
  {
   "cell_type": "code",
   "execution_count": null,
   "metadata": {},
   "outputs": [],
   "source": [
    "#[print(susi.screen_name) for susi in starting_user_set]"
   ]
  },
  {
   "cell_type": "code",
   "execution_count": 5,
   "metadata": {},
   "outputs": [],
   "source": [
    "users_to_retrieve = starting_user_set"
   ]
  },
  {
   "cell_type": "code",
   "execution_count": 6,
   "metadata": {},
   "outputs": [],
   "source": [
    "userids_to_retrieve=[utr.screen_name for utr in users_to_retrieve]"
   ]
  },
  {
   "cell_type": "code",
   "execution_count": 57,
   "metadata": {},
   "outputs": [],
   "source": [
    "def get_users_tweets(user_ids_to_retrieve):\n",
    "    tweet_rt_pairs = []\n",
    "    \n",
    "    rls=api.rate_limit_status()\n",
    "    #record how much remaining status limit we have\n",
    "    status_rl_left = rls['resources']['statuses']['/statuses/show/:id']['remaining']\n",
    "    status_rl_rest_ts = rls['resources']['statuses']['/statuses/show/:id']['reset']\n",
    "    beginning_of_2018_marker=949099924330721280\n",
    "    \n",
    "    #time.sleep((datetime.fromtimestamp(rls['resources']['statuses']['/statuses/show/:id']['reset'])-datetime.now()).seconds)\n",
    "    for i, u in enumerate(user_ids_to_retrieve):\n",
    "        \n",
    "\n",
    "        \n",
    "        start= time.perf_counter()\n",
    "        print(f\"retrieving tweets for user {u}\")\n",
    "        print(status_rl_left)\n",
    "    \n",
    "        try:\n",
    "            user_statuses=[]\n",
    "            page_count=0\n",
    "            for status_page in tweepy.Cursor(\n",
    "                    api.user_timeline, screen_name=u, include_rts=False, \n",
    "                    tweet_mode='extended', count=200,since_id=beginning_of_2018_marker).pages(10):\n",
    "                page_count += 1\n",
    "                #print(f'Getting page {page_count} for statuses')\n",
    "                #print(len(status_page))\n",
    "                user_statuses.extend(status_page)\n",
    "            print(f\"number of statuses for user: {len(user_statuses)}\")\n",
    "        except tweepy.TweepError as tweep_error:\n",
    "            if tweep_error.args[0][0]['code']==34:\n",
    "                    print(\"somehow browsed through too many timeline pages. quitting\")\n",
    "                    continue\n",
    "            elif tweep_error.args[0]=='Not authorized.':\n",
    "                print(\"couldn't retrieve user tweets. moving on to next user.\")\n",
    "                continue\n",
    "            \n",
    "\n",
    "        user_retweets = [s for s in user_statuses if s.is_quote_status==True]\n",
    "        \n",
    "        print(f\"number of retweets for user: {len(user_retweets)}\")\n",
    "\n",
    "        for s in user_retweets:\n",
    "            \n",
    "            if status_rl_left<5:\n",
    "                #wait a while\n",
    "                #how long?\n",
    "                rls=api.rate_limit_status()\n",
    "                #double check that we are in fact almost out.\n",
    "                status_rl_left = rls['resources']['statuses']['/statuses/show/:id']['remaining']\n",
    "                \n",
    "                if status_rl_left<5:\n",
    "                    status_rl_rest_ts = rls['resources']['statuses']['/statuses/show/:id']['reset']\n",
    "                    seconds_to_wait = 1 + (datetime.fromtimestamp(status_rl_rest_ts)-datetime.now()).seconds\n",
    "                    print(f\"status limit almost reached. need to pause for {seconds_to_wait}\")\n",
    "                    time.sleep(seconds_to_wait)\n",
    "                \n",
    "            try:\n",
    "                if hasattr(s,'quoted_status_id'):\n",
    "                    status_rl_left-=1#subtract from our status limit.\n",
    "                    original_tweet = api.get_status(s.quoted_status_id,tweet_mode='extended')\n",
    "                else:\n",
    "                    print(\"tweet has not original status Id for some reason. ignoring.\")\n",
    "                    continue\n",
    "            except tweepy.TweepError as tweep_error:\n",
    "                try:\n",
    "                    if tweep_error.args[0][0]['code']==144:\n",
    "                        print(\"tweet not found, ignoring\")\n",
    "                        continue\n",
    "                    elif tweep_error.args[0][0]['code']==179:\n",
    "                        print(\"tweet access prohibited, ignoring\")\n",
    "                        continue\n",
    "                    elif tweep_error.args[0][0]['code']==63:\n",
    "                        print(\"user has been suspended\")\n",
    "                        continue\n",
    "                    elif tweep_error.args[0][0]['code']==34:\n",
    "                        print(\"spage error when trying to retrieve RT. continuing\")\n",
    "                        continue\n",
    "                    else:\n",
    "                        raise tweep_error\n",
    "                except Exception as e:\n",
    "                    print(\"error while handling exception. passing back exception.\")\n",
    "                    return(e)\n",
    "\n",
    "            #if the \n",
    "            retweet_data = {\n",
    "                'retweet_text':s.full_text,\n",
    "                'rt_author':s.user.screen_name,\n",
    "                'original_text':original_tweet.full_text,\n",
    "                'original_author':original_tweet.user.screen_name\n",
    "            }\n",
    "            #print(\"retweet of:\")\n",
    "            #describe_status(original_tweet)\n",
    "            tweet_rt_pairs = tweet_rt_pairs + [retweet_data]\n",
    "\n",
    "        end= time.perf_counter()\n",
    "        #iterate through a maximum of 1 user per second.\n",
    "        duration=end-start\n",
    "        if(duration<1):\n",
    "            time.sleep(1-duration)\n",
    "    return(tweet_rt_pairs)"
   ]
  },
  {
   "cell_type": "code",
   "execution_count": 58,
   "metadata": {},
   "outputs": [
    {
     "name": "stdout",
     "output_type": "stream",
     "text": [
      "retrieving tweets for user gammelvindnz\n",
      "498\n",
      "number of statuses for user: 1744\n",
      "number of retweets for user: 135\n",
      "tweet not found, ignoring\n",
      "tweet not found, ignoring\n",
      "tweet not found, ignoring\n",
      "tweet not found, ignoring\n",
      "tweet not found, ignoring\n",
      "tweet not found, ignoring\n",
      "spage error when trying to retrieve RT. continuing\n",
      "user has been suspended\n",
      "retrieving tweets for user juliefairey\n",
      "363\n",
      "number of statuses for user: 1552\n",
      "number of retweets for user: 82\n",
      "tweet not found, ignoring\n",
      "tweet not found, ignoring\n",
      "tweet not found, ignoring\n",
      "retrieving tweets for user Jasontripletdad\n",
      "281\n",
      "number of statuses for user: 1062\n",
      "number of retweets for user: 29\n",
      "tweet access prohibited, ignoring\n",
      "retrieving tweets for user TheGanttGuy\n",
      "252\n",
      "number of statuses for user: 941\n",
      "number of retweets for user: 88\n",
      "tweet not found, ignoring\n",
      "tweet not found, ignoring\n",
      "tweet not found, ignoring\n",
      "user has been suspended\n",
      "tweet not found, ignoring\n",
      "tweet has not original status Id for some reason. ignoring.\n",
      "retrieving tweets for user dvdjhnhll\n",
      "165\n",
      "number of statuses for user: 1696\n",
      "number of retweets for user: 254\n",
      "tweet access prohibited, ignoring\n",
      "tweet has not original status Id for some reason. ignoring.\n",
      "tweet not found, ignoring\n",
      "tweet not found, ignoring\n",
      "tweet not found, ignoring\n",
      "tweet not found, ignoring\n",
      "tweet not found, ignoring\n",
      "tweet not found, ignoring\n",
      "tweet has not original status Id for some reason. ignoring.\n",
      "retrieving tweets for user AbundantHomeLDN\n",
      "675\n",
      "number of statuses for user: 973\n",
      "number of retweets for user: 304\n",
      "tweet not found, ignoring\n",
      "tweet not found, ignoring\n",
      "tweet not found, ignoring\n",
      "tweet not found, ignoring\n",
      "tweet not found, ignoring\n",
      "spage error when trying to retrieve RT. continuing\n",
      "tweet not found, ignoring\n",
      "tweet not found, ignoring\n",
      "retrieving tweets for user AbundantHousing\n",
      "371\n",
      "number of statuses for user: 1141\n",
      "number of retweets for user: 251\n",
      "tweet not found, ignoring\n",
      "tweet not found, ignoring\n",
      "tweet not found, ignoring\n",
      "tweet not found, ignoring\n",
      "tweet not found, ignoring\n",
      "tweet not found, ignoring\n",
      "tweet not found, ignoring\n",
      "tweet not found, ignoring\n",
      "tweet not found, ignoring\n",
      "tweet not found, ignoring\n",
      "tweet not found, ignoring\n",
      "tweet has not original status Id for some reason. ignoring.\n",
      "tweet has not original status Id for some reason. ignoring.\n",
      "tweet has not original status Id for some reason. ignoring.\n",
      "tweet has not original status Id for some reason. ignoring.\n",
      "tweet has not original status Id for some reason. ignoring.\n",
      "tweet has not original status Id for some reason. ignoring.\n",
      "tweet has not original status Id for some reason. ignoring.\n",
      "tweet has not original status Id for some reason. ignoring.\n",
      "retrieving tweets for user carla_org\n",
      "128\n",
      "number of statuses for user: 559\n",
      "number of retweets for user: 173\n",
      "tweet not found, ignoring\n",
      "tweet not found, ignoring\n",
      "tweet not found, ignoring\n",
      "tweet not found, ignoring\n",
      "tweet not found, ignoring\n",
      "tweet not found, ignoring\n",
      "status limit almost reached. need to pause for 523\n",
      "tweet not found, ignoring\n",
      "tweet has not original status Id for some reason. ignoring.\n",
      "tweet has not original status Id for some reason. ignoring.\n",
      "user has been suspended\n",
      "tweet has not original status Id for some reason. ignoring.\n",
      "tweet has not original status Id for some reason. ignoring.\n",
      "retrieving tweets for user ahvancouver\n",
      "855\n",
      "number of statuses for user: 487\n",
      "number of retweets for user: 89\n",
      "tweet not found, ignoring\n",
      "tweet not found, ignoring\n",
      "spage error when trying to retrieve RT. continuing\n",
      "tweet has not original status Id for some reason. ignoring.\n",
      "retrieving tweets for user rpbracker\n",
      "767\n",
      "number of statuses for user: 311\n",
      "number of retweets for user: 33\n",
      "tweet not found, ignoring\n",
      "retrieving tweets for user Scott_Wiener\n",
      "734\n",
      "number of statuses for user: 1601\n",
      "number of retweets for user: 224\n",
      "tweet not found, ignoring\n",
      "tweet not found, ignoring\n",
      "tweet not found, ignoring\n",
      "tweet not found, ignoring\n",
      "tweet not found, ignoring\n",
      "tweet not found, ignoring\n",
      "retrieving tweets for user EricCrampton\n",
      "510\n",
      "number of statuses for user: 1504\n",
      "number of retweets for user: 287\n",
      "tweet not found, ignoring\n",
      "tweet not found, ignoring\n",
      "tweet not found, ignoring\n",
      "tweet not found, ignoring\n",
      "user has been suspended\n",
      "tweet not found, ignoring\n",
      "tweet not found, ignoring\n",
      "retrieving tweets for user ScotHousingNews\n",
      "223\n",
      "number of statuses for user: 1573\n",
      "number of retweets for user: 0\n",
      "retrieving tweets for user dean_mcr\n",
      "223\n",
      "number of statuses for user: 2\n",
      "number of retweets for user: 0\n",
      "retrieving tweets for user NottsYimby\n",
      "223\n",
      "number of statuses for user: 2\n",
      "number of retweets for user: 1\n",
      "retrieving tweets for user YorkYimby\n",
      "222\n",
      "number of statuses for user: 15\n",
      "number of retweets for user: 9\n",
      "retrieving tweets for user CYimby\n",
      "213\n",
      "number of statuses for user: 213\n",
      "number of retweets for user: 28\n",
      "tweet access prohibited, ignoring\n",
      "retrieving tweets for user kiwibardy\n",
      "185\n",
      "number of statuses for user: 843\n",
      "number of retweets for user: 144\n",
      "tweet not found, ignoring\n",
      "spage error when trying to retrieve RT. continuing\n",
      "retrieving tweets for user EvaCorlett\n",
      "41\n",
      "number of statuses for user: 314\n",
      "number of retweets for user: 23\n",
      "retrieving tweets for user cyclingsocially\n",
      "18\n",
      "number of statuses for user: 886\n",
      "number of retweets for user: 127\n",
      "status limit almost reached. need to pause for 481\n",
      "tweet not found, ignoring\n",
      "tweet not found, ignoring\n",
      "tweet not found, ignoring\n",
      "tweet has not original status Id for some reason. ignoring.\n",
      "retrieving tweets for user lobotaniser\n",
      "788\n",
      "number of statuses for user: 1123\n",
      "number of retweets for user: 25\n",
      "tweet not found, ignoring\n",
      "tweet not found, ignoring\n",
      "tweet not found, ignoring\n",
      "retrieving tweets for user BenRoss_AKL\n",
      "763\n",
      "number of statuses for user: 1727\n",
      "number of retweets for user: 618\n",
      "tweet not found, ignoring\n",
      "tweet not found, ignoring\n",
      "tweet not found, ignoring\n",
      "tweet access prohibited, ignoring\n",
      "tweet not found, ignoring\n",
      "tweet access prohibited, ignoring\n",
      "tweet not found, ignoring\n",
      "tweet not found, ignoring\n",
      "tweet not found, ignoring\n",
      "tweet not found, ignoring\n",
      "tweet not found, ignoring\n",
      "tweet not found, ignoring\n",
      "tweet access prohibited, ignoring\n",
      "retrieving tweets for user Bob237874\n",
      "145\n",
      "number of statuses for user: 1933\n",
      "number of retweets for user: 24\n",
      "tweet not found, ignoring\n",
      "tweet not found, ignoring\n",
      "retrieving tweets for user huntersrolinson\n",
      "121\n",
      "number of statuses for user: 1706\n",
      "number of retweets for user: 36\n",
      "tweet not found, ignoring\n",
      "tweet not found, ignoring\n",
      "tweet not found, ignoring\n",
      "retrieving tweets for user Orthanc\n",
      "85\n",
      "number of statuses for user: 1265\n",
      "number of retweets for user: 90\n",
      "tweet not found, ignoring\n",
      "tweet not found, ignoring\n",
      "spage error when trying to retrieve RT. continuing\n",
      "status limit almost reached. need to pause for 510\n",
      "tweet not found, ignoring\n",
      "tweet not found, ignoring\n",
      "retrieving tweets for user Hi_Im_Lava\n",
      "891\n",
      "number of statuses for user: 709\n",
      "number of retweets for user: 38\n",
      "spage error when trying to retrieve RT. continuing\n",
      "tweet access prohibited, ignoring\n",
      "tweet access prohibited, ignoring\n",
      "tweet not found, ignoring\n",
      "tweet not found, ignoring\n",
      "user has been suspended\n",
      "tweet has not original status Id for some reason. ignoring.\n",
      "retrieving tweets for user sarahpolo10\n",
      "854\n",
      "number of statuses for user: 2000\n",
      "number of retweets for user: 4\n",
      "retrieving tweets for user lourdes_vano\n",
      "850\n",
      "number of statuses for user: 152\n",
      "number of retweets for user: 47\n",
      "tweet not found, ignoring\n",
      "tweet not found, ignoring\n",
      "tweet not found, ignoring\n",
      "retrieving tweets for user lightweight\n",
      "803\n",
      "number of statuses for user: 1513\n",
      "number of retweets for user: 87\n",
      "tweet not found, ignoring\n",
      "tweet not found, ignoring\n",
      "tweet not found, ignoring\n",
      "tweet has not original status Id for some reason. ignoring.\n",
      "tweet not found, ignoring\n",
      "tweet not found, ignoring\n",
      "tweet not found, ignoring\n",
      "retrieving tweets for user Superettey\n",
      "717\n",
      "number of statuses for user: 1581\n",
      "number of retweets for user: 204\n",
      "tweet not found, ignoring\n",
      "tweet access prohibited, ignoring\n",
      "spage error when trying to retrieve RT. continuing\n",
      "tweet not found, ignoring\n",
      "tweet not found, ignoring\n",
      "tweet not found, ignoring\n",
      "tweet access prohibited, ignoring\n",
      "tweet not found, ignoring\n",
      "tweet has not original status Id for some reason. ignoring.\n",
      "tweet not found, ignoring\n",
      "user has been suspended\n",
      "tweet not found, ignoring\n",
      "tweet not found, ignoring\n",
      "tweet not found, ignoring\n",
      "tweet not found, ignoring\n"
     ]
    },
    {
     "name": "stdout",
     "output_type": "stream",
     "text": [
      "tweet not found, ignoring\n",
      "tweet access prohibited, ignoring\n",
      "retrieving tweets for user camrynpetebrown\n",
      "514\n",
      "number of statuses for user: 1927\n",
      "number of retweets for user: 134\n",
      "tweet not found, ignoring\n",
      "tweet access prohibited, ignoring\n",
      "tweet has not original status Id for some reason. ignoring.\n",
      "tweet has not original status Id for some reason. ignoring.\n",
      "retrieving tweets for user brendon_harre\n",
      "382\n",
      "number of statuses for user: 958\n",
      "number of retweets for user: 90\n",
      "tweet access prohibited, ignoring\n",
      "spage error when trying to retrieve RT. continuing\n",
      "spage error when trying to retrieve RT. continuing\n",
      "retrieving tweets for user Ganeshan\n",
      "292\n",
      "number of statuses for user: 832\n",
      "number of retweets for user: 61\n",
      "tweet not found, ignoring\n",
      "user has been suspended\n",
      "user has been suspended\n",
      "retrieving tweets for user sharifshameem\n",
      "231\n",
      "number of statuses for user: 1025\n",
      "number of retweets for user: 43\n",
      "tweet not found, ignoring\n",
      "tweet has not original status Id for some reason. ignoring.\n",
      "tweet not found, ignoring\n",
      "tweet not found, ignoring\n",
      "tweet has not original status Id for some reason. ignoring.\n",
      "tweet access prohibited, ignoring\n",
      "retrieving tweets for user OlsiJ\n",
      "190\n",
      "number of statuses for user: 1104\n",
      "number of retweets for user: 125\n",
      "tweet not found, ignoring\n",
      "user has been suspended\n",
      "user has been suspended\n",
      "user has been suspended\n",
      "user has been suspended\n",
      "spage error when trying to retrieve RT. continuing\n",
      "tweet not found, ignoring\n",
      "tweet not found, ignoring\n",
      "tweet not found, ignoring\n",
      "user has been suspended\n",
      "tweet not found, ignoring\n",
      "retrieving tweets for user paulg\n",
      "65\n",
      "number of statuses for user: 1532\n",
      "number of retweets for user: 45\n",
      "tweet not found, ignoring\n",
      "tweet not found, ignoring\n",
      "retrieving tweets for user DarbyatCouncil\n",
      "20\n",
      "number of statuses for user: 643\n",
      "number of retweets for user: 61\n",
      "status limit almost reached. need to pause for 453\n",
      "tweet has not original status Id for some reason. ignoring.\n",
      "tweet has not original status Id for some reason. ignoring.\n",
      "retrieving tweets for user lukechristensen\n",
      "857\n",
      "number of statuses for user: 1480\n",
      "number of retweets for user: 114\n",
      "tweet not found, ignoring\n",
      "retrieving tweets for user kirsty_johnston\n",
      "743\n",
      "number of statuses for user: 1765\n",
      "number of retweets for user: 108\n",
      "tweet access prohibited, ignoring\n",
      "tweet has not original status Id for some reason. ignoring.\n",
      "tweet not found, ignoring\n",
      "tweet not found, ignoring\n",
      "retrieving tweets for user seen_in_ak\n",
      "636\n",
      "number of statuses for user: 529\n",
      "number of retweets for user: 10\n",
      "tweet not found, ignoring\n",
      "retrieving tweets for user hotcity_akl\n",
      "626\n",
      "number of statuses for user: 818\n",
      "number of retweets for user: 119\n",
      "tweet not found, ignoring\n",
      "tweet not found, ignoring\n",
      "tweet access prohibited, ignoring\n",
      "retrieving tweets for user HendoWest\n",
      "507\n",
      "number of statuses for user: 1702\n",
      "number of retweets for user: 243\n",
      "tweet access prohibited, ignoring\n",
      "tweet not found, ignoring\n",
      "tweet not found, ignoring\n",
      "tweet not found, ignoring\n",
      "tweet not found, ignoring\n",
      "tweet not found, ignoring\n",
      "user has been suspended\n",
      "tweet access prohibited, ignoring\n",
      "spage error when trying to retrieve RT. continuing\n",
      "tweet not found, ignoring\n",
      "tweet not found, ignoring\n",
      "tweet not found, ignoring\n",
      "tweet not found, ignoring\n",
      "retrieving tweets for user bobdey\n",
      "264\n",
      "number of statuses for user: 1999\n",
      "number of retweets for user: 0\n",
      "retrieving tweets for user HousingFirstNZ\n",
      "264\n",
      "number of statuses for user: 63\n",
      "number of retweets for user: 7\n",
      "retrieving tweets for user HousingAotearoa\n",
      "257\n",
      "number of statuses for user: 31\n",
      "number of retweets for user: 9\n",
      "retrieving tweets for user MHReddell\n",
      "248\n",
      "number of statuses for user: 1908\n",
      "number of retweets for user: 255\n",
      "tweet not found, ignoring\n",
      "tweet not found, ignoring\n",
      "tweet not found, ignoring\n",
      "tweet not found, ignoring\n",
      "tweet not found, ignoring\n",
      "tweet not found, ignoring\n",
      "tweet not found, ignoring\n",
      "tweet not found, ignoring\n",
      "tweet not found, ignoring\n",
      "tweet not found, ignoring\n",
      "tweet has not original status Id for some reason. ignoring.\n",
      "tweet not found, ignoring\n",
      "tweet not found, ignoring\n",
      "status limit almost reached. need to pause for 485\n",
      "retrieving tweets for user bernardchickey\n",
      "890\n",
      "number of statuses for user: 1898\n",
      "number of retweets for user: 743\n",
      "tweet not found, ignoring\n",
      "tweet not found, ignoring\n",
      "tweet not found, ignoring\n",
      "tweet not found, ignoring\n",
      "tweet not found, ignoring\n",
      "tweet access prohibited, ignoring\n",
      "tweet not found, ignoring\n",
      "spage error when trying to retrieve RT. continuing\n",
      "tweet not found, ignoring\n",
      "tweet not found, ignoring\n",
      "tweet not found, ignoring\n",
      "spage error when trying to retrieve RT. continuing\n",
      "tweet not found, ignoring\n",
      "tweet not found, ignoring\n",
      "tweet not found, ignoring\n",
      "tweet not found, ignoring\n",
      "retrieving tweets for user ScootFoundation\n",
      "147\n",
      "number of statuses for user: 1907\n",
      "number of retweets for user: 194\n",
      "tweet access prohibited, ignoring\n",
      "spage error when trying to retrieve RT. continuing\n",
      "tweet access prohibited, ignoring\n",
      "tweet not found, ignoring\n",
      "tweet not found, ignoring\n",
      "status limit almost reached. need to pause for 540\n",
      "tweet not found, ignoring\n",
      "tweet not found, ignoring\n",
      "tweet not found, ignoring\n",
      "tweet not found, ignoring\n",
      "spage error when trying to retrieve RT. continuing\n",
      "spage error when trying to retrieve RT. continuing\n",
      "retrieving tweets for user direhousing\n",
      "849\n",
      "number of statuses for user: 43\n",
      "number of retweets for user: 5\n",
      "retrieving tweets for user kentslundberg\n",
      "844\n",
      "number of statuses for user: 1540\n",
      "number of retweets for user: 136\n",
      "tweet not found, ignoring\n",
      "tweet not found, ignoring\n",
      "tweet not found, ignoring\n",
      "tweet not found, ignoring\n",
      "retrieving tweets for user H20FrntDsgn\n",
      "708\n",
      "number of statuses for user: 1017\n",
      "number of retweets for user: 125\n",
      "tweet access prohibited, ignoring\n",
      "retrieving tweets for user StuartBDonovan\n",
      "583\n",
      "number of statuses for user: 1716\n",
      "number of retweets for user: 167\n",
      "tweet not found, ignoring\n",
      "retrieving tweets for user KRoadUpdates\n",
      "416\n",
      "number of statuses for user: 73\n",
      "number of retweets for user: 0\n",
      "retrieving tweets for user aklconstruct\n",
      "416\n",
      "number of statuses for user: 796\n",
      "number of retweets for user: 0\n",
      "retrieving tweets for user everylotakl\n",
      "416\n",
      "number of statuses for user: 2000\n",
      "number of retweets for user: 0\n",
      "retrieving tweets for user everylotwlg\n",
      "416\n",
      "number of statuses for user: 2000\n",
      "number of retweets for user: 0\n",
      "retrieving tweets for user nzsd\n",
      "416\n",
      "number of statuses for user: 1796\n",
      "number of retweets for user: 64\n",
      "retrieving tweets for user place_creative_\n",
      "352\n",
      "number of statuses for user: 1025\n",
      "number of retweets for user: 47\n",
      "user has been suspended\n",
      "retrieving tweets for user Claire_AKL\n",
      "305\n",
      "number of statuses for user: 227\n",
      "number of retweets for user: 9\n",
      "tweet has not original status Id for some reason. ignoring.\n",
      "retrieving tweets for user CityAklccrg\n",
      "297\n",
      "number of statuses for user: 1529\n",
      "number of retweets for user: 245\n",
      "tweet has not original status Id for some reason. ignoring.\n",
      "user has been suspended\n",
      "user has been suspended\n",
      "retrieving tweets for user AklBikes\n",
      "53\n",
      "number of statuses for user: 1744\n",
      "number of retweets for user: 63\n",
      "tweet not found, ignoring\n",
      "tweet not found, ignoring\n",
      "tweet not found, ignoring\n",
      "status limit almost reached. need to pause for 437\n",
      "retrieving tweets for user KrisinMana\n",
      "886\n",
      "number of statuses for user: 40\n",
      "number of retweets for user: 3\n",
      "retrieving tweets for user NanaiaMahuta\n",
      "883\n",
      "number of statuses for user: 199\n",
      "number of retweets for user: 0\n",
      "retrieving tweets for user NicolaWillisMP\n",
      "883\n",
      "number of statuses for user: 1156\n",
      "number of retweets for user: 129\n",
      "tweet not found, ignoring\n",
      "tweet not found, ignoring\n",
      "tweet not found, ignoring\n",
      "retrieving tweets for user JudithCollinsMP\n",
      "754\n",
      "number of statuses for user: 1569\n",
      "number of retweets for user: 381\n",
      "tweet not found, ignoring\n",
      "tweet not found, ignoring\n",
      "tweet not found, ignoring\n",
      "tweet not found, ignoring\n",
      "tweet not found, ignoring\n",
      "tweet not found, ignoring\n",
      "tweet not found, ignoring\n",
      "tweet not found, ignoring\n",
      "tweet not found, ignoring\n",
      "tweet not found, ignoring\n",
      "tweet not found, ignoring\n",
      "tweet not found, ignoring\n",
      "tweet not found, ignoring\n",
      "tweet not found, ignoring\n",
      "tweet not found, ignoring\n",
      "tweet access prohibited, ignoring\n",
      "tweet not found, ignoring\n",
      "tweet not found, ignoring\n",
      "user has been suspended\n",
      "tweet has not original status Id for some reason. ignoring.\n",
      "tweet not found, ignoring\n",
      "user has been suspended\n",
      "tweet not found, ignoring\n"
     ]
    },
    {
     "name": "stdout",
     "output_type": "stream",
     "text": [
      "retrieving tweets for user MaramaDavidson\n",
      "374\n",
      "number of statuses for user: 1461\n",
      "number of retweets for user: 130\n",
      "tweet not found, ignoring\n",
      "tweet not found, ignoring\n",
      "retrieving tweets for user JulieAnneGenter\n",
      "244\n",
      "number of statuses for user: 1115\n",
      "number of retweets for user: 56\n",
      "tweet not found, ignoring\n",
      "user has been suspended\n",
      "tweet not found, ignoring\n",
      "tweet not found, ignoring\n",
      "retrieving tweets for user Megan_Woods\n",
      "188\n",
      "number of statuses for user: 472\n",
      "number of retweets for user: 48\n",
      "retrieving tweets for user realestatealarm\n",
      "140\n",
      "number of statuses for user: 0\n",
      "number of retweets for user: 0\n",
      "retrieving tweets for user propertyhubnz\n",
      "140\n",
      "number of statuses for user: 0\n",
      "number of retweets for user: 0\n",
      "retrieving tweets for user buildbetternz\n",
      "140\n",
      "number of statuses for user: 662\n",
      "number of retweets for user: 129\n",
      "tweet not found, ignoring\n",
      "spage error when trying to retrieve RT. continuing\n",
      "spage error when trying to retrieve RT. continuing\n",
      "spage error when trying to retrieve RT. continuing\n",
      "spage error when trying to retrieve RT. continuing\n",
      "spage error when trying to retrieve RT. continuing\n",
      "spage error when trying to retrieve RT. continuing\n",
      "spage error when trying to retrieve RT. continuing\n",
      "spage error when trying to retrieve RT. continuing\n",
      "spage error when trying to retrieve RT. continuing\n",
      "spage error when trying to retrieve RT. continuing\n",
      "spage error when trying to retrieve RT. continuing\n",
      "tweet not found, ignoring\n",
      "spage error when trying to retrieve RT. continuing\n",
      "spage error when trying to retrieve RT. continuing\n",
      "retrieving tweets for user MonteHousing\n",
      "11\n",
      "number of statuses for user: 52\n",
      "number of retweets for user: 0\n",
      "retrieving tweets for user VoteRobThomas\n",
      "11\n",
      "number of statuses for user: 132\n",
      "number of retweets for user: 7\n",
      "tweet not found, ignoring\n",
      "retrieving tweets for user daimanotto\n",
      "4\n",
      "number of statuses for user: 131\n",
      "number of retweets for user: 7\n",
      "status limit almost reached. need to pause for 493\n",
      "retrieving tweets for user mcutlerwelsh\n",
      "893\n",
      "number of statuses for user: 1321\n",
      "number of retweets for user: 76\n",
      "tweet not found, ignoring\n",
      "tweet not found, ignoring\n",
      "tweet has not original status Id for some reason. ignoring.\n",
      "retrieving tweets for user HousingC2A\n",
      "818\n",
      "number of statuses for user: 59\n",
      "number of retweets for user: 0\n",
      "retrieving tweets for user AklTransport\n",
      "818\n",
      "number of statuses for user: 1991\n",
      "number of retweets for user: 122\n",
      "retrieving tweets for user BikeAKL\n",
      "696\n",
      "number of statuses for user: 910\n",
      "number of retweets for user: 250\n",
      "tweet has not original status Id for some reason. ignoring.\n",
      "tweet not found, ignoring\n",
      "retrieving tweets for user AklCouncil\n",
      "447\n",
      "number of statuses for user: 1828\n",
      "number of retweets for user: 1\n",
      "retrieving tweets for user GenZeroNZ\n",
      "446\n",
      "number of statuses for user: 409\n",
      "number of retweets for user: 24\n",
      "spage error when trying to retrieve RT. continuing\n",
      "tweet access prohibited, ignoring\n",
      "retrieving tweets for user yimbyaction\n",
      "422\n",
      "number of statuses for user: 621\n",
      "number of retweets for user: 157\n",
      "tweet access prohibited, ignoring\n",
      "tweet not found, ignoring\n",
      "tweet not found, ignoring\n",
      "tweet not found, ignoring\n",
      "retrieving tweets for user yimbyalliance\n",
      "265\n",
      "number of statuses for user: 1467\n",
      "number of retweets for user: 240\n",
      "tweet not found, ignoring\n",
      "tweet not found, ignoring\n",
      "tweet not found, ignoring\n",
      "tweet has not original status Id for some reason. ignoring.\n",
      "tweet not found, ignoring\n",
      "tweet not found, ignoring\n",
      "tweet not found, ignoring\n",
      "tweet not found, ignoring\n",
      "tweet not found, ignoring\n",
      "tweet not found, ignoring\n",
      "tweet not found, ignoring\n",
      "tweet not found, ignoring\n",
      "tweet not found, ignoring\n",
      "tweet not found, ignoring\n",
      "tweet not found, ignoring\n",
      "tweet not found, ignoring\n",
      "tweet not found, ignoring\n",
      "tweet not found, ignoring\n",
      "tweet not found, ignoring\n",
      "tweet not found, ignoring\n",
      "tweet not found, ignoring\n",
      "tweet not found, ignoring\n",
      "tweet not found, ignoring\n",
      "tweet not found, ignoring\n",
      "tweet not found, ignoring\n",
      "tweet not found, ignoring\n",
      "tweet not found, ignoring\n",
      "tweet not found, ignoring\n",
      "tweet not found, ignoring\n",
      "tweet not found, ignoring\n",
      "tweet not found, ignoring\n",
      "tweet not found, ignoring\n",
      "tweet not found, ignoring\n",
      "tweet not found, ignoring\n",
      "tweet not found, ignoring\n",
      "tweet has not original status Id for some reason. ignoring.\n",
      "tweet has not original status Id for some reason. ignoring.\n",
      "tweet has not original status Id for some reason. ignoring.\n",
      "tweet has not original status Id for some reason. ignoring.\n",
      "retrieving tweets for user dylanp\n",
      "30\n",
      "number of statuses for user: 785\n",
      "number of retweets for user: 16\n",
      "tweet access prohibited, ignoring\n",
      "retrieving tweets for user pv_reynolds\n",
      "14\n",
      "number of statuses for user: 1125\n",
      "number of retweets for user: 82\n",
      "tweet not found, ignoring\n",
      "status limit almost reached. need to pause for 472\n",
      "tweet not found, ignoring\n",
      "tweet has not original status Id for some reason. ignoring.\n",
      "tweet access prohibited, ignoring\n",
      "retrieving tweets for user LouisMMayo\n",
      "829\n",
      "number of statuses for user: 839\n",
      "number of retweets for user: 70\n",
      "tweet not found, ignoring\n",
      "tweet not found, ignoring\n",
      "tweet not found, ignoring\n",
      "tweet has not original status Id for some reason. ignoring.\n",
      "retrieving tweets for user jdeheij\n",
      "760\n",
      "number of statuses for user: 898\n",
      "number of retweets for user: 125\n",
      "retrieving tweets for user MuddyUrbanism\n",
      "635\n",
      "number of statuses for user: 0\n",
      "number of retweets for user: 0\n",
      "retrieving tweets for user OscarEllison\n",
      "635\n",
      "number of statuses for user: 122\n",
      "number of retweets for user: 17\n",
      "user has been suspended\n",
      "retrieving tweets for user pippacoom\n",
      "618\n",
      "number of statuses for user: 1549\n",
      "number of retweets for user: 288\n",
      "tweet has not original status Id for some reason. ignoring.\n",
      "tweet not found, ignoring\n",
      "tweet not found, ignoring\n",
      "tweet not found, ignoring\n",
      "tweet not found, ignoring\n",
      "retrieving tweets for user CityVisionNZ\n",
      "331\n",
      "number of statuses for user: 299\n",
      "number of retweets for user: 57\n",
      "tweet access prohibited, ignoring\n",
      "tweet not found, ignoring\n",
      "retrieving tweets for user simonbwilson\n",
      "274\n",
      "number of statuses for user: 1601\n",
      "number of retweets for user: 252\n",
      "tweet not found, ignoring\n",
      "tweet not found, ignoring\n",
      "tweet not found, ignoring\n",
      "user has been suspended\n",
      "user has been suspended\n",
      "tweet has not original status Id for some reason. ignoring.\n",
      "tweet not found, ignoring\n",
      "tweet not found, ignoring\n",
      "tweet not found, ignoring\n",
      "user has been suspended\n",
      "tweet not found, ignoring\n",
      "tweet not found, ignoring\n",
      "tweet not found, ignoring\n",
      "user has been suspended\n",
      "tweet not found, ignoring\n",
      "tweet not found, ignoring\n",
      "user has been suspended\n",
      "user has been suspended\n",
      "user has been suspended\n",
      "tweet not found, ignoring\n",
      "user has been suspended\n",
      "user has been suspended\n",
      "retrieving tweets for user RtHonBEnglish\n",
      "23\n",
      "number of statuses for user: 29\n",
      "number of retweets for user: 2\n",
      "retrieving tweets for user EastAklRail\n",
      "21\n",
      "number of statuses for user: 0\n",
      "number of retweets for user: 0\n",
      "retrieving tweets for user HeartOfAklCity\n",
      "21\n",
      "number of statuses for user: 52\n",
      "number of retweets for user: 8\n",
      "retrieving tweets for user AucklandTrains\n",
      "13\n",
      "number of statuses for user: 1925\n",
      "number of retweets for user: 32\n",
      "status limit almost reached. need to pause for 498\n",
      "tweet not found, ignoring\n",
      "tweet not found, ignoring\n",
      "retrieving tweets for user duncangreive\n",
      "877\n",
      "number of statuses for user: 1726\n",
      "number of retweets for user: 129\n",
      "spage error when trying to retrieve RT. continuing\n",
      "spage error when trying to retrieve RT. continuing\n",
      "spage error when trying to retrieve RT. continuing\n",
      "spage error when trying to retrieve RT. continuing\n",
      "tweet not found, ignoring\n",
      "tweet not found, ignoring\n",
      "tweet not found, ignoring\n",
      "spage error when trying to retrieve RT. continuing\n",
      "tweet has not original status Id for some reason. ignoring.\n",
      "spage error when trying to retrieve RT. continuing\n",
      "tweet has not original status Id for some reason. ignoring.\n",
      "spage error when trying to retrieve RT. continuing\n",
      "tweet has not original status Id for some reason. ignoring.\n",
      "tweet has not original status Id for some reason. ignoring.\n",
      "spage error when trying to retrieve RT. continuing\n",
      "retrieving tweets for user WomenInUrbanism\n",
      "752\n",
      "number of statuses for user: 403\n",
      "number of retweets for user: 48\n",
      "spage error when trying to retrieve RT. continuing\n",
      "tweet not found, ignoring\n",
      "tweet not found, ignoring\n",
      "tweet not found, ignoring\n",
      "retrieving tweets for user patrickgowernz\n",
      "704\n"
     ]
    },
    {
     "name": "stdout",
     "output_type": "stream",
     "text": [
      "number of statuses for user: 1380\n",
      "number of retweets for user: 343\n",
      "tweet not found, ignoring\n",
      "tweet not found, ignoring\n",
      "tweet not found, ignoring\n",
      "tweet not found, ignoring\n",
      "tweet access prohibited, ignoring\n",
      "tweet access prohibited, ignoring\n",
      "tweet not found, ignoring\n",
      "tweet not found, ignoring\n",
      "tweet not found, ignoring\n",
      "tweet has not original status Id for some reason. ignoring.\n",
      "retrieving tweets for user Grant_AAA\n",
      "362\n",
      "number of statuses for user: 1764\n",
      "number of retweets for user: 105\n",
      "tweet has not original status Id for some reason. ignoring.\n",
      "retrieving tweets for user OckhamRes_NZ\n",
      "258\n",
      "number of statuses for user: 19\n",
      "number of retweets for user: 5\n",
      "retrieving tweets for user HUDgovtnz\n",
      "253\n",
      "number of statuses for user: 81\n",
      "number of retweets for user: 8\n",
      "retrieving tweets for user GreaterAKL\n",
      "245\n",
      "number of statuses for user: 1383\n",
      "number of retweets for user: 258\n",
      "tweet access prohibited, ignoring\n",
      "tweet not found, ignoring\n",
      "tweet has not original status Id for some reason. ignoring.\n",
      "tweet not found, ignoring\n",
      "tweet not found, ignoring\n",
      "tweet not found, ignoring\n",
      "status limit almost reached. need to pause for 505\n",
      "retrieving tweets for user cayimby\n",
      "884\n",
      "number of statuses for user: 685\n",
      "number of retweets for user: 34\n",
      "tweet not found, ignoring\n",
      "retrieving tweets for user NZGreens\n",
      "850\n",
      "number of statuses for user: 1010\n",
      "number of retweets for user: 60\n",
      "tweet not found, ignoring\n",
      "user has been suspended\n",
      "tweet not found, ignoring\n",
      "tweet not found, ignoring\n",
      "retrieving tweets for user actparty\n",
      "790\n",
      "number of statuses for user: 272\n",
      "number of retweets for user: 62\n",
      "tweet access prohibited, ignoring\n",
      "retrieving tweets for user _chloeswarbrick\n",
      "728\n",
      "number of statuses for user: 1124\n",
      "number of retweets for user: 161\n",
      "tweet not found, ignoring\n",
      "tweet has not original status Id for some reason. ignoring.\n",
      "tweet not found, ignoring\n",
      "retrieving tweets for user dbseymour\n",
      "568\n",
      "number of statuses for user: 1551\n",
      "number of retweets for user: 121\n",
      "tweet not found, ignoring\n",
      "tweet access prohibited, ignoring\n",
      "tweet not found, ignoring\n",
      "tweet access prohibited, ignoring\n",
      "retrieving tweets for user nzinitiative\n",
      "447\n",
      "number of statuses for user: 1522\n",
      "number of retweets for user: 245\n",
      "tweet not found, ignoring\n",
      "tweet not found, ignoring\n",
      "tweet not found, ignoring\n",
      "tweet not found, ignoring\n",
      "retrieving tweets for user oliverhartwich\n",
      "202\n",
      "number of statuses for user: 128\n",
      "number of retweets for user: 20\n",
      "tweet not found, ignoring\n",
      "retrieving tweets for user jamespeshaw\n",
      "182\n",
      "number of statuses for user: 1399\n",
      "number of retweets for user: 236\n",
      "tweet not found, ignoring\n",
      "tweet not found, ignoring\n",
      "tweet not found, ignoring\n",
      "tweet has not original status Id for some reason. ignoring.\n",
      "tweet not found, ignoring\n",
      "status limit almost reached. need to pause for 485\n",
      "tweet has not original status Id for some reason. ignoring.\n",
      "tweet has not original status Id for some reason. ignoring.\n",
      "retrieving tweets for user PhilTwyford\n",
      "845\n",
      "number of statuses for user: 319\n",
      "number of retweets for user: 35\n",
      "tweet not found, ignoring\n",
      "tweet has not original status Id for some reason. ignoring.\n",
      "retrieving tweets for user toddmullerBoP\n",
      "811\n",
      "number of statuses for user: 476\n",
      "number of retweets for user: 131\n",
      "tweet not found, ignoring\n",
      "tweet access prohibited, ignoring\n",
      "tweet access prohibited, ignoring\n",
      "tweet not found, ignoring\n",
      "tweet not found, ignoring\n",
      "tweet not found, ignoring\n",
      "tweet has not original status Id for some reason. ignoring.\n",
      "retrieving tweets for user jacindaardern\n",
      "681\n",
      "number of statuses for user: 31\n",
      "number of retweets for user: 0\n"
     ]
    }
   ],
   "source": [
    "tweet_rt_pairs = get_users_tweets(userids_to_retrieve)"
   ]
  },
  {
   "cell_type": "code",
   "execution_count": null,
   "metadata": {},
   "outputs": [],
   "source": [
    "# try:\n",
    "#     original_tweet = api.get_status(s.quoted_status_id,tweet_mode='extended')\n",
    "# except tweepy.TweepError as tweep_error:\n",
    "#     print(tweep_error)\n",
    "#     te=tweep_error"
   ]
  },
  {
   "cell_type": "code",
   "execution_count": 59,
   "metadata": {},
   "outputs": [],
   "source": [
    "import pandas as pd\n",
    "\n",
    "tweet_rt_df = pd.DataFrame(tweet_rt_pairs)\n",
    "\n"
   ]
  },
  {
   "cell_type": "code",
   "execution_count": 60,
   "metadata": {},
   "outputs": [
    {
     "data": {
      "text/html": [
       "<div>\n",
       "<style scoped>\n",
       "    .dataframe tbody tr th:only-of-type {\n",
       "        vertical-align: middle;\n",
       "    }\n",
       "\n",
       "    .dataframe tbody tr th {\n",
       "        vertical-align: top;\n",
       "    }\n",
       "\n",
       "    .dataframe thead th {\n",
       "        text-align: right;\n",
       "    }\n",
       "</style>\n",
       "<table border=\"1\" class=\"dataframe\">\n",
       "  <thead>\n",
       "    <tr style=\"text-align: right;\">\n",
       "      <th></th>\n",
       "      <th>retweet_text</th>\n",
       "      <th>rt_author</th>\n",
       "      <th>original_text</th>\n",
       "      <th>original_author</th>\n",
       "    </tr>\n",
       "  </thead>\n",
       "  <tbody>\n",
       "    <tr>\n",
       "      <th>4402</th>\n",
       "      <td>Translated:\\n\\n✓ No eastern busway\\n✓ No rail ...</td>\n",
       "      <td>HendoWest</td>\n",
       "      <td>I believe Kiwis pay too much tax already. That...</td>\n",
       "      <td>simonjbridges</td>\n",
       "    </tr>\n",
       "    <tr>\n",
       "      <th>1168</th>\n",
       "      <td>we can offer a fourth. they still won't like i...</td>\n",
       "      <td>carla_org</td>\n",
       "      <td>CM Glover wants a 2nd opinion from another CEQ...</td>\n",
       "      <td>SantaCruzYIMBY</td>\n",
       "    </tr>\n",
       "    <tr>\n",
       "      <th>9522</th>\n",
       "      <td>Lol please don’t tell me this account is about...</td>\n",
       "      <td>Grant_AAA</td>\n",
       "      <td>For those who are confused this is something l...</td>\n",
       "      <td>HeartOfTakapuna</td>\n",
       "    </tr>\n",
       "    <tr>\n",
       "      <th>2683</th>\n",
       "      <td>There is an academic paper floating around how...</td>\n",
       "      <td>BenRoss_AKL</td>\n",
       "      <td>A witness to the latest Covid-19 border debacl...</td>\n",
       "      <td>radionz</td>\n",
       "    </tr>\n",
       "    <tr>\n",
       "      <th>3783</th>\n",
       "      <td>We're hatching plans to be best dressed for th...</td>\n",
       "      <td>DarbyatCouncil</td>\n",
       "      <td>An example playing out all across the country....</td>\n",
       "      <td>H20FrntDsgn</td>\n",
       "    </tr>\n",
       "  </tbody>\n",
       "</table>\n",
       "</div>"
      ],
      "text/plain": [
       "                                           retweet_text       rt_author  \\\n",
       "4402  Translated:\\n\\n✓ No eastern busway\\n✓ No rail ...       HendoWest   \n",
       "1168  we can offer a fourth. they still won't like i...       carla_org   \n",
       "9522  Lol please don’t tell me this account is about...       Grant_AAA   \n",
       "2683  There is an academic paper floating around how...     BenRoss_AKL   \n",
       "3783  We're hatching plans to be best dressed for th...  DarbyatCouncil   \n",
       "\n",
       "                                          original_text  original_author  \n",
       "4402  I believe Kiwis pay too much tax already. That...    simonjbridges  \n",
       "1168  CM Glover wants a 2nd opinion from another CEQ...   SantaCruzYIMBY  \n",
       "9522  For those who are confused this is something l...  HeartOfTakapuna  \n",
       "2683  A witness to the latest Covid-19 border debacl...          radionz  \n",
       "3783  An example playing out all across the country....      H20FrntDsgn  "
      ]
     },
     "execution_count": 60,
     "metadata": {},
     "output_type": "execute_result"
    }
   ],
   "source": [
    "tweet_rt_df.sample(5)"
   ]
  },
  {
   "cell_type": "code",
   "execution_count": 63,
   "metadata": {},
   "outputs": [
    {
     "ename": "NameError",
     "evalue": "name 'nrow' is not defined",
     "output_type": "error",
     "traceback": [
      "\u001b[0;31m---------------------------------------------------------------------------\u001b[0m",
      "\u001b[0;31mNameError\u001b[0m                                 Traceback (most recent call last)",
      "\u001b[0;32m<ipython-input-63-6d13dc9a535d>\u001b[0m in \u001b[0;36m<module>\u001b[0;34m\u001b[0m\n\u001b[0;32m----> 1\u001b[0;31m \u001b[0mnrow\u001b[0m\u001b[0;34m(\u001b[0m\u001b[0mtweet_rt_df\u001b[0m\u001b[0;34m)\u001b[0m\u001b[0;34m\u001b[0m\u001b[0;34m\u001b[0m\u001b[0m\n\u001b[0m",
      "\u001b[0;31mNameError\u001b[0m: name 'nrow' is not defined"
     ]
    }
   ],
   "source": [
    "nrow(tweet_rt_df)"
   ]
  },
  {
   "cell_type": "code",
   "execution_count": 61,
   "metadata": {},
   "outputs": [],
   "source": [
    "tweet_rt_df.to_csv(\"../data/housing_peeps_tweets_since2018.csv\")"
   ]
  },
  {
   "cell_type": "markdown",
   "metadata": {},
   "source": [
    "### Step 2. filter these to a training set"
   ]
  },
  {
   "cell_type": "code",
   "execution_count": null,
   "metadata": {},
   "outputs": [],
   "source": [
    "import pandas as pd\n",
    "tweet_rt_df = pd.read_csv(\"../data/housing_peeps_tweets.csv\")"
   ]
  },
  {
   "cell_type": "code",
   "execution_count": null,
   "metadata": {},
   "outputs": [],
   "source": [
    "tweet_rt_df"
   ]
  },
  {
   "cell_type": "code",
   "execution_count": 64,
   "metadata": {},
   "outputs": [],
   "source": [
    "from IPython.display import Markdown, display\n",
    "\n",
    "def printmd(string):\n",
    "    display(Markdown(string))"
   ]
  },
  {
   "cell_type": "code",
   "execution_count": 65,
   "metadata": {},
   "outputs": [],
   "source": [
    "def print_tweetrow_md(tweetrow):\n",
    "    printmd(\"**TWEET:**\")\n",
    "    printmd(tweetrow['original_text'])\n",
    "    printmd(\"*Retweet:*\")\n",
    "    printmd(tweetrow['retweet_text'])"
   ]
  },
  {
   "cell_type": "code",
   "execution_count": 66,
   "metadata": {},
   "outputs": [
    {
     "data": {
      "text/markdown": [
       "**TWEET:**"
      ],
      "text/plain": [
       "<IPython.core.display.Markdown object>"
      ]
     },
     "metadata": {},
     "output_type": "display_data"
    },
    {
     "data": {
      "text/markdown": [
       "@PaulBMcGill Halfway thru, very nice. Mild mushroom flavour and pleasing consistency a bit like firm tofu or well-cooked squid. I reckon it’d be good in a stir fry with some stronger flavours, but this recipe a good start... https://t.co/SNS3AO3eQE https://t.co/gqZiDfZVl8"
      ],
      "text/plain": [
       "<IPython.core.display.Markdown object>"
      ]
     },
     "metadata": {},
     "output_type": "display_data"
    },
    {
     "data": {
      "text/markdown": [
       "*Retweet:*"
      ],
      "text/plain": [
       "<IPython.core.display.Markdown object>"
      ]
     },
     "metadata": {},
     "output_type": "display_data"
    },
    {
     "data": {
      "text/markdown": [
       "@PtwoAus https://t.co/TEARNhYuFu https://t.co/vHDcXEzs08"
      ],
      "text/plain": [
       "<IPython.core.display.Markdown object>"
      ]
     },
     "metadata": {},
     "output_type": "display_data"
    },
    {
     "data": {
      "text/markdown": [
       "**TWEET:**"
      ],
      "text/plain": [
       "<IPython.core.display.Markdown object>"
      ]
     },
     "metadata": {},
     "output_type": "display_data"
    },
    {
     "data": {
      "text/markdown": [
       "@AklTransport Central Rd to Cardigan St - Stage 2? Please... for safety. Its the most dangerous part with the poor visibility due to high fences and dodgy intersections along the way."
      ],
      "text/plain": [
       "<IPython.core.display.Markdown object>"
      ]
     },
     "metadata": {},
     "output_type": "display_data"
    },
    {
     "data": {
      "text/markdown": [
       "*Retweet:*"
      ],
      "text/plain": [
       "<IPython.core.display.Markdown object>"
      ]
     },
     "metadata": {},
     "output_type": "display_data"
    },
    {
     "data": {
      "text/markdown": [
       "Cannot emphasize this enough, I have had several near misses on this stretch, one resulting in a damaged elbow. I have also seen a few spills. Compared with elsewhere on the NW (including the bit being upgraded) where I have had none. https://t.co/IbomFviXw5"
      ],
      "text/plain": [
       "<IPython.core.display.Markdown object>"
      ]
     },
     "metadata": {},
     "output_type": "display_data"
    },
    {
     "data": {
      "text/markdown": [
       "**TWEET:**"
      ],
      "text/plain": [
       "<IPython.core.display.Markdown object>"
      ]
     },
     "metadata": {},
     "output_type": "display_data"
    },
    {
     "data": {
      "text/markdown": [
       "TONIGHT at 6pm: @patrickgowernz will bring to light a significant discovery you need to know about https://t.co/QD3oqf5ZuC https://t.co/10WbYyQDBc"
      ],
      "text/plain": [
       "<IPython.core.display.Markdown object>"
      ]
     },
     "metadata": {},
     "output_type": "display_data"
    },
    {
     "data": {
      "text/markdown": [
       "*Retweet:*"
      ],
      "text/plain": [
       "<IPython.core.display.Markdown object>"
      ]
     },
     "metadata": {},
     "output_type": "display_data"
    },
    {
     "data": {
      "text/markdown": [
       "Full story here: https://t.co/ilvEu4f7Pb https://t.co/vfhrM1p263"
      ],
      "text/plain": [
       "<IPython.core.display.Markdown object>"
      ]
     },
     "metadata": {},
     "output_type": "display_data"
    },
    {
     "data": {
      "text/markdown": [
       "**TWEET:**"
      ],
      "text/plain": [
       "<IPython.core.display.Markdown object>"
      ]
     },
     "metadata": {},
     "output_type": "display_data"
    },
    {
     "data": {
      "text/markdown": [
       "Victoria University not yet ready to give up the name change fight https://t.co/69jv3fHObp https://t.co/BADbui3yhW"
      ],
      "text/plain": [
       "<IPython.core.display.Markdown object>"
      ]
     },
     "metadata": {},
     "output_type": "display_data"
    },
    {
     "data": {
      "text/markdown": [
       "*Retweet:*"
      ],
      "text/plain": [
       "<IPython.core.display.Markdown object>"
      ]
     },
     "metadata": {},
     "output_type": "display_data"
    },
    {
     "data": {
      "text/markdown": [
       "Disappointing. I'm urging the University to do the right thing here.  It's time to put the name-change idea to one side and instead tap into the huge goodwill students, alumni and the Wellington community have for Vic. Let's work together on the issues that matter.  #StickWithVic https://t.co/e8ZAE0vVQo"
      ],
      "text/plain": [
       "<IPython.core.display.Markdown object>"
      ]
     },
     "metadata": {},
     "output_type": "display_data"
    },
    {
     "data": {
      "text/markdown": [
       "**TWEET:**"
      ],
      "text/plain": [
       "<IPython.core.display.Markdown object>"
      ]
     },
     "metadata": {},
     "output_type": "display_data"
    },
    {
     "data": {
      "text/markdown": [
       "Hard not to like these pop-up lanes on Tamaki Drive - please value our safety over the storage of vehicles @AklTransport https://t.co/vAksVxbPR3"
      ],
      "text/plain": [
       "<IPython.core.display.Markdown object>"
      ]
     },
     "metadata": {},
     "output_type": "display_data"
    },
    {
     "data": {
      "text/markdown": [
       "*Retweet:*"
      ],
      "text/plain": [
       "<IPython.core.display.Markdown object>"
      ]
     },
     "metadata": {},
     "output_type": "display_data"
    },
    {
     "data": {
      "text/markdown": [
       "The difference 3 days makes - pop ups gone - shared path full of road signs for vehicles. All hail 6 lanes for motor vehicles and trucks @AklTransport 🤯🤯 https://t.co/iM1sEOcP5i https://t.co/ECSErpQUZi"
      ],
      "text/plain": [
       "<IPython.core.display.Markdown object>"
      ]
     },
     "metadata": {},
     "output_type": "display_data"
    }
   ],
   "source": [
    "for i,row in tweet_rt_df.sample(5).iterrows():\n",
    "    print_tweetrow_md(row)"
   ]
  },
  {
   "cell_type": "code",
   "execution_count": null,
   "metadata": {},
   "outputs": [],
   "source": [
    "housing_tweets = [\n",
    "    t['original_text'] for t in tweet_rt_df.iterrows()\n",
    "for i,row in tweet_rt_df.sample(5).iterrows():\n",
    "    printmd(\"**TWEET:**\")\n",
    "    printmd(row['original_text'])\n",
    "    printmd(\"*Retweet:*\")\n",
    "    printmd(row['retweet_text'])"
   ]
  },
  {
   "cell_type": "markdown",
   "metadata": {},
   "source": [
    "hmm, most of these tweets aren't related to housing. Maybe that's OK. But what if we applied the same filter we applied to the actual tweets?\n",
    "\n",
    "#### Matching tweets only"
   ]
  },
  {
   "cell_type": "code",
   "execution_count": 67,
   "metadata": {},
   "outputs": [
    {
     "name": "stderr",
     "output_type": "stream",
     "text": [
      "/Users/benjaminsmith/anaconda/envs/tweetenv/lib/python3.7/site-packages/pandas/core/strings.py:1954: UserWarning: This pattern has match groups. To actually get the groups, use str.extract.\n",
      "  return func(self, *args, **kwargs)\n"
     ]
    }
   ],
   "source": [
    "matching_tweet_vector = tweet_rt_df['original_text'].str.contains('(housing|homeless|RMA)')"
   ]
  },
  {
   "cell_type": "code",
   "execution_count": 68,
   "metadata": {},
   "outputs": [],
   "source": [
    "matching_tweets = tweet_rt_df[matching_tweet_vector]"
   ]
  },
  {
   "cell_type": "code",
   "execution_count": 70,
   "metadata": {},
   "outputs": [
    {
     "data": {
      "text/plain": [
       "(532, 4)"
      ]
     },
     "execution_count": 70,
     "metadata": {},
     "output_type": "execute_result"
    }
   ],
   "source": [
    "matching_tweets.shape"
   ]
  },
  {
   "cell_type": "code",
   "execution_count": null,
   "metadata": {},
   "outputs": [],
   "source": []
  },
  {
   "cell_type": "code",
   "execution_count": 69,
   "metadata": {},
   "outputs": [
    {
     "data": {
      "text/markdown": [
       "**TWEET:**"
      ],
      "text/plain": [
       "<IPython.core.display.Markdown object>"
      ]
     },
     "metadata": {},
     "output_type": "display_data"
    },
    {
     "data": {
      "text/markdown": [
       "Many #LosAngeles motels could be converted to provide short term #housing: https://t.co/isCsz75eZe @KPCC @KPCCrina911 #homelessness #Homeless #news"
      ],
      "text/plain": [
       "<IPython.core.display.Markdown object>"
      ]
     },
     "metadata": {},
     "output_type": "display_data"
    },
    {
     "data": {
      "text/markdown": [
       "*Retweet:*"
      ],
      "text/plain": [
       "<IPython.core.display.Markdown object>"
      ]
     },
     "metadata": {},
     "output_type": "display_data"
    },
    {
     "data": {
      "text/markdown": [
       "Yes! Along with the PSH ordinance, this is a great streamlining bill to speed up provision of housing for homeless Angelenos https://t.co/0d66mYFigp"
      ],
      "text/plain": [
       "<IPython.core.display.Markdown object>"
      ]
     },
     "metadata": {},
     "output_type": "display_data"
    },
    {
     "data": {
      "text/markdown": [
       "**TWEET:**"
      ],
      "text/plain": [
       "<IPython.core.display.Markdown object>"
      ]
     },
     "metadata": {},
     "output_type": "display_data"
    },
    {
     "data": {
      "text/markdown": [
       "Porirua Growth Strategy is out for public feedback. On our blog, guest poster Tam Holsen finds it detail-rich on greenfield housing development but undercooked on densification or intensification &amp; wonders if her city is missing a trick: https://t.co/gGlFYzsGcw #urbanism #Porirua"
      ],
      "text/plain": [
       "<IPython.core.display.Markdown object>"
      ]
     },
     "metadata": {},
     "output_type": "display_data"
    },
    {
     "data": {
      "text/markdown": [
       "*Retweet:*"
      ],
      "text/plain": [
       "<IPython.core.display.Markdown object>"
      ]
     },
     "metadata": {},
     "output_type": "display_data"
    },
    {
     "data": {
      "text/markdown": [
       "Great to see the YIMBY movement reaching NZ, with pointers to @londonyimby and @brendon_harre https://t.co/BlKJtpPd8g"
      ],
      "text/plain": [
       "<IPython.core.display.Markdown object>"
      ]
     },
     "metadata": {},
     "output_type": "display_data"
    },
    {
     "data": {
      "text/markdown": [
       "**TWEET:**"
      ],
      "text/plain": [
       "<IPython.core.display.Markdown object>"
      ]
     },
     "metadata": {},
     "output_type": "display_data"
    },
    {
     "data": {
      "text/markdown": [
       "My book #GoldenGates mixes journalism, history and narrative to show how housing sins of the past led to the housing reality today. I’ve done a number or excerpts (yet still managed to hold so much back for the book). Here is a piece for Time: https://t.co/4qnBrfU7CQ"
      ],
      "text/plain": [
       "<IPython.core.display.Markdown object>"
      ]
     },
     "metadata": {},
     "output_type": "display_data"
    },
    {
     "data": {
      "text/markdown": [
       "*Retweet:*"
      ],
      "text/plain": [
       "<IPython.core.display.Markdown object>"
      ]
     },
     "metadata": {},
     "output_type": "display_data"
    },
    {
     "data": {
      "text/markdown": [
       "Tune in to the YIMBY Slack tomorrow at 1pm for a live \"Ask me Anything\" with @ConorDougherty. He definitely wants you to ask about the Obama thing.\n",
       "\n",
       "https://t.co/DhmUwhSP6I https://t.co/jqGJql7NfF"
      ],
      "text/plain": [
       "<IPython.core.display.Markdown object>"
      ]
     },
     "metadata": {},
     "output_type": "display_data"
    },
    {
     "data": {
      "text/markdown": [
       "**TWEET:**"
      ],
      "text/plain": [
       "<IPython.core.display.Markdown object>"
      ]
     },
     "metadata": {},
     "output_type": "display_data"
    },
    {
     "data": {
      "text/markdown": [
       "The 2020 Greater LA Homeless Count results are out today. Here are some of the main takeaways.\n",
       "\n",
       "Learn more about the count and what the numbers mean at https://t.co/1F0UVYPgqi\n",
       "\n",
       "#homelesscount #homelesscountLA #homelesscount2020 https://t.co/CqJRw0eg05"
      ],
      "text/plain": [
       "<IPython.core.display.Markdown object>"
      ]
     },
     "metadata": {},
     "output_type": "display_data"
    },
    {
     "data": {
      "text/markdown": [
       "*Retweet:*"
      ],
      "text/plain": [
       "<IPython.core.display.Markdown object>"
      ]
     },
     "metadata": {},
     "output_type": "display_data"
    },
    {
     "data": {
      "text/markdown": [
       "I would like to see my taxpayer $ go toward affordable/permanent supportive housing instead of police. #CareNotCops #PeoplesBudgetLA https://t.co/6rzWq1Dzzx"
      ],
      "text/plain": [
       "<IPython.core.display.Markdown object>"
      ]
     },
     "metadata": {},
     "output_type": "display_data"
    },
    {
     "data": {
      "text/markdown": [
       "**TWEET:**"
      ],
      "text/plain": [
       "<IPython.core.display.Markdown object>"
      ]
     },
     "metadata": {},
     "output_type": "display_data"
    },
    {
     "data": {
      "text/markdown": [
       "Here are slides from my recent talks, \"Housing Element Law for YIMBYs (10 ways to do it better),\" https://t.co/7uC8bXBdlM. This thread sums it up. All stuff that can be done administratively under CA law which requires local govts to plan for regional housing need."
      ],
      "text/plain": [
       "<IPython.core.display.Markdown object>"
      ]
     },
     "metadata": {},
     "output_type": "display_data"
    },
    {
     "data": {
      "text/markdown": [
       "*Retweet:*"
      ],
      "text/plain": [
       "<IPython.core.display.Markdown object>"
      ]
     },
     "metadata": {},
     "output_type": "display_data"
    },
    {
     "data": {
      "text/markdown": [
       "Some quality content for your Thursday. #YIMBY #ThursdayThoughts \n",
       "\n",
       "Thank you @CSElmendorf for sharing your work! https://t.co/U5P3sbtYoz"
      ],
      "text/plain": [
       "<IPython.core.display.Markdown object>"
      ]
     },
     "metadata": {},
     "output_type": "display_data"
    }
   ],
   "source": [
    "for i,row in matching_tweets.sample(5).iterrows():\n",
    "    print_tweetrow_md(row)"
   ]
  },
  {
   "cell_type": "markdown",
   "metadata": {},
   "source": [
    "\n",
    "We can go several directions on this:\n",
    "\n",
    "1. Filter to users who had a tweet matching our filter. Get all their mutual followers. Check mutual follows' RTs; include their housing tweets. Then repeat the process.\n",
    "2. Identify people who were retweeted. Include them in our database, looking for their tweets. Repeat the process with them.\n",
    "\n",
    "I'm going to try the first approach. I think approach (2), simply identifying people whose tweets are topical, might be too broad."
   ]
  },
  {
   "cell_type": "markdown",
   "metadata": {},
   "source": [
    "#### Approach 1"
   ]
  },
  {
   "cell_type": "code",
   "execution_count": null,
   "metadata": {},
   "outputs": [],
   "source": [
    "import numpy as np"
   ]
  },
  {
   "cell_type": "code",
   "execution_count": null,
   "metadata": {},
   "outputs": [],
   "source": [
    "housing_tweeters = np.unique(np.concatenate([matching_tweets.rt_author.unique(),(matching_tweets.original_author.unique())]))"
   ]
  },
  {
   "cell_type": "code",
   "execution_count": null,
   "metadata": {},
   "outputs": [],
   "source": [
    "housing_tweeters"
   ]
  },
  {
   "cell_type": "code",
   "execution_count": null,
   "metadata": {},
   "outputs": [],
   "source": [
    "api.get_followers_ids()"
   ]
  },
  {
   "cell_type": "code",
   "execution_count": null,
   "metadata": {},
   "outputs": [],
   "source": [
    "res=api.friends_ids(screen_names=['curiouskiwicat'])"
   ]
  },
  {
   "cell_type": "code",
   "execution_count": null,
   "metadata": {},
   "outputs": [],
   "source": []
  },
  {
   "cell_type": "code",
   "execution_count": null,
   "metadata": {},
   "outputs": [],
   "source": [
    "def get_followers(user_id):\n",
    "    user_ids = []\n",
    "    page_count = 0\n",
    "    for userid in tweepy.Cursor(api.followers_ids, id=user_id, count=5000,include_user_entities=False).pages():\n",
    "        print(api.rate_limit_status()['resources']['followers'])\n",
    "        start=time.perf_counter()\n",
    "        page_count += 1\n",
    "        print(f'Getting page {page_count} for followers')\n",
    "        print(userid)\n",
    "        user_ids.extend(userid)\n",
    "        end= time.perf_counter()\n",
    "        #iterate through a maximum of 400 users per second\n",
    "        duration=end-start\n",
    "        if(duration<1):\n",
    "            time.sleep(1-duration)\n",
    "    return user_ids\n",
    "\n",
    "\n",
    "def get_friends(user_id):\n",
    "    user_ids = []\n",
    "    page_count = 0\n",
    "    for userid in tweepy.Cursor(api.friends_ids, id=user_id, count=5000,include_user_entities=False).pages():\n",
    "        print(api.rate_limit_status()['resources']['followers'])\n",
    "        page_count += 1\n",
    "        print(userid)\n",
    "        print(f'Getting page {page_count} for friends')\n",
    "        user_ids.extend(userid)\n",
    "    return user_ids"
   ]
  },
  {
   "cell_type": "code",
   "execution_count": null,
   "metadata": {},
   "outputs": [],
   "source": [
    "rls=api.rate_limit_status()"
   ]
  },
  {
   "cell_type": "code",
   "execution_count": null,
   "metadata": {},
   "outputs": [],
   "source": [
    "rls['resources']['followers']"
   ]
  },
  {
   "cell_type": "code",
   "execution_count": null,
   "metadata": {},
   "outputs": [],
   "source": [
    "rls['resources']"
   ]
  },
  {
   "cell_type": "code",
   "execution_count": null,
   "metadata": {},
   "outputs": [],
   "source": [
    "users_of_interest = housing_tweeters\n",
    "new_users_of_interest=[]\n",
    "for i,u in enumerate(users_of_interest):\n",
    "    print(f\"{i} of {len(users_of_interest)}\")\n",
    "    #followers = get_followers(u)\n",
    "    friends = get_friends(u)\n",
    "    mutuals = set(friends).intersection(followers)\n",
    "    new_users_of_interest = new_users_of_interest + list(mutuals)"
   ]
  },
  {
   "cell_type": "markdown",
   "metadata": {},
   "source": [
    "This is not going to work because we get rate limited. I'm only able to do as many as 15 follower and friend listings before I get rate limited.\n",
    "\n",
    "#### Approach 2\n",
    "\n",
    "I could instead just look at the second approach - just getting people who were RT'd by the original user. Ideally we look at ALL those who were retweeted, not just the ones talking about housing. However, because we are rate limited, it is probably better to limit to just the retweets about housing."
   ]
  },
  {
   "cell_type": "code",
   "execution_count": 71,
   "metadata": {},
   "outputs": [],
   "source": [
    "next_pass_of_users=matching_tweets.original_author.unique()"
   ]
  },
  {
   "cell_type": "code",
   "execution_count": 72,
   "metadata": {},
   "outputs": [
    {
     "data": {
      "text/plain": [
       "array(['matpottinger', 'radionz', 'Royal_Greenwich', 'TheMurkyDepths',\n",
       "       'AbundantHomeLDN', 'PeteApps', 'LabourHousing', 'russellcurtis',\n",
       "       'GoodwinMJ', 'SkyNews', 'RobertKwolek', 'tomcopley', 'AntBreach',\n",
       "       'winkybiker', 'BDonline', 'CentreforCities', 'tomravenscroft',\n",
       "       'geographyjim', 'Apex_airspace', 'Leo_Pollak', 'tperry518',\n",
       "       'CamdenCouncil', 'wfcouncil', 'AFL_tweet', 'stockwool',\n",
       "       'terraplanner', 'WalnutParkLA', 'UrbanEnviroCA', 'louismirante',\n",
       "       'CarterRubin', 'StanleyMJohnson', 'esgarciaa', 'graysonapeters',\n",
       "       'Planning4LA', 'AyannaPressley', 'beyondchron', 'LeftistConnor',\n",
       "       'AbundantHousing', 'nkburns3', 'CSElmendorf', 'Up4Growth',\n",
       "       'AmyDoraMD', 'anthonydedousis', 'SophiaBush', 'SDGaction',\n",
       "       'LosAngelesFwd', 'AOC', 'SonjaTrauss', 'AbundantHomesMA',\n",
       "       'Scott_Wiener', 'ahvancouver', 'mlevinreports', 'CurbedLA',\n",
       "       'BarackObama', 'MikeBoninLA', 'SenGonzalez_33', 'DavidZahniser',\n",
       "       'DotKohlhaas', 'ShaneDPhillips', 'dillonliam', 'anniefryman',\n",
       "       'CamnerLeonora', 'MayorOfLA', 'jasonislas', 'cayimby', 'elpaavo',\n",
       "       'calwatch', 'markvalli', 'BrentGaisford', 'UrbanizeLA',\n",
       "       'AlexFischCC', 'Ben_J_Winter', 'chrissmithus', 'HousingOC',\n",
       "       'Dan_Rinzler', 'LAist', 'katherineeinst', 'kimberlysfox',\n",
       "       'SierraClubSEA', 'naehomelessness', 'expolineledger',\n",
       "       'MattRegan10', 'latimesopinion', 'jondearing', 'RobertGarciaLB',\n",
       "       'VamonosLA', 'LATpoliticsCA', 'randlev', 'latimes',\n",
       "       'CityAttorneyLA', 'hanlonbt', 'Cupertino4All', 'aceckhouse',\n",
       "       'kookie13', 'dylan_casey12', 'theoverheadwire', 'carla_org',\n",
       "       'IDoTheThinking', 'about_dave', 'CarterLavin', 'KartikGadaATOM',\n",
       "       'AGBecerra', 'sashaperigo', 'alfred_twu', 'KrampusSnail',\n",
       "       '43rdparallel', 'cafedujord', 'DaytonPubPolicy', 'NancySkinnerCA',\n",
       "       'JalbyMD', 'mateosfo', 'kimmaicutler', 'asastrout', 'berkeleyside',\n",
       "       'AaronPeskin', 'BenRossTransit', 'TribTowerViews', 'hlc_sanmateo',\n",
       "       'marinforgrowth', 'SVatHome', 'FactChecker23', 'pushtheneedle',\n",
       "       'agcotter', 'wendy_waters', 'jfatkey', 'HenryKraemer',\n",
       "       'fabulavancouver', 'StreetsblogMASS', 'cbcnewsbc', 'laureljeanine',\n",
       "       'fumano', 'Ben_coli', 'j_mcelroy', 'VanCourierNews', 'JenStDen',\n",
       "       'LetsFixHousing', 'ShaunaSylvester', 'alexbozikovic',\n",
       "       'LondonBreed', 'TheresaMcManus', 'kenpaquette', 'Renee1130',\n",
       "       'VaughnPalmer', 'MSPyimby', 'VKNDP', 'StewartPrest', 'LAHomeless',\n",
       "       'Acosta', 'realDonaldTrump', 'DavidChiu', 'dagarciajr',\n",
       "       'MarisaKendall', 'lae_sf', 'PhilTing', 'CirbReport', 'adrianfine',\n",
       "       'TECollab', 'LarsonMP', 'JulianCastro', 'loridroste', 'jdawsey1',\n",
       "       'AndrewFeinberg', 'NZcivildefence', 'matty_prasad',\n",
       "       'RosieMicklegate', 'TheAtlantic', 'scottlincicome', 'dhmorris',\n",
       "       'RMarchNZ', 'barbarikkizzle', 'FrankMcRae', 'fascismdad',\n",
       "       'kilbrniesanders', 'BenRoss_AKL', 'ColourMeFiji', 'SuzanneRobins1',\n",
       "       'DallasRogers101', 'cjsbishop', 'HomeBuyerClub', 'chamfy',\n",
       "       'CityLab', 'NicolaWillisMP', 'henrycooke', 'luke_wijohn',\n",
       "       'YoungGreensNZ', 'Public_Citizen', 'NZStuffPolitics', 'cjhamblin',\n",
       "       'brendon_harre', 'DrMichaelReid', 'HelenClarkNZ', 'Orla_Hegarty',\n",
       "       'TeriONeillNZ', 'CAgovernor', 'five15design', 'kirsty_johnston',\n",
       "       'NZAllison', 'MarkThomasNZ', 'MaramaDavidson', 'LifewiseNZ',\n",
       "       'PlatformTrust', 'SalvationArmyNZ', 'lgnz', 'DeItaOne',\n",
       "       'marcdaalder', 'econhedge', 'ecomanda', 'kiwieconomics',\n",
       "       'iwik8816', 'kumararepublic', 'EricCrampton', 'NewsroomNZ',\n",
       "       'Birdyword', 'geoffsimmonz', 'adam_tooze', 'NZStuff', 'kiangoh',\n",
       "       'bbqr0ast', 'bradlander', 'kentslundberg', 'secvalve', 'reidwicks',\n",
       "       'DrCameronMurray', 'MikeLindblom', 'NzHomeless', 'coughlthom',\n",
       "       'dbseymour', 'JeneeTibshraeny', 'golrizghahraman', 'A_G_Hawkins',\n",
       "       'TheSpinoffTV', 'laura_oc_rapira', 'robellcampbin', 'iain_white',\n",
       "       'simonbwilson', 'UNGeneva', 'nzlabour', 'jaackiepaul',\n",
       "       'urbanadvisory', 'leilanifarha', 'HUDgovtnz', 'regstud',\n",
       "       'BrentToderian', 'KaysHistory', 'moturesearch', 'rnz_news',\n",
       "       'JamesBerghan', 'StreetsblogUSA', 'ninetonoon', 'buildbetternz',\n",
       "       'Phil_PJA', 'GoodSenseMktg', 'DarrenDavis10', 'NextCityOrg',\n",
       "       'NZGBC', 'nzherald', 'MFarmer_Resi', 'CheckpointRNZ', 'CEEexeter',\n",
       "       'BRANZlive', 'via_arch', 'PassiveHouseBB', 'ansellundberg',\n",
       "       'maustermuhle', 'dianeyentel', 'yimbyaction', 'ericpanzer',\n",
       "       'OpenNYForAll', 'BuffyWicks', 'SactownTalks', 'gisellemarie',\n",
       "       'NeverSassyLaura', 'ConorDougherty', 'emilymbadger',\n",
       "       'Bobakkabob37', 'wafoli', 'YIMBYTempe', 'kristoncapps',\n",
       "       'thecliffbar', 'NPHANC', 'TernerHousing', 'jenny_schuetz',\n",
       "       'davidcying', 'Pass3PsCA', 'willrk787', 'pydems', 'SenWarren',\n",
       "       'jamilnkhan', 'RepDennyHeck', 'Chris_Wood0', 'MKorevaar93',\n",
       "       'PrincesFound', 'MattWGriffith', 'CapX', 'sbcrosscountry',\n",
       "       'TalkWelly', 'sfchronicle', 'LSEInequalities', 'yimbyalliance',\n",
       "       'trustforlondon', 'iealondon', 'Jphsmith', 'BristolYIMBY',\n",
       "       'HistoricEngland', 'homelessimpact', 'ThinkhouseInfo',\n",
       "       'housingevidence', 'rtpiknowledge', 'GreaterAKL', 'HomelessDay',\n",
       "       'ryanmearns', 'sharkpatu', 'Jay_Pitter', 'PhilTwyford',\n",
       "       'HousingFirstNZ', 'Stats_NZ', 'ChChMethodistMn', 'nzinitiative',\n",
       "       'NewshubNationNZ', '_chloeswarbrick', 'NewshubNZ', 'NewstalkZB',\n",
       "       'jacindaardern', 'NZStuffBusiness', 'nzlistener', 'jamespeshaw',\n",
       "       'NZGreens', 'phil_goff', 'urbanizationist', 'MBIEgovtnz'],\n",
       "      dtype=object)"
      ]
     },
     "execution_count": 72,
     "metadata": {},
     "output_type": "execute_result"
    }
   ],
   "source": [
    "next_pass_of_users"
   ]
  },
  {
   "cell_type": "markdown",
   "metadata": {},
   "source": [
    "right, now we iterate through them"
   ]
  },
  {
   "cell_type": "code",
   "execution_count": 73,
   "metadata": {},
   "outputs": [
    {
     "name": "stdout",
     "output_type": "stream",
     "text": [
      "retrieving tweets for user matpottinger\n",
      "900\n",
      "number of statuses for user: 684\n",
      "number of retweets for user: 18\n",
      "retrieving tweets for user radionz\n",
      "882\n",
      "number of statuses for user: 1712\n",
      "number of retweets for user: 101\n",
      "retrieving tweets for user Royal_Greenwich\n",
      "781\n",
      "number of statuses for user: 1758\n",
      "number of retweets for user: 38\n",
      "retrieving tweets for user TheMurkyDepths\n",
      "743\n",
      "number of statuses for user: 1199\n",
      "number of retweets for user: 231\n",
      "tweet not found, ignoring\n",
      "tweet not found, ignoring\n",
      "spage error when trying to retrieve RT. continuing\n",
      "spage error when trying to retrieve RT. continuing\n",
      "tweet not found, ignoring\n",
      "tweet not found, ignoring\n",
      "tweet not found, ignoring\n",
      "retrieving tweets for user AbundantHomeLDN\n",
      "512\n",
      "number of statuses for user: 973\n",
      "number of retweets for user: 304\n",
      "tweet not found, ignoring\n",
      "tweet not found, ignoring\n",
      "tweet not found, ignoring\n",
      "tweet not found, ignoring\n",
      "tweet not found, ignoring\n",
      "spage error when trying to retrieve RT. continuing\n",
      "tweet not found, ignoring\n",
      "tweet not found, ignoring\n",
      "retrieving tweets for user PeteApps\n",
      "208\n",
      "number of statuses for user: 1611\n",
      "number of retweets for user: 107\n",
      "tweet not found, ignoring\n",
      "user has been suspended\n",
      "tweet not found, ignoring\n",
      "tweet not found, ignoring\n",
      "tweet not found, ignoring\n",
      "retrieving tweets for user LabourHousing\n",
      "101\n",
      "number of statuses for user: 173\n",
      "number of retweets for user: 23\n",
      "retrieving tweets for user russellcurtis\n",
      "78\n",
      "number of statuses for user: 1874\n",
      "number of retweets for user: 59\n",
      "tweet not found, ignoring\n",
      "tweet not found, ignoring\n",
      "tweet not found, ignoring\n",
      "retrieving tweets for user GoodwinMJ\n",
      "19\n",
      "number of statuses for user: 1734\n",
      "number of retweets for user: 108\n",
      "tweet not found, ignoring\n",
      "status limit almost reached. need to pause for 391\n",
      "tweet not found, ignoring\n",
      "tweet not found, ignoring\n",
      "tweet not found, ignoring\n",
      "retrieving tweets for user SkyNews\n",
      "807\n",
      "number of statuses for user: 1943\n",
      "number of retweets for user: 0\n",
      "retrieving tweets for user RobertKwolek\n",
      "807\n",
      "number of statuses for user: 1561\n",
      "number of retweets for user: 68\n",
      "tweet access prohibited, ignoring\n",
      "tweet not found, ignoring\n",
      "tweet not found, ignoring\n",
      "retrieving tweets for user tomcopley\n",
      "739\n",
      "number of statuses for user: 1091\n",
      "number of retweets for user: 219\n",
      "tweet access prohibited, ignoring\n",
      "spage error when trying to retrieve RT. continuing\n",
      "retrieving tweets for user AntBreach\n",
      "520\n",
      "number of statuses for user: 1569\n",
      "number of retweets for user: 185\n",
      "tweet not found, ignoring\n",
      "tweet not found, ignoring\n",
      "tweet access prohibited, ignoring\n",
      "tweet has not original status Id for some reason. ignoring.\n",
      "retrieving tweets for user winkybiker\n",
      "336\n",
      "number of statuses for user: 1903\n",
      "number of retweets for user: 43\n",
      "tweet not found, ignoring\n",
      "retrieving tweets for user BDonline\n",
      "293\n",
      "number of statuses for user: 1721\n",
      "number of retweets for user: 6\n",
      "retrieving tweets for user CentreforCities\n",
      "287\n",
      "number of statuses for user: 1692\n",
      "number of retweets for user: 112\n",
      "retrieving tweets for user tomravenscroft\n",
      "175\n",
      "number of statuses for user: 1485\n",
      "number of retweets for user: 75\n",
      "tweet not found, ignoring\n",
      "retrieving tweets for user geographyjim\n",
      "100\n",
      "number of statuses for user: 1269\n",
      "number of retweets for user: 121\n",
      "tweet not found, ignoring\n",
      "status limit almost reached. need to pause for 379\n",
      "tweet has not original status Id for some reason. ignoring.\n",
      "tweet has not original status Id for some reason. ignoring.\n",
      "tweet has not original status Id for some reason. ignoring.\n",
      "tweet has not original status Id for some reason. ignoring.\n",
      "tweet has not original status Id for some reason. ignoring.\n",
      "retrieving tweets for user Apex_airspace\n",
      "880\n",
      "number of statuses for user: 317\n",
      "number of retweets for user: 47\n",
      "tweet not found, ignoring\n",
      "tweet not found, ignoring\n",
      "tweet has not original status Id for some reason. ignoring.\n",
      "retrieving tweets for user Leo_Pollak\n",
      "834\n",
      "number of statuses for user: 609\n",
      "number of retweets for user: 109\n",
      "tweet not found, ignoring\n",
      "tweet not found, ignoring\n",
      "tweet access prohibited, ignoring\n",
      "tweet not found, ignoring\n",
      "retrieving tweets for user tperry518\n",
      "725\n",
      "number of statuses for user: 733\n",
      "number of retweets for user: 53\n",
      "tweet not found, ignoring\n",
      "tweet not found, ignoring\n",
      "retrieving tweets for user CamdenCouncil\n",
      "672\n",
      "number of statuses for user: 1549\n",
      "number of retweets for user: 63\n",
      "tweet not found, ignoring\n",
      "tweet not found, ignoring\n",
      "retrieving tweets for user wfcouncil\n",
      "609\n",
      "number of statuses for user: 1891\n",
      "number of retweets for user: 77\n",
      "tweet not found, ignoring\n",
      "retrieving tweets for user AFL_tweet\n",
      "532\n",
      "number of statuses for user: 235\n",
      "number of retweets for user: 8\n",
      "retrieving tweets for user stockwool\n",
      "524\n",
      "number of statuses for user: 242\n",
      "number of retweets for user: 8\n",
      "retrieving tweets for user terraplanner\n",
      "516\n",
      "number of statuses for user: 1829\n",
      "number of retweets for user: 123\n",
      "tweet not found, ignoring\n",
      "tweet not found, ignoring\n",
      "tweet not found, ignoring\n",
      "tweet has not original status Id for some reason. ignoring.\n",
      "retrieving tweets for user WalnutParkLA\n",
      "394\n",
      "number of statuses for user: 13\n",
      "number of retweets for user: 6\n",
      "retrieving tweets for user UrbanEnviroCA\n",
      "388\n",
      "number of statuses for user: 570\n",
      "number of retweets for user: 124\n",
      "tweet has not original status Id for some reason. ignoring.\n",
      "tweet not found, ignoring\n",
      "retrieving tweets for user louismirante\n",
      "265\n",
      "number of statuses for user: 1433\n",
      "number of retweets for user: 120\n",
      "tweet not found, ignoring\n",
      "tweet not found, ignoring\n",
      "tweet not found, ignoring\n",
      "tweet not found, ignoring\n",
      "retrieving tweets for user CarterRubin\n",
      "145\n",
      "number of statuses for user: 787\n",
      "number of retweets for user: 155\n",
      "tweet not found, ignoring\n",
      "spage error when trying to retrieve RT. continuing\n",
      "tweet not found, ignoring\n",
      "tweet not found, ignoring\n",
      "status limit almost reached. need to pause for 402\n",
      "retrieving tweets for user StanleyMJohnson\n",
      "886\n",
      "number of statuses for user: 647\n",
      "number of retweets for user: 21\n",
      "user has been suspended\n",
      "retrieving tweets for user esgarciaa\n",
      "865\n",
      "number of statuses for user: 340\n",
      "number of retweets for user: 64\n",
      "tweet not found, ignoring\n",
      "tweet not found, ignoring\n",
      "retrieving tweets for user graysonapeters\n",
      "801\n",
      "number of statuses for user: 411\n",
      "number of retweets for user: 68\n",
      "tweet has not original status Id for some reason. ignoring.\n",
      "tweet has not original status Id for some reason. ignoring.\n",
      "tweet has not original status Id for some reason. ignoring.\n",
      "retrieving tweets for user Planning4LA\n",
      "736\n",
      "number of statuses for user: 1182\n",
      "number of retweets for user: 57\n",
      "tweet not found, ignoring\n",
      "retrieving tweets for user AyannaPressley\n",
      "679\n",
      "number of statuses for user: 1027\n",
      "number of retweets for user: 236\n",
      "tweet has not original status Id for some reason. ignoring.\n",
      "tweet not found, ignoring\n",
      "tweet not found, ignoring\n",
      "tweet not found, ignoring\n",
      "tweet not found, ignoring\n",
      "tweet access prohibited, ignoring\n",
      "tweet access prohibited, ignoring\n",
      "retrieving tweets for user beyondchron\n",
      "444\n",
      "number of statuses for user: 1988\n",
      "number of retweets for user: 319\n",
      "tweet has not original status Id for some reason. ignoring.\n",
      "tweet not found, ignoring\n",
      "tweet not found, ignoring\n",
      "tweet not found, ignoring\n",
      "tweet not found, ignoring\n",
      "tweet not found, ignoring\n",
      "tweet not found, ignoring\n",
      "tweet not found, ignoring\n",
      "retrieving tweets for user LeftistConnor\n",
      "126\n",
      "number of statuses for user: 1812\n",
      "number of retweets for user: 219\n",
      "tweet not found, ignoring\n",
      "tweet not found, ignoring\n",
      "tweet not found, ignoring\n",
      "tweet not found, ignoring\n",
      "tweet not found, ignoring\n",
      "tweet not found, ignoring\n",
      "status limit almost reached. need to pause for 436\n",
      "spage error when trying to retrieve RT. continuing\n",
      "tweet not found, ignoring\n",
      "tweet not found, ignoring\n",
      "tweet not found, ignoring\n",
      "retrieving tweets for user AbundantHousing\n",
      "803\n",
      "number of statuses for user: 1142\n",
      "number of retweets for user: 251\n",
      "tweet not found, ignoring\n",
      "tweet not found, ignoring\n",
      "tweet not found, ignoring\n",
      "tweet not found, ignoring\n",
      "tweet not found, ignoring\n",
      "tweet not found, ignoring\n",
      "tweet not found, ignoring\n",
      "tweet not found, ignoring\n",
      "tweet not found, ignoring\n",
      "tweet not found, ignoring\n",
      "tweet not found, ignoring\n",
      "tweet has not original status Id for some reason. ignoring.\n",
      "tweet has not original status Id for some reason. ignoring.\n",
      "tweet has not original status Id for some reason. ignoring.\n",
      "tweet has not original status Id for some reason. ignoring.\n"
     ]
    },
    {
     "name": "stdout",
     "output_type": "stream",
     "text": [
      "tweet has not original status Id for some reason. ignoring.\n",
      "tweet has not original status Id for some reason. ignoring.\n",
      "tweet has not original status Id for some reason. ignoring.\n",
      "tweet has not original status Id for some reason. ignoring.\n",
      "retrieving tweets for user nkburns3\n",
      "560\n",
      "number of statuses for user: 1756\n",
      "number of retweets for user: 320\n",
      "tweet not found, ignoring\n",
      "tweet not found, ignoring\n",
      "tweet not found, ignoring\n",
      "tweet has not original status Id for some reason. ignoring.\n",
      "tweet not found, ignoring\n",
      "tweet not found, ignoring\n",
      "tweet not found, ignoring\n",
      "tweet not found, ignoring\n",
      "tweet not found, ignoring\n",
      "tweet has not original status Id for some reason. ignoring.\n",
      "tweet not found, ignoring\n",
      "tweet not found, ignoring\n",
      "tweet has not original status Id for some reason. ignoring.\n",
      "tweet not found, ignoring\n",
      "tweet not found, ignoring\n",
      "tweet access prohibited, ignoring\n",
      "tweet not found, ignoring\n",
      "retrieving tweets for user CSElmendorf\n",
      "243\n",
      "number of statuses for user: 773\n",
      "number of retweets for user: 75\n",
      "tweet not found, ignoring\n",
      "tweet not found, ignoring\n",
      "tweet not found, ignoring\n",
      "tweet not found, ignoring\n",
      "retrieving tweets for user Up4Growth\n",
      "168\n",
      "number of statuses for user: 953\n",
      "number of retweets for user: 112\n",
      "tweet not found, ignoring\n",
      "tweet not found, ignoring\n",
      "tweet not found, ignoring\n",
      "tweet not found, ignoring\n",
      "retrieving tweets for user AmyDoraMD\n",
      "56\n",
      "number of statuses for user: 114\n",
      "number of retweets for user: 18\n",
      "retrieving tweets for user anthonydedousis\n",
      "38\n",
      "number of statuses for user: 146\n",
      "number of retweets for user: 10\n",
      "retrieving tweets for user SophiaBush\n",
      "28\n",
      "number of statuses for user: 435\n",
      "number of retweets for user: 194\n",
      "status limit almost reached. need to pause for 454\n",
      "tweet not found, ignoring\n",
      "tweet not found, ignoring\n",
      "tweet not found, ignoring\n",
      "tweet access prohibited, ignoring\n",
      "tweet not found, ignoring\n",
      "retrieving tweets for user SDGaction\n",
      "730\n",
      "number of statuses for user: 1291\n",
      "number of retweets for user: 174\n",
      "tweet not found, ignoring\n",
      "tweet not found, ignoring\n",
      "tweet access prohibited, ignoring\n",
      "retrieving tweets for user LosAngelesFwd\n",
      "556\n",
      "number of statuses for user: 467\n",
      "number of retweets for user: 97\n",
      "tweet not found, ignoring\n",
      "tweet access prohibited, ignoring\n",
      "tweet not found, ignoring\n",
      "retrieving tweets for user AOC\n",
      "459\n",
      "number of statuses for user: 1185\n",
      "number of retweets for user: 539\n",
      "tweet has not original status Id for some reason. ignoring.\n",
      "tweet not found, ignoring\n",
      "tweet access prohibited, ignoring\n",
      "tweet not found, ignoring\n",
      "tweet not found, ignoring\n",
      "error while handling exception. passing back exception.\n"
     ]
    }
   ],
   "source": [
    "user_tweets2 = get_users_tweets(next_pass_of_users)"
   ]
  },
  {
   "cell_type": "code",
   "execution_count": 74,
   "metadata": {},
   "outputs": [
    {
     "ename": "NameError",
     "evalue": "name 'user_tweets' is not defined",
     "output_type": "error",
     "traceback": [
      "\u001b[0;31m---------------------------------------------------------------------------\u001b[0m",
      "\u001b[0;31mNameError\u001b[0m                                 Traceback (most recent call last)",
      "\u001b[0;32m<ipython-input-74-6659bdd97054>\u001b[0m in \u001b[0;36m<module>\u001b[0;34m\u001b[0m\n\u001b[0;32m----> 1\u001b[0;31m \u001b[0mtweet_rt_df_l2\u001b[0m \u001b[0;34m=\u001b[0m \u001b[0mpd\u001b[0m\u001b[0;34m.\u001b[0m\u001b[0mDataFrame\u001b[0m\u001b[0;34m(\u001b[0m\u001b[0muser_tweets\u001b[0m\u001b[0;34m)\u001b[0m\u001b[0;34m\u001b[0m\u001b[0;34m\u001b[0m\u001b[0m\n\u001b[0m",
      "\u001b[0;31mNameError\u001b[0m: name 'user_tweets' is not defined"
     ]
    }
   ],
   "source": [
    "tweet_rt_df_l2 = pd.DataFrame(user_tweets)"
   ]
  },
  {
   "cell_type": "code",
   "execution_count": null,
   "metadata": {},
   "outputs": [],
   "source": [
    "matching_tweet_vector = tweet_rt_df['original_text'].str.contains('(housing|homeless|RMA)')\n",
    "matching_tweets = tweet_rt_df[matching_tweet_vector]"
   ]
  },
  {
   "cell_type": "code",
   "execution_count": null,
   "metadata": {},
   "outputs": [],
   "source": [
    "for i,row in matching_tweets.sample(5).iterrows():\n",
    "    print_tweetrow_md(row)"
   ]
  },
  {
   "cell_type": "code",
   "execution_count": null,
   "metadata": {},
   "outputs": [],
   "source": [
    "tweet_rt_df = pd.read_csv(\"../data/housing_peeps_tweets.csv\")\n",
    "\n",
    "def get_housing_tweets(full_tweet_list):\n",
    "    matching_tweet_vector = full_tweet_list['original_text'].str.contains('(housing|homeless|RMA)')\n",
    "    matching_tweets = full_tweet_list[matching_tweet_vector]\n",
    "    return(matching_tweets)\n",
    "\n"
   ]
  },
  {
   "cell_type": "code",
   "execution_count": null,
   "metadata": {},
   "outputs": [],
   "source": [
    "full_set=pd.concat([get_housing_tweets(tweet_rt_df),get_housing_tweets(tweet_rt_df_l2)]).reset_index(drop=True)"
   ]
  },
  {
   "cell_type": "code",
   "execution_count": null,
   "metadata": {},
   "outputs": [],
   "source": []
  },
  {
   "cell_type": "code",
   "execution_count": null,
   "metadata": {},
   "outputs": [],
   "source": []
  },
  {
   "cell_type": "code",
   "execution_count": null,
   "metadata": {},
   "outputs": [],
   "source": []
  },
  {
   "cell_type": "code",
   "execution_count": null,
   "metadata": {},
   "outputs": [],
   "source": []
  },
  {
   "cell_type": "markdown",
   "metadata": {},
   "source": [
    "\n",
    "## Save"
   ]
  },
  {
   "cell_type": "code",
   "execution_count": null,
   "metadata": {},
   "outputs": [],
   "source": [
    "full_set.to_csv(\"../data/housing_peeps_tweets_full.csv\")"
   ]
  },
  {
   "cell_type": "code",
   "execution_count": null,
   "metadata": {},
   "outputs": [],
   "source": [
    "full_set"
   ]
  },
  {
   "cell_type": "code",
   "execution_count": null,
   "metadata": {},
   "outputs": [],
   "source": [
    "def convert_row_to_plaintext(row):\n",
    "    return(row['original_text'] + \"\\nRT: \\n\" +  row['retweet_text'] + \"\\n<|endoftext|>\\n\")\n",
    "plaintext_vals=full_set.apply(convert_row_to_plaintext,1)\n",
    "plain_text_out = \"\\n\".join(plaintext_vals)"
   ]
  },
  {
   "cell_type": "code",
   "execution_count": null,
   "metadata": {},
   "outputs": [],
   "source": [
    "print(plain_text_out)"
   ]
  },
  {
   "cell_type": "code",
   "execution_count": null,
   "metadata": {},
   "outputs": [],
   "source": [
    "raise Exception(\"should trim out the links, probably\")\n",
    "with open(\"../data/housing_fulltext_plain.txt\",'w') as text_file:\n",
    "    print(plain_text_out,file=text_file)"
   ]
  },
  {
   "cell_type": "code",
   "execution_count": null,
   "metadata": {},
   "outputs": [],
   "source": []
  },
  {
   "cell_type": "code",
   "execution_count": null,
   "metadata": {},
   "outputs": [],
   "source": []
  },
  {
   "cell_type": "code",
   "execution_count": null,
   "metadata": {},
   "outputs": [],
   "source": []
  },
  {
   "cell_type": "code",
   "execution_count": null,
   "metadata": {},
   "outputs": [],
   "source": []
  }
 ],
 "metadata": {
  "kernelspec": {
   "display_name": "Python [conda env:tweetenv] *",
   "language": "python",
   "name": "conda-env-tweetenv-py"
  }
 },
 "nbformat": 4,
 "nbformat_minor": 4
}

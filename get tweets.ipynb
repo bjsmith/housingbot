{
 "cells": [
  {
   "cell_type": "markdown",
   "metadata": {},
   "source": [
    "This script mines tweets to train the model.\n",
    "\n",
    "Use my followers to get tweets, then say similar stuff."
   ]
  },
  {
   "cell_type": "code",
   "execution_count": 2,
   "metadata": {},
   "outputs": [
    {
     "name": "stdout",
     "output_type": "stream",
     "text": [
      "should have already got credentials\n"
     ]
    }
   ],
   "source": [
    "#retweets tweets about the housing crisis\n",
    "\n",
    "# Import Tweepy, sleep, credentials.py\n",
    "import tweepy\n",
    "import time\n",
    "from datetime import datetime, timezone, timedelta\n",
    "\n",
    "import sys, os\n",
    "\n",
    "from authenticate import *\n",
    "\n",
    "api = get_authenticated_api()"
   ]
  },
  {
   "cell_type": "markdown",
   "metadata": {},
   "source": [
    "## Identify users to RT"
   ]
  },
  {
   "cell_type": "code",
   "execution_count": 5,
   "metadata": {},
   "outputs": [],
   "source": [
    "starting_user_set = api.friends(count=200)"
   ]
  },
  {
   "cell_type": "markdown",
   "metadata": {},
   "source": [
    "We could prune these people in a variety of ways. It might help to get a subset where some of them follow each other, then get the users that _they_ follow together and add them to the list. But this might be needlessly complex, so to start, let's just see what we can do with this group."
   ]
  },
  {
   "cell_type": "markdown",
   "metadata": {},
   "source": [
    "## Identify tweets from them that we actually want to use"
   ]
  },
  {
   "cell_type": "markdown",
   "metadata": {},
   "source": [
    "We want:\n",
    "\n",
    " - Retweets only - MAYBE, maybe not. I am not sure. It might be OK to just generate random pro-housing slogans.\n",
    " - Tweets specific to housing. I would rather avoid a direct keyword approach. Something social, like where they're retweeting each other, might work.\n",
    " \n",
    "Other options:\n",
    "\n",
    " - Get those users' favorites using API.favorites"
   ]
  },
  {
   "cell_type": "code",
   "execution_count": 24,
   "metadata": {},
   "outputs": [],
   "source": [
    "e_g_user = starting_user_set[70]"
   ]
  },
  {
   "cell_type": "code",
   "execution_count": 28,
   "metadata": {},
   "outputs": [],
   "source": [
    "#dir(e_g_user)"
   ]
  },
  {
   "cell_type": "code",
   "execution_count": 26,
   "metadata": {},
   "outputs": [
    {
     "data": {
      "text/plain": [
       "['Matthew Cutler-Welsh',\n",
       " 'mcutlerwelsh',\n",
       " 'Building affordable housing in New Zealand. https://t.co/UVLaNq6JmK\\nDo we need fewer rules, or just different ones?… https://t.co/soGZbserYK']"
      ]
     },
     "execution_count": 26,
     "metadata": {},
     "output_type": "execute_result"
    }
   ],
   "source": [
    "\n",
    "[e_g_user.name,e_g_user. e_g_user.screen_name,e_g_user.status.text]"
   ]
  },
  {
   "cell_type": "code",
   "execution_count": 103,
   "metadata": {},
   "outputs": [],
   "source": [
    "user_statuses = api.user_timeline(\n",
    "    screen_name=\"curiouskiwicat\",#e_g_user.screen_name,\n",
    "    include_rts=False,\n",
    "    tweet_mode='extended', #get full text of 280character tweets https://github.com/tweepy/tweepy/issues/974\n",
    "    count=200\n",
    "    )"
   ]
  },
  {
   "cell_type": "code",
   "execution_count": 104,
   "metadata": {},
   "outputs": [
    {
     "data": {
      "text/plain": [
       "154"
      ]
     },
     "execution_count": 104,
     "metadata": {},
     "output_type": "execute_result"
    }
   ],
   "source": [
    "len(user_statuses)"
   ]
  },
  {
   "cell_type": "code",
   "execution_count": null,
   "metadata": {},
   "outputs": [],
   "source": []
  },
  {
   "cell_type": "code",
   "execution_count": 105,
   "metadata": {},
   "outputs": [],
   "source": [
    "user_retweets = [s for s in user_statuses if s.is_quote_status==True]"
   ]
  },
  {
   "cell_type": "code",
   "execution_count": 106,
   "metadata": {},
   "outputs": [
    {
     "data": {
      "text/plain": [
       "32"
      ]
     },
     "execution_count": 106,
     "metadata": {},
     "output_type": "execute_result"
    }
   ],
   "source": [
    "len(user_retweets)"
   ]
  },
  {
   "cell_type": "code",
   "execution_count": 95,
   "metadata": {},
   "outputs": [],
   "source": [
    "def describe_status(s):\n",
    "    print(f\"TWEET by {s.user.screen_name}:\")\n",
    "    print(s.full_text)\n",
    "    #print(\", \".join(dir(s)))\n",
    "    print(f\"is_quote_status: {s.is_quote_status}\")\n",
    "    print(f\"in_reply_to_screen_name: {s.in_reply_to_screen_name}\")\n",
    "    print(\"___\\n\")\n",
    "    "
   ]
  },
  {
   "cell_type": "code",
   "execution_count": 96,
   "metadata": {},
   "outputs": [],
   "source": [
    "#\",\".join(dir(user_retweets[0]))"
   ]
  },
  {
   "cell_type": "markdown",
   "metadata": {},
   "source": [
    "So we need to look up the original tweet using the quoted_status_id..."
   ]
  },
  {
   "cell_type": "code",
   "execution_count": 97,
   "metadata": {},
   "outputs": [
    {
     "name": "stdout",
     "output_type": "stream",
     "text": [
      "TWEET by curiouskiwicat:\n",
      "@aniobrien @damienmgrant 🤭\n",
      "is_quote_status: False\n",
      "in_reply_to_screen_name: aniobrien\n",
      "___\n",
      "\n",
      "TWEET by curiouskiwicat:\n",
      "@damienmgrant @aniobrien Cultural appropriation, Damien.\n",
      "\n",
      "you're no true Scotsman\n",
      "is_quote_status: False\n",
      "in_reply_to_screen_name: damienmgrant\n",
      "___\n",
      "\n",
      "TWEET by curiouskiwicat:\n",
      "Good.\n",
      "\n",
      "Defending your home, with a weapon if necessary-well, ok. *Aiming* a gun at a crowd as they're walking on by is threatening behavior, and if you do it, you clearly weren't paying attention in gun school. https://t.co/4SQTUXgSDs\n",
      "is_quote_status: True\n",
      "in_reply_to_screen_name: None\n",
      "___\n",
      "\n",
      "TWEET by curiouskiwicat:\n",
      "@andrewtychen I suspect, if we had one ready and rolled out, then relative to right now under complete elimination, people would become more willing to start using it in the event (god forbid) we had a second outbreak.\n",
      "is_quote_status: False\n",
      "in_reply_to_screen_name: andrewtychen\n",
      "___\n",
      "\n",
      "TWEET by curiouskiwicat:\n",
      "@hollymathnerd \"commitment to diversity\" in theory means they're committed to making the workplace welcoming to everyone, which can require special effort for underrepresented groups. Doesn't mean you'll get a free ride.\n",
      "is_quote_status: False\n",
      "in_reply_to_screen_name: curiouskiwicat\n",
      "___\n",
      "\n"
     ]
    }
   ],
   "source": [
    "for s in user_statuses:\n",
    "    describe_status(s)\n",
    "    #identify Retweets with \"is_quote_status\"\n",
    "    #get an easy \n",
    "    \n",
    "    "
   ]
  },
  {
   "cell_type": "code",
   "execution_count": 100,
   "metadata": {},
   "outputs": [
    {
     "name": "stdout",
     "output_type": "stream",
     "text": [
      "TWEET by curiouskiwicat:\n",
      "Good.\n",
      "\n",
      "Defending your home, with a weapon if necessary-well, ok. *Aiming* a gun at a crowd as they're walking on by is threatening behavior, and if you do it, you clearly weren't paying attention in gun school. https://t.co/4SQTUXgSDs\n",
      "is_quote_status: True\n",
      "in_reply_to_screen_name: None\n",
      "___\n",
      "\n",
      "retweet of:\n",
      "TWEET by Timcast:\n",
      "St. Louis couple who aimed guns at protesters charged with felony weapons count\n",
      "\n",
      "https://t.co/qaURzT0Eag\n",
      "is_quote_status: False\n",
      "in_reply_to_screen_name: None\n",
      "___\n",
      "\n"
     ]
    }
   ],
   "source": [
    "for s in user_retweets:\n",
    "    describe_status(s)\n",
    "    #get a tweet, the tweet it retweeted, and the screen names of the authors of both tweets\n",
    "    original_tweet = api.get_status(s.quoted_status_id,tweet_mode='extended')\n",
    "    retweet_data = {\n",
    "        'retweet_text':s.full_text,\n",
    "        'rt_author':s.user.screen_name,\n",
    "        'original_text':original_tweet.full_text,\n",
    "        'original_author':original_tweet.user.screen_name\n",
    "    }\n",
    "    print(\"retweet of:\")\n",
    "    describe_status(original_tweet)"
   ]
  },
  {
   "cell_type": "code",
   "execution_count": 79,
   "metadata": {},
   "outputs": [
    {
     "data": {
      "text/plain": [
       "{'retweet_text': '\"I\\'m choosing not to pay you. You got no fucking respect, you\\'re only here because of me. But if you\\'re not there in the morning, I\\'m gonna call Immigration and tell them you\\'ve absconded. Look that up. Absconded. It means you\\'ve run away.\" https://t.co/JPoS2kdcI3',\n",
       " 'rt_author': 'curiouskiwicat',\n",
       " 'original_text': \"Ignore all the political shenanigans today. Just read this one article, which says more about New Zealand today than the acres of reportage and commentary we'll get out of Parliament in the next 24 hrs. Team of 5 million? https://t.co/brkXe6FIHw\",\n",
       " 'original_author': 'bernardchickey'}"
      ]
     },
     "execution_count": 79,
     "metadata": {},
     "output_type": "execute_result"
    }
   ],
   "source": [
    "retweet_data"
   ]
  },
  {
   "cell_type": "code",
   "execution_count": null,
   "metadata": {},
   "outputs": [],
   "source": []
  },
  {
   "cell_type": "markdown",
   "metadata": {},
   "source": [
    "get a set of user statuses that are retweets..."
   ]
  },
  {
   "cell_type": "markdown",
   "metadata": {},
   "source": [
    "get this user's last 10 statuses"
   ]
  },
  {
   "cell_type": "code",
   "execution_count": 16,
   "metadata": {},
   "outputs": [
    {
     "data": {
      "text/plain": [
       "['__class__',\n",
       " '__delattr__',\n",
       " '__dict__',\n",
       " '__dir__',\n",
       " '__doc__',\n",
       " '__eq__',\n",
       " '__format__',\n",
       " '__ge__',\n",
       " '__getattribute__',\n",
       " '__getstate__',\n",
       " '__gt__',\n",
       " '__hash__',\n",
       " '__init__',\n",
       " '__init_subclass__',\n",
       " '__le__',\n",
       " '__lt__',\n",
       " '__module__',\n",
       " '__ne__',\n",
       " '__new__',\n",
       " '__reduce__',\n",
       " '__reduce_ex__',\n",
       " '__repr__',\n",
       " '__setattr__',\n",
       " '__sizeof__',\n",
       " '__str__',\n",
       " '__subclasshook__',\n",
       " '__weakref__',\n",
       " '_api',\n",
       " '_json',\n",
       " 'contributors',\n",
       " 'coordinates',\n",
       " 'created_at',\n",
       " 'destroy',\n",
       " 'entities',\n",
       " 'favorite',\n",
       " 'favorite_count',\n",
       " 'favorited',\n",
       " 'geo',\n",
       " 'id',\n",
       " 'id_str',\n",
       " 'in_reply_to_screen_name',\n",
       " 'in_reply_to_status_id',\n",
       " 'in_reply_to_status_id_str',\n",
       " 'in_reply_to_user_id',\n",
       " 'in_reply_to_user_id_str',\n",
       " 'is_quote_status',\n",
       " 'lang',\n",
       " 'parse',\n",
       " 'parse_list',\n",
       " 'place',\n",
       " 'retweet',\n",
       " 'retweet_count',\n",
       " 'retweeted',\n",
       " 'retweets',\n",
       " 'source',\n",
       " 'source_url',\n",
       " 'text',\n",
       " 'truncated']"
      ]
     },
     "execution_count": 16,
     "metadata": {},
     "output_type": "execute_result"
    }
   ],
   "source": [
    "dir(e_g_user.status)"
   ]
  },
  {
   "cell_type": "markdown",
   "metadata": {},
   "source": [
    "#### Retrieval script to retrieve a set of tweets in my dictionary format and save to a csv"
   ]
  },
  {
   "cell_type": "code",
   "execution_count": 107,
   "metadata": {},
   "outputs": [],
   "source": [
    "users_to_retrieve = starting_user_set[50:70]"
   ]
  },
  {
   "cell_type": "code",
   "execution_count": 111,
   "metadata": {},
   "outputs": [
    {
     "name": "stdout",
     "output_type": "stream",
     "text": [
      "retrieving tweets for user Claire_AKL\n",
      "TWEET by Claire_AKL:\n",
      "Sad day at #TeamADO https://t.co/5fOsOIfDJM\n",
      "is_quote_status: True\n",
      "in_reply_to_screen_name: None\n",
      "___\n",
      "\n",
      "retweet of:\n",
      "TWEET by GreaterAKL:\n",
      "@AklCouncil have just disbanded their Auckland Design Office, responsible for things like the shared spaces, the current changes to High St &amp; plans for making city more people friendly. A clear message to council family that if you're innovative &amp; effective you'll be out of a job\n",
      "is_quote_status: False\n",
      "in_reply_to_screen_name: AklCouncil\n",
      "___\n",
      "\n",
      "TWEET by Claire_AKL:\n",
      "Polka dots in Nelson :) https://t.co/qtVRJvjBMV\n",
      "is_quote_status: True\n",
      "in_reply_to_screen_name: None\n",
      "___\n",
      "\n",
      "retweet of:\n",
      "TWEET by alangraynz:\n",
      "Taking @Claire_AKL tactical polka dots- but in turf- here in Nelson to help activate a new public realm of a block recovered from cars as a ped mall https://t.co/plqv30yruC\n",
      "is_quote_status: False\n",
      "in_reply_to_screen_name: None\n",
      "___\n",
      "\n",
      "TWEET by Claire_AKL:\n",
      "Shortland St zebra works underway 🦓 speedbumps in / dots repainted https://t.co/igYdjd4eqS\n",
      "is_quote_status: True\n",
      "in_reply_to_screen_name: None\n",
      "___\n",
      "\n",
      "retweet of:\n",
      "TWEET by kentslundberg:\n",
      "Bolt-on speed humps added on either side of crossing. https://t.co/JyovWeS9Y2\n",
      "is_quote_status: False\n",
      "in_reply_to_screen_name: kentslundberg\n",
      "___\n",
      "\n",
      "TWEET by Claire_AKL:\n",
      "Excited to have been able to contribute to this programme https://t.co/ZtTW2TJiFI\n",
      "is_quote_status: True\n",
      "in_reply_to_screen_name: None\n",
      "___\n",
      "\n",
      "retweet of:\n",
      "TWEET by DarrenDavis10:\n",
      "#NZ Transport Agency launches the ‘Innovating Streets for People’ programme to remove the barriers to street innovations and raise the capability of #NZ communities to make streets more people-friendly. https://t.co/VZX1mJl8sW https://t.co/7iAQZaoPxn\n",
      "is_quote_status: False\n",
      "in_reply_to_screen_name: None\n",
      "___\n",
      "\n",
      "TWEET by Claire_AKL:\n",
      "PlaceKit on Vulcan https://t.co/DCvWfWw9zv\n",
      "is_quote_status: True\n",
      "in_reply_to_screen_name: None\n",
      "___\n",
      "\n",
      "retweet of:\n",
      "TWEET by geogoose:\n",
      "Inviting https://t.co/zOgm6rR8FI\n",
      "is_quote_status: False\n",
      "in_reply_to_screen_name: None\n",
      "___\n",
      "\n",
      "TWEET by Claire_AKL:\n",
      "Loving your work @Merton_Council 🌈 #tacticalurbanism #peoplefirst #peoplecity #urbandesign #london https://t.co/S38sCiXt9W\n",
      "is_quote_status: True\n",
      "in_reply_to_screen_name: None\n",
      "___\n",
      "\n",
      "retweet of:\n",
      "TWEET by Merton_Council:\n",
      "Stride with #Pride We are so pleased to announce a  new Pedestrian crossing outside the @NewWimbTheatre and @bar_cmyk . A huge thank you to @FMConwayltd #WimbledonRainbow #FutureMerton https://t.co/Eepenwjk2r https://t.co/pgdIjPqa7f\n",
      "is_quote_status: False\n",
      "in_reply_to_screen_name: None\n",
      "___\n",
      "\n",
      "retrieving tweets for user CityAklccrg\n",
      "TWEET by CityAklccrg:\n",
      "Go on sign up. The best little underground cinema bar none. #citycentre https://t.co/DL2gTPdICj\n",
      "is_quote_status: True\n",
      "in_reply_to_screen_name: None\n",
      "___\n",
      "\n",
      "retweet of:\n",
      "TWEET by academycinemas:\n",
      "We're introducing MEMBERSHIP CARDS to Academy Cinemas!! 💛\n",
      "\n",
      "https://t.co/R6ljj51r5L https://t.co/TjiZeZOsEW\n",
      "is_quote_status: False\n",
      "in_reply_to_screen_name: None\n",
      "___\n",
      "\n",
      "TWEET by CityAklccrg:\n",
      "Summer and bean bags! https://t.co/t4VfPixPL5\n",
      "is_quote_status: True\n",
      "in_reply_to_screen_name: None\n",
      "___\n",
      "\n",
      "retweet of:\n",
      "TWEET by kentslundberg:\n",
      "paint is now down https://t.co/KdqX9CXUIN\n",
      "is_quote_status: False\n",
      "in_reply_to_screen_name: kentslundberg\n",
      "___\n",
      "\n",
      "TWEET by CityAklccrg:\n",
      "Welcome back comedy to #themightcivic https://t.co/UsF0rsN4HK\n",
      "is_quote_status: True\n",
      "in_reply_to_screen_name: None\n",
      "___\n",
      "\n",
      "retweet of:\n",
      "TWEET by NZComedyFest:\n",
      "Bringing wit and waiata to the Best Comedy Gala - it's @TheFanBrigade! \n",
      "\n",
      "This award-winning musical duo will be gracing the stage at The Civic and The Opera House this November - for the uninitiated here's a taste: https://t.co/ogotWUzH6i\n",
      "\n",
      "Tickets: https://t.co/EI02ycksL8 https://t.co/dpCkcDInqz\n",
      "is_quote_status: False\n",
      "in_reply_to_screen_name: None\n",
      "___\n",
      "\n",
      "TWEET by CityAklccrg:\n",
      "Get your tiks. Gotta keep positive! Missing the #mightycivic and @academycinemas for the live experience but ASB waterfront open 4 film festival fun. Starks has reopened. Not sure of hours but always superb people watching from #starks https://t.co/QEfB9JCNLk\n",
      "is_quote_status: True\n",
      "in_reply_to_screen_name: None\n",
      "___\n",
      "\n",
      "retweet of:\n",
      "TWEET by nzff:\n",
      "The first hybrid film festival in the world begins in only FIVE DAYS! 🎬 🎉 Join us for the online opening night or at participating cinemas. Tag #nziff2020 to share your frocks, loungewear, film set ups and nights at the cinema with us. 🙌 🥰 https://t.co/YDuJFvAL8g\n",
      "is_quote_status: False\n",
      "in_reply_to_screen_name: None\n",
      "___\n",
      "\n",
      "TWEET by CityAklccrg:\n",
      "CC residents have your say!  Stay tuned-we’ll be having some thoughts shortly for issues affecting us here in the city centre rohe of Waitematā local board https://t.co/5jGwEi8fEX\n",
      "is_quote_status: True\n",
      "in_reply_to_screen_name: None\n",
      "___\n",
      "\n",
      "retweet of:\n",
      "TWEET by SarahTrotmannz:\n",
      "Live in #Auckland Central? Have your say on our @AklCouncil draft Local Board Plan, help us shape the future of Waitematā. The Plan guides our work in the community over the next three years so we need your feedback to make sure we’ve got it right. Visit https://t.co/MDkkC3tWuT\n",
      "is_quote_status: False\n",
      "in_reply_to_screen_name: None\n",
      "___\n",
      "\n",
      "TWEET by CityAklccrg:\n",
      "Please please please everyone. No more vehicles stuffed into the city. #liveablecities #A4E #climateemergency #cleanair https://t.co/5aWY3ryhjP\n",
      "is_quote_status: True\n",
      "in_reply_to_screen_name: None\n",
      "___\n",
      "\n",
      "retweet of:\n",
      "TWEET by GreaterAKL:\n",
      "Flashback Sunday: NZTA confirm Harbour Crossing road project is a waste of money https://t.co/VvXC1JvT5C\n",
      "is_quote_status: False\n",
      "in_reply_to_screen_name: None\n",
      "___\n",
      "\n",
      "TWEET by CityAklccrg:\n",
      "When you have lots of space to prioritise people  this is the sort of thing you can do. https://t.co/IGKJFZBFRV\n",
      "is_quote_status: True\n",
      "in_reply_to_screen_name: None\n",
      "___\n",
      "\n",
      "retweet of:\n",
      "TWEET by BFMParis:\n",
      "Les nouvelles terrasses végétalisées des Champs-Élysées ont été inaugurées ce vendredi matin https://t.co/EuallzVqRc\n",
      "is_quote_status: False\n",
      "in_reply_to_screen_name: None\n",
      "___\n",
      "\n",
      "TWEET by CityAklccrg:\n",
      "And of course the tens of thousands of residents who live here and shop here don’t even get mentioned. They must think we all have cars and we get in our cars &amp; drive to Queen Street for the full glorious experience. https://t.co/IF0kmku8hr\n",
      "is_quote_status: True\n",
      "in_reply_to_screen_name: None\n",
      "___\n",
      "\n",
      "retweet of:\n",
      "TWEET by GreaterAKL:\n",
      "What is it with all these retailers who think people drive to Queen St to visit their shops. https://t.co/WrUGgPATwW\n",
      "is_quote_status: True\n",
      "in_reply_to_screen_name: None\n",
      "___\n",
      "\n",
      "TWEET by CityAklccrg:\n",
      "The light, colour and sparkle is very welcome! https://t.co/dyQngRnRUE\n",
      "is_quote_status: True\n",
      "in_reply_to_screen_name: None\n",
      "___\n",
      "\n",
      "retweet of:\n",
      "TWEET by hotcity_akl:\n",
      "We've taken on the winter greys by putting neon lights in trees across the city centre - come and check them out in Vulcan Lane, Freyberg Square, Aotea Square and cnr Victoria and Lorne Street, they're even better in person! Lights and photo by Angus Muir Design. https://t.co/BKnYvB1iV7\n",
      "is_quote_status: False\n",
      "in_reply_to_screen_name: None\n",
      "___\n",
      "\n",
      "TWEET by CityAklccrg:\n",
      "visit the #mightycivic https://t.co/9ZghZNUTK6\n",
      "is_quote_status: True\n",
      "in_reply_to_screen_name: None\n",
      "___\n",
      "\n",
      "retweet of:\n",
      "TWEET by AucklandLive:\n",
      "Due to popular demand we've made more Civic Tours available! We've now added a 1.30PM tour to the Saturday sessions from 25 Jul - 29 Aug.\n",
      "\n",
      "There are only limited tickets available to these sessions so be quick! \n",
      "\n",
      "👉 https://t.co/wEFbRYr06x https://t.co/GNZJuKde5R\n",
      "is_quote_status: False\n",
      "in_reply_to_screen_name: None\n",
      "___\n",
      "\n",
      "retrieving tweets for user AklBikes\n",
      "TWEET by AklBikes:\n",
      "Third world. Even with Snapper (Purple HOP) I could topup from anywhere instantly using the Snapper app on my phone + NFC. https://t.co/sbHghzp1ci\n",
      "is_quote_status: True\n",
      "in_reply_to_screen_name: None\n",
      "___\n",
      "\n",
      "retweet of:\n",
      "TWEET by AklTransport:\n",
      "@Jenene @Jenene Hi Jenene, the time frame is advised on the screen when you are making the transaction &amp; unfortunately there is no way to process this any earlier. The only way to have the top up available instantly is to top up at a ticket and Top up Machine or Retailer. ^LF\n",
      "is_quote_status: False\n",
      "in_reply_to_screen_name: Jenene\n",
      "___\n",
      "\n",
      "TWEET by AklBikes:\n",
      "So no more off-peak fares apparently... zzz. Should be permanent. https://t.co/YWPCyvVYpe\n",
      "is_quote_status: True\n",
      "in_reply_to_screen_name: None\n",
      "___\n",
      "\n"
     ]
    },
    {
     "name": "stdout",
     "output_type": "stream",
     "text": [
      "retweet of:\n",
      "TWEET by AklTransport:\n",
      "@consindo @consindo Sorry to say, it was for the month of June only! ^HS\n",
      "is_quote_status: False\n",
      "in_reply_to_screen_name: consindo\n",
      "___\n",
      "\n",
      "TWEET by AklBikes:\n",
      "Now you will have to go swimming to find the shared path... how is this viable new cycle infrastructure @AklTransport @AklCouncil ?? https://t.co/NLInNX7PEP https://t.co/NQL2QoSCJ8\n",
      "is_quote_status: True\n",
      "in_reply_to_screen_name: None\n",
      "___\n",
      "\n",
      "retweet of:\n",
      "TWEET by AklBikes:\n",
      "New shared path in Kumeu... cant even stay unsubmerged after a bit of downpour... 🤨 https://t.co/UmHhcVROYj\n",
      "is_quote_status: False\n",
      "in_reply_to_screen_name: None\n",
      "___\n",
      "\n"
     ]
    }
   ],
   "source": [
    "tweet_rt_pairs = []\n",
    "for u in users_to_retrieve[4:7]:\n",
    "    print(f\"retrieving tweets for user {u.screen_name}\")\n",
    "    user_statuses = api.user_timeline(\n",
    "    screen_name=u.screen_name,\n",
    "    include_rts=False,\n",
    "    tweet_mode='extended', #get full text of 280character tweets https://github.com/tweepy/tweepy/issues/974\n",
    "    count=150\n",
    "    )\n",
    "    \n",
    "    user_retweets = [s for s in user_statuses if s.is_quote_status==True]\n",
    "    \n",
    "    for s in user_retweets[0:10]:\n",
    "        describe_status(s)\n",
    "        #get a tweet, the tweet it retweeted, and the screen names of the authors of both tweets\n",
    "        original_tweet = api.get_status(s.quoted_status_id,tweet_mode='extended')\n",
    "        retweet_data = {\n",
    "            'retweet_text':s.full_text,\n",
    "            'rt_author':s.user.screen_name,\n",
    "            'original_text':original_tweet.full_text,\n",
    "            'original_author':original_tweet.user.screen_name\n",
    "        }\n",
    "        print(\"retweet of:\")\n",
    "        describe_status(original_tweet)\n",
    "        tweet_rt_pairs = tweet_rt_pairs + [retweet_data]"
   ]
  },
  {
   "cell_type": "code",
   "execution_count": 113,
   "metadata": {},
   "outputs": [
    {
     "ename": "ModuleNotFoundError",
     "evalue": "No module named 'pandas'",
     "output_type": "error",
     "traceback": [
      "\u001b[0;31m---------------------------------------------------------------------------\u001b[0m",
      "\u001b[0;31mModuleNotFoundError\u001b[0m                       Traceback (most recent call last)",
      "\u001b[0;32m<ipython-input-113-a0d5aebb854b>\u001b[0m in \u001b[0;36m<module>\u001b[0;34m\u001b[0m\n\u001b[0;32m----> 1\u001b[0;31m \u001b[0;32mimport\u001b[0m \u001b[0mpandas\u001b[0m \u001b[0;32mas\u001b[0m \u001b[0mpd\u001b[0m\u001b[0;34m\u001b[0m\u001b[0;34m\u001b[0m\u001b[0m\n\u001b[0m\u001b[1;32m      2\u001b[0m \u001b[0;34m\u001b[0m\u001b[0m\n\u001b[1;32m      3\u001b[0m \u001b[0mpd\u001b[0m\u001b[0;34m.\u001b[0m\u001b[0mDataFrame\u001b[0m\u001b[0;34m(\u001b[0m\u001b[0mtweet_rt_pairs\u001b[0m\u001b[0;34m)\u001b[0m\u001b[0;34m\u001b[0m\u001b[0;34m\u001b[0m\u001b[0m\n",
      "\u001b[0;31mModuleNotFoundError\u001b[0m: No module named 'pandas'"
     ]
    }
   ],
   "source": [
    "import pandas as pd\n",
    "\n",
    "pd.DataFrame(tweet_rt_pairs)"
   ]
  },
  {
   "cell_type": "code",
   "execution_count": null,
   "metadata": {},
   "outputs": [],
   "source": []
  },
  {
   "cell_type": "code",
   "execution_count": null,
   "metadata": {},
   "outputs": [],
   "source": []
  },
  {
   "cell_type": "markdown",
   "metadata": {},
   "source": [
    "## Save"
   ]
  },
  {
   "cell_type": "code",
   "execution_count": null,
   "metadata": {},
   "outputs": [],
   "source": []
  }
 ],
 "metadata": {
  "kernelspec": {
   "display_name": "Python [conda env:tweetenv] *",
   "language": "python",
   "name": "conda-env-tweetenv-py"
  },
  "language_info": {
   "codemirror_mode": {
    "name": "ipython",
    "version": 3
   },
   "file_extension": ".py",
   "mimetype": "text/x-python",
   "name": "python",
   "nbconvert_exporter": "python",
   "pygments_lexer": "ipython3",
   "version": "3.7.7"
  }
 },
 "nbformat": 4,
 "nbformat_minor": 4
}

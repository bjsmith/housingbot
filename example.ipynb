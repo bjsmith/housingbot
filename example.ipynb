{
 "cells": [
  {
   "cell_type": "markdown",
   "metadata": {},
   "source": [
    "Resoruces:\n",
    " - https://www.digitalocean.com/community/tutorials/how-to-create-a-twitterbot-with-python-3-and-the-tweepy-library#storing-credentials\n",
    " - https://www.digitalocean.com/community/tutorials/how-to-create-a-twitter-app\n",
    " - https://blog.devmountain.com/its-alive-how-to-make-a-twitter-bot-in-five-steps/\n",
    " - https://readwrite.com/2014/06/20/random-non-sequitur-twitter-bot-instructions/\n",
    " - https://dev.to/emcain/how-to-set-up-a-twitter-bot-with-python-and-heroku-1n39\n",
    "        \n",
    "        "
   ]
  },
  {
   "cell_type": "markdown",
   "metadata": {},
   "source": [
    "### Connect"
   ]
  },
  {
   "cell_type": "code",
   "execution_count": 2,
   "metadata": {},
   "outputs": [],
   "source": [
    "# Import Tweepy, sleep, credentials.py\n",
    "import tweepy\n",
    "from time import sleep\n",
    "from credentials import *\n",
    "\n",
    "# Access and authorize our Twitter credentials from credentials.py\n",
    "auth = tweepy.OAuthHandler(consumer_key, consumer_secret)\n",
    "auth.set_access_token(access_token, access_token_secret)\n",
    "api = tweepy.API(auth)"
   ]
  },
  {
   "cell_type": "code",
   "execution_count": 1,
   "metadata": {},
   "outputs": [],
   "source": [
    "import tweepy"
   ]
  },
  {
   "cell_type": "markdown",
   "metadata": {},
   "source": [
    "### write a tweet"
   ]
  },
  {
   "cell_type": "code",
   "execution_count": 3,
   "metadata": {},
   "outputs": [
    {
     "data": {
      "text/plain": [
       "Status(_api=<tweepy.api.API object at 0x103da65d0>, _json={'created_at': 'Mon Jul 13 04:26:32 +0000 2020', 'id': 1282531836594286597, 'id_str': '1282531836594286597', 'text': '#legalisehousing', 'truncated': False, 'entities': {'hashtags': [{'text': 'legalisehousing', 'indices': [0, 16]}], 'symbols': [], 'user_mentions': [], 'urls': []}, 'source': '<a href=\"https://twitter.com/aotearoayimby\" rel=\"nofollow\">retweethousing</a>', 'in_reply_to_status_id': None, 'in_reply_to_status_id_str': None, 'in_reply_to_user_id': None, 'in_reply_to_user_id_str': None, 'in_reply_to_screen_name': None, 'user': {'id': 1276662988460576768, 'id_str': '1276662988460576768', 'name': 'Housing is a human right 🥑🥑🥑', 'screen_name': 'AotearoaYimby', 'location': 'Aotearoa', 'description': 'Aotearoa Yes in my backyard! \\n\\nLegalise housing\\n\\nhousing is a human right', 'url': None, 'entities': {'description': {'urls': []}}, 'protected': False, 'followers_count': 8, 'friends_count': 66, 'listed_count': 0, 'created_at': 'Fri Jun 26 23:45:58 +0000 2020', 'favourites_count': 4, 'utc_offset': None, 'time_zone': None, 'geo_enabled': False, 'verified': False, 'statuses_count': 17, 'lang': None, 'contributors_enabled': False, 'is_translator': False, 'is_translation_enabled': False, 'profile_background_color': 'F5F8FA', 'profile_background_image_url': None, 'profile_background_image_url_https': None, 'profile_background_tile': False, 'profile_image_url': 'http://pbs.twimg.com/profile_images/1276666373821759489/AHczBGmf_normal.jpg', 'profile_image_url_https': 'https://pbs.twimg.com/profile_images/1276666373821759489/AHczBGmf_normal.jpg', 'profile_banner_url': 'https://pbs.twimg.com/profile_banners/1276662988460576768/1593215602', 'profile_link_color': '1DA1F2', 'profile_sidebar_border_color': 'C0DEED', 'profile_sidebar_fill_color': 'DDEEF6', 'profile_text_color': '333333', 'profile_use_background_image': True, 'has_extended_profile': True, 'default_profile': True, 'default_profile_image': False, 'following': False, 'follow_request_sent': False, 'notifications': False, 'translator_type': 'none'}, 'geo': None, 'coordinates': None, 'place': None, 'contributors': None, 'is_quote_status': False, 'retweet_count': 0, 'favorite_count': 0, 'favorited': False, 'retweeted': False, 'lang': 'und'}, created_at=datetime.datetime(2020, 7, 13, 4, 26, 32), id=1282531836594286597, id_str='1282531836594286597', text='#legalisehousing', truncated=False, entities={'hashtags': [{'text': 'legalisehousing', 'indices': [0, 16]}], 'symbols': [], 'user_mentions': [], 'urls': []}, source='retweethousing', source_url='https://twitter.com/aotearoayimby', in_reply_to_status_id=None, in_reply_to_status_id_str=None, in_reply_to_user_id=None, in_reply_to_user_id_str=None, in_reply_to_screen_name=None, author=User(_api=<tweepy.api.API object at 0x103da65d0>, _json={'id': 1276662988460576768, 'id_str': '1276662988460576768', 'name': 'Housing is a human right 🥑🥑🥑', 'screen_name': 'AotearoaYimby', 'location': 'Aotearoa', 'description': 'Aotearoa Yes in my backyard! \\n\\nLegalise housing\\n\\nhousing is a human right', 'url': None, 'entities': {'description': {'urls': []}}, 'protected': False, 'followers_count': 8, 'friends_count': 66, 'listed_count': 0, 'created_at': 'Fri Jun 26 23:45:58 +0000 2020', 'favourites_count': 4, 'utc_offset': None, 'time_zone': None, 'geo_enabled': False, 'verified': False, 'statuses_count': 17, 'lang': None, 'contributors_enabled': False, 'is_translator': False, 'is_translation_enabled': False, 'profile_background_color': 'F5F8FA', 'profile_background_image_url': None, 'profile_background_image_url_https': None, 'profile_background_tile': False, 'profile_image_url': 'http://pbs.twimg.com/profile_images/1276666373821759489/AHczBGmf_normal.jpg', 'profile_image_url_https': 'https://pbs.twimg.com/profile_images/1276666373821759489/AHczBGmf_normal.jpg', 'profile_banner_url': 'https://pbs.twimg.com/profile_banners/1276662988460576768/1593215602', 'profile_link_color': '1DA1F2', 'profile_sidebar_border_color': 'C0DEED', 'profile_sidebar_fill_color': 'DDEEF6', 'profile_text_color': '333333', 'profile_use_background_image': True, 'has_extended_profile': True, 'default_profile': True, 'default_profile_image': False, 'following': False, 'follow_request_sent': False, 'notifications': False, 'translator_type': 'none'}, id=1276662988460576768, id_str='1276662988460576768', name='Housing is a human right 🥑🥑🥑', screen_name='AotearoaYimby', location='Aotearoa', description='Aotearoa Yes in my backyard! \\n\\nLegalise housing\\n\\nhousing is a human right', url=None, entities={'description': {'urls': []}}, protected=False, followers_count=8, friends_count=66, listed_count=0, created_at=datetime.datetime(2020, 6, 26, 23, 45, 58), favourites_count=4, utc_offset=None, time_zone=None, geo_enabled=False, verified=False, statuses_count=17, lang=None, contributors_enabled=False, is_translator=False, is_translation_enabled=False, profile_background_color='F5F8FA', profile_background_image_url=None, profile_background_image_url_https=None, profile_background_tile=False, profile_image_url='http://pbs.twimg.com/profile_images/1276666373821759489/AHczBGmf_normal.jpg', profile_image_url_https='https://pbs.twimg.com/profile_images/1276666373821759489/AHczBGmf_normal.jpg', profile_banner_url='https://pbs.twimg.com/profile_banners/1276662988460576768/1593215602', profile_link_color='1DA1F2', profile_sidebar_border_color='C0DEED', profile_sidebar_fill_color='DDEEF6', profile_text_color='333333', profile_use_background_image=True, has_extended_profile=True, default_profile=True, default_profile_image=False, following=False, follow_request_sent=False, notifications=False, translator_type='none'), user=User(_api=<tweepy.api.API object at 0x103da65d0>, _json={'id': 1276662988460576768, 'id_str': '1276662988460576768', 'name': 'Housing is a human right 🥑🥑🥑', 'screen_name': 'AotearoaYimby', 'location': 'Aotearoa', 'description': 'Aotearoa Yes in my backyard! \\n\\nLegalise housing\\n\\nhousing is a human right', 'url': None, 'entities': {'description': {'urls': []}}, 'protected': False, 'followers_count': 8, 'friends_count': 66, 'listed_count': 0, 'created_at': 'Fri Jun 26 23:45:58 +0000 2020', 'favourites_count': 4, 'utc_offset': None, 'time_zone': None, 'geo_enabled': False, 'verified': False, 'statuses_count': 17, 'lang': None, 'contributors_enabled': False, 'is_translator': False, 'is_translation_enabled': False, 'profile_background_color': 'F5F8FA', 'profile_background_image_url': None, 'profile_background_image_url_https': None, 'profile_background_tile': False, 'profile_image_url': 'http://pbs.twimg.com/profile_images/1276666373821759489/AHczBGmf_normal.jpg', 'profile_image_url_https': 'https://pbs.twimg.com/profile_images/1276666373821759489/AHczBGmf_normal.jpg', 'profile_banner_url': 'https://pbs.twimg.com/profile_banners/1276662988460576768/1593215602', 'profile_link_color': '1DA1F2', 'profile_sidebar_border_color': 'C0DEED', 'profile_sidebar_fill_color': 'DDEEF6', 'profile_text_color': '333333', 'profile_use_background_image': True, 'has_extended_profile': True, 'default_profile': True, 'default_profile_image': False, 'following': False, 'follow_request_sent': False, 'notifications': False, 'translator_type': 'none'}, id=1276662988460576768, id_str='1276662988460576768', name='Housing is a human right 🥑🥑🥑', screen_name='AotearoaYimby', location='Aotearoa', description='Aotearoa Yes in my backyard! \\n\\nLegalise housing\\n\\nhousing is a human right', url=None, entities={'description': {'urls': []}}, protected=False, followers_count=8, friends_count=66, listed_count=0, created_at=datetime.datetime(2020, 6, 26, 23, 45, 58), favourites_count=4, utc_offset=None, time_zone=None, geo_enabled=False, verified=False, statuses_count=17, lang=None, contributors_enabled=False, is_translator=False, is_translation_enabled=False, profile_background_color='F5F8FA', profile_background_image_url=None, profile_background_image_url_https=None, profile_background_tile=False, profile_image_url='http://pbs.twimg.com/profile_images/1276666373821759489/AHczBGmf_normal.jpg', profile_image_url_https='https://pbs.twimg.com/profile_images/1276666373821759489/AHczBGmf_normal.jpg', profile_banner_url='https://pbs.twimg.com/profile_banners/1276662988460576768/1593215602', profile_link_color='1DA1F2', profile_sidebar_border_color='C0DEED', profile_sidebar_fill_color='DDEEF6', profile_text_color='333333', profile_use_background_image=True, has_extended_profile=True, default_profile=True, default_profile_image=False, following=False, follow_request_sent=False, notifications=False, translator_type='none'), geo=None, coordinates=None, place=None, contributors=None, is_quote_status=False, retweet_count=0, favorite_count=0, favorited=False, retweeted=False, lang='und')"
      ]
     },
     "execution_count": 3,
     "metadata": {},
     "output_type": "execute_result"
    }
   ],
   "source": [
    "# Write a tweet to push to our Twitter account\n",
    "tweet = '#legalisehousing'\n",
    "api.update_status(status=tweet)"
   ]
  },
  {
   "cell_type": "markdown",
   "metadata": {},
   "source": [
    "### get some tweets"
   ]
  },
  {
   "cell_type": "code",
   "execution_count": 66,
   "metadata": {},
   "outputs": [],
   "source": [
    "from datetime import datetime, timezone, timedelta\n",
    "start = (datetime.now(timezone.utc) - timedelta(days=1)).strftime(\"%Y-%m-%d\")\n",
    "end = (datetime.now(timezone.utc) + timedelta(days=1)).strftime(\"%Y-%m-%d\")\n",
    "#this is EXCLUSIVE of 'end', \n",
    "#so we have to put in the end to be TOMORROW \n",
    "#if we want it to get tweets from today"
   ]
  },
  {
   "cell_type": "code",
   "execution_count": 67,
   "metadata": {},
   "outputs": [
    {
     "name": "stdout",
     "output_type": "stream",
     "text": [
      "from 2020-07-12 to 2020-07-14\n",
      "Tweet by: @_snozzberry_\n",
      "2\n",
      "Tweet by: @Kiwi_Whites\n",
      "0\n",
      "Tweet by: @lachlandcp\n",
      "0\n",
      "Tweet by: @LaceEatenLegs\n",
      "1\n",
      "Tweet by: @NedGilmore\n",
      "0\n",
      "Tweet by: @grandmundi\n",
      "0\n",
      "Tweet by: @sam_whitenz\n",
      "1\n",
      "Tweet by: @ScootFoundation\n",
      "14\n",
      "Tweet by: @OlsonWarren\n",
      "0\n",
      "Tweet by: @jordantcarter\n",
      "0\n",
      "Tweet by: @aurynn\n",
      "9\n",
      "Tweet by: @MattyAngelNZ\n",
      "40\n",
      "Tweet by: @accessible_prop\n",
      "1\n",
      "Tweet by: @Lamfadha\n",
      "0\n",
      "Tweet by: @sambgrover\n",
      "0\n",
      "Tweet by: @chamfy\n",
      "0\n",
      "Tweet by: @PowderPuffPlay\n",
      "4\n",
      "Tweet by: @RMarchNZ\n",
      "86\n",
      "Tweet by: @Wellingtoncomm\n",
      "0\n",
      "Tweet by: @RMarchNZ\n",
      "39\n",
      "Tweet by: @iq_property\n",
      "0\n",
      "Tweet by: @TroyMihaka\n",
      "0\n",
      "Tweet by: @ChrisBr07103784\n",
      "1\n",
      "Tweet by: @ehjc\n",
      "0\n",
      "Tweet by: @tutugd\n",
      "1\n",
      "Tweet by: @Bridgetpee\n",
      "5\n",
      "Tweet by: @BayshoreBill\n",
      "0\n",
      "Tweet by: @ElizabethKnoxNZ\n",
      "0\n",
      "Tweet by: @SallyannMoffat\n",
      "0\n",
      "Tweet by: @kilbrniesanders\n",
      "7\n"
     ]
    }
   ],
   "source": [
    "print(\"from \" + start + \" to \" + end)\n",
    "# For loop to iterate over tweets with #ocean, limit to 10\n",
    "for tweet in tweepy.Cursor(api.search,\n",
    "                           q='housing',\n",
    "                           since=start,\n",
    "                           until=end,\n",
    "                          geocode='-41.1,173.3,1500km').items(30):\n",
    "\n",
    "# Print out usernames of the last 10 people to use #ocean\n",
    "    print('Tweet by: @' + tweet.user.screen_name)\n",
    "    print(tweet.favorite_count)\n",
    "    "
   ]
  },
  {
   "cell_type": "code",
   "execution_count": 68,
   "metadata": {},
   "outputs": [
    {
     "data": {
      "text/plain": [
       "[2, 0, 0, 1, 0, 0, 1, 14, 0, 0, 9, 40, 1, 0, 0, 0, 4, 86, 0, 39]"
      ]
     },
     "execution_count": 68,
     "metadata": {},
     "output_type": "execute_result"
    }
   ],
   "source": [
    "fav_counts = [t.favorite_count for t in tweets]#.index(max())\n",
    "fav_counts"
   ]
  },
  {
   "cell_type": "markdown",
   "metadata": {},
   "source": [
    "## get the most populat tweet and retweet it. then wait 10 minutes and tweet the most recent tweet"
   ]
  },
  {
   "cell_type": "code",
   "execution_count": 58,
   "metadata": {},
   "outputs": [],
   "source": [
    "from datetime import datetime, timezone, timedelta\n",
    "start = (datetime.now(timezone.utc) - timedelta(days=1)).strftime(\"%Y-%m-%d\")\n",
    "end = (datetime.now(timezone.utc) + timedelta(days=1)).strftime(\"%Y-%m-%d\")\n",
    "#this is EXCLUSIVE of 'end', \n",
    "#so we have to put in the end to be TOMORROW \n",
    "#if we want it to get tweets from today"
   ]
  },
  {
   "cell_type": "code",
   "execution_count": 59,
   "metadata": {},
   "outputs": [],
   "source": [
    "tweets = [t for t in \n",
    "          tweepy.Cursor(api.search,\n",
    "                           q='housing',\n",
    "                           since=start,\n",
    "                           until=end,\n",
    "                          geocode='-41.1,173.3,1500km').items(20)\n",
    "         ]# get the 20 MOST RECENT tweets that match the qualification\n",
    "\n"
   ]
  },
  {
   "cell_type": "code",
   "execution_count": 62,
   "metadata": {},
   "outputs": [],
   "source": [
    "# TO DO: filter by a date range"
   ]
  },
  {
   "cell_type": "code",
   "execution_count": 63,
   "metadata": {},
   "outputs": [],
   "source": [
    "tweet_to_rt_index =  fav_counts.index(max(fav_counts)) # get the index of an arbitrary tweet with the most favorites\n",
    "tweet_to_rt = tweets[tweet_to_rt_index]"
   ]
  },
  {
   "cell_type": "code",
   "execution_count": 65,
   "metadata": {},
   "outputs": [
    {
     "data": {
      "text/plain": [
       "Status(_api=<tweepy.api.API object at 0x103da65d0>, _json={'created_at': 'Mon Jul 13 05:02:04 +0000 2020', 'id': 1282540776447078403, 'id_str': '1282540776447078403', 'text': 'RT @RMarchNZ: Greens’ election platform: guaranteed minimum incomes, tax on wealth, solar panels on public housing, green jobs in clean ene…', 'truncated': False, 'entities': {'hashtags': [], 'symbols': [], 'user_mentions': [{'screen_name': 'RMarchNZ', 'name': 'Ricardo Menéndez', 'id': 745599511960051712, 'id_str': '745599511960051712', 'indices': [3, 12]}], 'urls': []}, 'source': '<a href=\"https://twitter.com/aotearoayimby\" rel=\"nofollow\">retweethousing</a>', 'in_reply_to_status_id': None, 'in_reply_to_status_id_str': None, 'in_reply_to_user_id': None, 'in_reply_to_user_id_str': None, 'in_reply_to_screen_name': None, 'user': {'id': 1276662988460576768, 'id_str': '1276662988460576768', 'name': 'Housing is a human right 🥑🥑🥑', 'screen_name': 'AotearoaYimby', 'location': 'Aotearoa', 'description': 'Aotearoa Yes in my backyard! \\n\\nLegalise housing\\n\\nhousing is a human right', 'url': None, 'entities': {'description': {'urls': []}}, 'protected': False, 'followers_count': 8, 'friends_count': 66, 'listed_count': 0, 'created_at': 'Fri Jun 26 23:45:58 +0000 2020', 'favourites_count': 4, 'utc_offset': None, 'time_zone': None, 'geo_enabled': False, 'verified': False, 'statuses_count': 17, 'lang': None, 'contributors_enabled': False, 'is_translator': False, 'is_translation_enabled': False, 'profile_background_color': 'F5F8FA', 'profile_background_image_url': None, 'profile_background_image_url_https': None, 'profile_background_tile': False, 'profile_image_url': 'http://pbs.twimg.com/profile_images/1276666373821759489/AHczBGmf_normal.jpg', 'profile_image_url_https': 'https://pbs.twimg.com/profile_images/1276666373821759489/AHczBGmf_normal.jpg', 'profile_banner_url': 'https://pbs.twimg.com/profile_banners/1276662988460576768/1593215602', 'profile_link_color': '1DA1F2', 'profile_sidebar_border_color': 'C0DEED', 'profile_sidebar_fill_color': 'DDEEF6', 'profile_text_color': '333333', 'profile_use_background_image': True, 'has_extended_profile': True, 'default_profile': True, 'default_profile_image': False, 'following': False, 'follow_request_sent': False, 'notifications': False, 'translator_type': 'none'}, 'geo': None, 'coordinates': None, 'place': None, 'contributors': None, 'retweeted_status': {'created_at': 'Mon Jul 13 01:42:23 +0000 2020', 'id': 1282490526684463105, 'id_str': '1282490526684463105', 'text': 'Greens’ election platform: guaranteed minimum incomes, tax on wealth, solar panels on public housing, green jobs in… https://t.co/3Wsv34dqEt', 'truncated': True, 'entities': {'hashtags': [], 'symbols': [], 'user_mentions': [], 'urls': [{'url': 'https://t.co/3Wsv34dqEt', 'expanded_url': 'https://twitter.com/i/web/status/1282490526684463105', 'display_url': 'twitter.com/i/web/status/1…', 'indices': [117, 140]}]}, 'source': '<a href=\"http://twitter.com/download/iphone\" rel=\"nofollow\">Twitter for iPhone</a>', 'in_reply_to_status_id': None, 'in_reply_to_status_id_str': None, 'in_reply_to_user_id': None, 'in_reply_to_user_id_str': None, 'in_reply_to_screen_name': None, 'user': {'id': 745599511960051712, 'id_str': '745599511960051712', 'name': 'Ricardo Menéndez', 'screen_name': 'RMarchNZ', 'location': 'Auckland, New Zealand', 'description': 'Green Party 2020 candidate for Maungakiekie. AAAP spokesperson. Mexicano. Climate and economic justice yarns 🍉 Auth’d by G Shaw, 1/17 Garrett Street, WLG', 'url': 'https://t.co/GHHi1edIUx', 'entities': {'url': {'urls': [{'url': 'https://t.co/GHHi1edIUx', 'expanded_url': 'https://www.greens.org.nz/joinricardo', 'display_url': 'greens.org.nz/joinricardo', 'indices': [0, 23]}]}, 'description': {'urls': []}}, 'protected': False, 'followers_count': 3799, 'friends_count': 1804, 'listed_count': 20, 'created_at': 'Wed Jun 22 12:49:11 +0000 2016', 'favourites_count': 8038, 'utc_offset': None, 'time_zone': None, 'geo_enabled': True, 'verified': False, 'statuses_count': 3668, 'lang': None, 'contributors_enabled': False, 'is_translator': False, 'is_translation_enabled': False, 'profile_background_color': 'F5F8FA', 'profile_background_image_url': None, 'profile_background_image_url_https': None, 'profile_background_tile': False, 'profile_image_url': 'http://pbs.twimg.com/profile_images/1234061999203422208/7d3JUaKW_normal.jpg', 'profile_image_url_https': 'https://pbs.twimg.com/profile_images/1234061999203422208/7d3JUaKW_normal.jpg', 'profile_banner_url': 'https://pbs.twimg.com/profile_banners/745599511960051712/1575024214', 'profile_link_color': '1DA1F2', 'profile_sidebar_border_color': 'C0DEED', 'profile_sidebar_fill_color': 'DDEEF6', 'profile_text_color': '333333', 'profile_use_background_image': True, 'has_extended_profile': True, 'default_profile': True, 'default_profile_image': False, 'following': False, 'follow_request_sent': False, 'notifications': False, 'translator_type': 'none'}, 'geo': None, 'coordinates': None, 'place': {'id': '0022e3c837579650', 'url': 'https://api.twitter.com/1.1/geo/id/0022e3c837579650.json', 'place_type': 'city', 'name': 'Auckland', 'full_name': 'Auckland, New Zealand', 'country_code': 'NZ', 'country': 'New Zealand', 'contained_within': [], 'bounding_box': {'type': 'Polygon', 'coordinates': [[[174.161834, -37.292621], [175.550653, -37.292621], [175.550653, -35.898837], [174.161834, -35.898837]]]}, 'attributes': {}}, 'contributors': None, 'is_quote_status': False, 'retweet_count': 13, 'favorite_count': 86, 'favorited': False, 'retweeted': True, 'lang': 'en'}, 'is_quote_status': False, 'retweet_count': 13, 'favorite_count': 0, 'favorited': False, 'retweeted': True, 'lang': 'en'}, created_at=datetime.datetime(2020, 7, 13, 5, 2, 4), id=1282540776447078403, id_str='1282540776447078403', text='RT @RMarchNZ: Greens’ election platform: guaranteed minimum incomes, tax on wealth, solar panels on public housing, green jobs in clean ene…', truncated=False, entities={'hashtags': [], 'symbols': [], 'user_mentions': [{'screen_name': 'RMarchNZ', 'name': 'Ricardo Menéndez', 'id': 745599511960051712, 'id_str': '745599511960051712', 'indices': [3, 12]}], 'urls': []}, source='retweethousing', source_url='https://twitter.com/aotearoayimby', in_reply_to_status_id=None, in_reply_to_status_id_str=None, in_reply_to_user_id=None, in_reply_to_user_id_str=None, in_reply_to_screen_name=None, author=User(_api=<tweepy.api.API object at 0x103da65d0>, _json={'id': 1276662988460576768, 'id_str': '1276662988460576768', 'name': 'Housing is a human right 🥑🥑🥑', 'screen_name': 'AotearoaYimby', 'location': 'Aotearoa', 'description': 'Aotearoa Yes in my backyard! \\n\\nLegalise housing\\n\\nhousing is a human right', 'url': None, 'entities': {'description': {'urls': []}}, 'protected': False, 'followers_count': 8, 'friends_count': 66, 'listed_count': 0, 'created_at': 'Fri Jun 26 23:45:58 +0000 2020', 'favourites_count': 4, 'utc_offset': None, 'time_zone': None, 'geo_enabled': False, 'verified': False, 'statuses_count': 17, 'lang': None, 'contributors_enabled': False, 'is_translator': False, 'is_translation_enabled': False, 'profile_background_color': 'F5F8FA', 'profile_background_image_url': None, 'profile_background_image_url_https': None, 'profile_background_tile': False, 'profile_image_url': 'http://pbs.twimg.com/profile_images/1276666373821759489/AHczBGmf_normal.jpg', 'profile_image_url_https': 'https://pbs.twimg.com/profile_images/1276666373821759489/AHczBGmf_normal.jpg', 'profile_banner_url': 'https://pbs.twimg.com/profile_banners/1276662988460576768/1593215602', 'profile_link_color': '1DA1F2', 'profile_sidebar_border_color': 'C0DEED', 'profile_sidebar_fill_color': 'DDEEF6', 'profile_text_color': '333333', 'profile_use_background_image': True, 'has_extended_profile': True, 'default_profile': True, 'default_profile_image': False, 'following': False, 'follow_request_sent': False, 'notifications': False, 'translator_type': 'none'}, id=1276662988460576768, id_str='1276662988460576768', name='Housing is a human right 🥑🥑🥑', screen_name='AotearoaYimby', location='Aotearoa', description='Aotearoa Yes in my backyard! \\n\\nLegalise housing\\n\\nhousing is a human right', url=None, entities={'description': {'urls': []}}, protected=False, followers_count=8, friends_count=66, listed_count=0, created_at=datetime.datetime(2020, 6, 26, 23, 45, 58), favourites_count=4, utc_offset=None, time_zone=None, geo_enabled=False, verified=False, statuses_count=17, lang=None, contributors_enabled=False, is_translator=False, is_translation_enabled=False, profile_background_color='F5F8FA', profile_background_image_url=None, profile_background_image_url_https=None, profile_background_tile=False, profile_image_url='http://pbs.twimg.com/profile_images/1276666373821759489/AHczBGmf_normal.jpg', profile_image_url_https='https://pbs.twimg.com/profile_images/1276666373821759489/AHczBGmf_normal.jpg', profile_banner_url='https://pbs.twimg.com/profile_banners/1276662988460576768/1593215602', profile_link_color='1DA1F2', profile_sidebar_border_color='C0DEED', profile_sidebar_fill_color='DDEEF6', profile_text_color='333333', profile_use_background_image=True, has_extended_profile=True, default_profile=True, default_profile_image=False, following=False, follow_request_sent=False, notifications=False, translator_type='none'), user=User(_api=<tweepy.api.API object at 0x103da65d0>, _json={'id': 1276662988460576768, 'id_str': '1276662988460576768', 'name': 'Housing is a human right 🥑🥑🥑', 'screen_name': 'AotearoaYimby', 'location': 'Aotearoa', 'description': 'Aotearoa Yes in my backyard! \\n\\nLegalise housing\\n\\nhousing is a human right', 'url': None, 'entities': {'description': {'urls': []}}, 'protected': False, 'followers_count': 8, 'friends_count': 66, 'listed_count': 0, 'created_at': 'Fri Jun 26 23:45:58 +0000 2020', 'favourites_count': 4, 'utc_offset': None, 'time_zone': None, 'geo_enabled': False, 'verified': False, 'statuses_count': 17, 'lang': None, 'contributors_enabled': False, 'is_translator': False, 'is_translation_enabled': False, 'profile_background_color': 'F5F8FA', 'profile_background_image_url': None, 'profile_background_image_url_https': None, 'profile_background_tile': False, 'profile_image_url': 'http://pbs.twimg.com/profile_images/1276666373821759489/AHczBGmf_normal.jpg', 'profile_image_url_https': 'https://pbs.twimg.com/profile_images/1276666373821759489/AHczBGmf_normal.jpg', 'profile_banner_url': 'https://pbs.twimg.com/profile_banners/1276662988460576768/1593215602', 'profile_link_color': '1DA1F2', 'profile_sidebar_border_color': 'C0DEED', 'profile_sidebar_fill_color': 'DDEEF6', 'profile_text_color': '333333', 'profile_use_background_image': True, 'has_extended_profile': True, 'default_profile': True, 'default_profile_image': False, 'following': False, 'follow_request_sent': False, 'notifications': False, 'translator_type': 'none'}, id=1276662988460576768, id_str='1276662988460576768', name='Housing is a human right 🥑🥑🥑', screen_name='AotearoaYimby', location='Aotearoa', description='Aotearoa Yes in my backyard! \\n\\nLegalise housing\\n\\nhousing is a human right', url=None, entities={'description': {'urls': []}}, protected=False, followers_count=8, friends_count=66, listed_count=0, created_at=datetime.datetime(2020, 6, 26, 23, 45, 58), favourites_count=4, utc_offset=None, time_zone=None, geo_enabled=False, verified=False, statuses_count=17, lang=None, contributors_enabled=False, is_translator=False, is_translation_enabled=False, profile_background_color='F5F8FA', profile_background_image_url=None, profile_background_image_url_https=None, profile_background_tile=False, profile_image_url='http://pbs.twimg.com/profile_images/1276666373821759489/AHczBGmf_normal.jpg', profile_image_url_https='https://pbs.twimg.com/profile_images/1276666373821759489/AHczBGmf_normal.jpg', profile_banner_url='https://pbs.twimg.com/profile_banners/1276662988460576768/1593215602', profile_link_color='1DA1F2', profile_sidebar_border_color='C0DEED', profile_sidebar_fill_color='DDEEF6', profile_text_color='333333', profile_use_background_image=True, has_extended_profile=True, default_profile=True, default_profile_image=False, following=False, follow_request_sent=False, notifications=False, translator_type='none'), geo=None, coordinates=None, place=None, contributors=None, retweeted_status=Status(_api=<tweepy.api.API object at 0x103da65d0>, _json={'created_at': 'Mon Jul 13 01:42:23 +0000 2020', 'id': 1282490526684463105, 'id_str': '1282490526684463105', 'text': 'Greens’ election platform: guaranteed minimum incomes, tax on wealth, solar panels on public housing, green jobs in… https://t.co/3Wsv34dqEt', 'truncated': True, 'entities': {'hashtags': [], 'symbols': [], 'user_mentions': [], 'urls': [{'url': 'https://t.co/3Wsv34dqEt', 'expanded_url': 'https://twitter.com/i/web/status/1282490526684463105', 'display_url': 'twitter.com/i/web/status/1…', 'indices': [117, 140]}]}, 'source': '<a href=\"http://twitter.com/download/iphone\" rel=\"nofollow\">Twitter for iPhone</a>', 'in_reply_to_status_id': None, 'in_reply_to_status_id_str': None, 'in_reply_to_user_id': None, 'in_reply_to_user_id_str': None, 'in_reply_to_screen_name': None, 'user': {'id': 745599511960051712, 'id_str': '745599511960051712', 'name': 'Ricardo Menéndez', 'screen_name': 'RMarchNZ', 'location': 'Auckland, New Zealand', 'description': 'Green Party 2020 candidate for Maungakiekie. AAAP spokesperson. Mexicano. Climate and economic justice yarns 🍉 Auth’d by G Shaw, 1/17 Garrett Street, WLG', 'url': 'https://t.co/GHHi1edIUx', 'entities': {'url': {'urls': [{'url': 'https://t.co/GHHi1edIUx', 'expanded_url': 'https://www.greens.org.nz/joinricardo', 'display_url': 'greens.org.nz/joinricardo', 'indices': [0, 23]}]}, 'description': {'urls': []}}, 'protected': False, 'followers_count': 3799, 'friends_count': 1804, 'listed_count': 20, 'created_at': 'Wed Jun 22 12:49:11 +0000 2016', 'favourites_count': 8038, 'utc_offset': None, 'time_zone': None, 'geo_enabled': True, 'verified': False, 'statuses_count': 3668, 'lang': None, 'contributors_enabled': False, 'is_translator': False, 'is_translation_enabled': False, 'profile_background_color': 'F5F8FA', 'profile_background_image_url': None, 'profile_background_image_url_https': None, 'profile_background_tile': False, 'profile_image_url': 'http://pbs.twimg.com/profile_images/1234061999203422208/7d3JUaKW_normal.jpg', 'profile_image_url_https': 'https://pbs.twimg.com/profile_images/1234061999203422208/7d3JUaKW_normal.jpg', 'profile_banner_url': 'https://pbs.twimg.com/profile_banners/745599511960051712/1575024214', 'profile_link_color': '1DA1F2', 'profile_sidebar_border_color': 'C0DEED', 'profile_sidebar_fill_color': 'DDEEF6', 'profile_text_color': '333333', 'profile_use_background_image': True, 'has_extended_profile': True, 'default_profile': True, 'default_profile_image': False, 'following': False, 'follow_request_sent': False, 'notifications': False, 'translator_type': 'none'}, 'geo': None, 'coordinates': None, 'place': {'id': '0022e3c837579650', 'url': 'https://api.twitter.com/1.1/geo/id/0022e3c837579650.json', 'place_type': 'city', 'name': 'Auckland', 'full_name': 'Auckland, New Zealand', 'country_code': 'NZ', 'country': 'New Zealand', 'contained_within': [], 'bounding_box': {'type': 'Polygon', 'coordinates': [[[174.161834, -37.292621], [175.550653, -37.292621], [175.550653, -35.898837], [174.161834, -35.898837]]]}, 'attributes': {}}, 'contributors': None, 'is_quote_status': False, 'retweet_count': 13, 'favorite_count': 86, 'favorited': False, 'retweeted': True, 'lang': 'en'}, created_at=datetime.datetime(2020, 7, 13, 1, 42, 23), id=1282490526684463105, id_str='1282490526684463105', text='Greens’ election platform: guaranteed minimum incomes, tax on wealth, solar panels on public housing, green jobs in… https://t.co/3Wsv34dqEt', truncated=True, entities={'hashtags': [], 'symbols': [], 'user_mentions': [], 'urls': [{'url': 'https://t.co/3Wsv34dqEt', 'expanded_url': 'https://twitter.com/i/web/status/1282490526684463105', 'display_url': 'twitter.com/i/web/status/1…', 'indices': [117, 140]}]}, source='Twitter for iPhone', source_url='http://twitter.com/download/iphone', in_reply_to_status_id=None, in_reply_to_status_id_str=None, in_reply_to_user_id=None, in_reply_to_user_id_str=None, in_reply_to_screen_name=None, author=User(_api=<tweepy.api.API object at 0x103da65d0>, _json={'id': 745599511960051712, 'id_str': '745599511960051712', 'name': 'Ricardo Menéndez', 'screen_name': 'RMarchNZ', 'location': 'Auckland, New Zealand', 'description': 'Green Party 2020 candidate for Maungakiekie. AAAP spokesperson. Mexicano. Climate and economic justice yarns 🍉 Auth’d by G Shaw, 1/17 Garrett Street, WLG', 'url': 'https://t.co/GHHi1edIUx', 'entities': {'url': {'urls': [{'url': 'https://t.co/GHHi1edIUx', 'expanded_url': 'https://www.greens.org.nz/joinricardo', 'display_url': 'greens.org.nz/joinricardo', 'indices': [0, 23]}]}, 'description': {'urls': []}}, 'protected': False, 'followers_count': 3799, 'friends_count': 1804, 'listed_count': 20, 'created_at': 'Wed Jun 22 12:49:11 +0000 2016', 'favourites_count': 8038, 'utc_offset': None, 'time_zone': None, 'geo_enabled': True, 'verified': False, 'statuses_count': 3668, 'lang': None, 'contributors_enabled': False, 'is_translator': False, 'is_translation_enabled': False, 'profile_background_color': 'F5F8FA', 'profile_background_image_url': None, 'profile_background_image_url_https': None, 'profile_background_tile': False, 'profile_image_url': 'http://pbs.twimg.com/profile_images/1234061999203422208/7d3JUaKW_normal.jpg', 'profile_image_url_https': 'https://pbs.twimg.com/profile_images/1234061999203422208/7d3JUaKW_normal.jpg', 'profile_banner_url': 'https://pbs.twimg.com/profile_banners/745599511960051712/1575024214', 'profile_link_color': '1DA1F2', 'profile_sidebar_border_color': 'C0DEED', 'profile_sidebar_fill_color': 'DDEEF6', 'profile_text_color': '333333', 'profile_use_background_image': True, 'has_extended_profile': True, 'default_profile': True, 'default_profile_image': False, 'following': False, 'follow_request_sent': False, 'notifications': False, 'translator_type': 'none'}, id=745599511960051712, id_str='745599511960051712', name='Ricardo Menéndez', screen_name='RMarchNZ', location='Auckland, New Zealand', description='Green Party 2020 candidate for Maungakiekie. AAAP spokesperson. Mexicano. Climate and economic justice yarns 🍉 Auth’d by G Shaw, 1/17 Garrett Street, WLG', url='https://t.co/GHHi1edIUx', entities={'url': {'urls': [{'url': 'https://t.co/GHHi1edIUx', 'expanded_url': 'https://www.greens.org.nz/joinricardo', 'display_url': 'greens.org.nz/joinricardo', 'indices': [0, 23]}]}, 'description': {'urls': []}}, protected=False, followers_count=3799, friends_count=1804, listed_count=20, created_at=datetime.datetime(2016, 6, 22, 12, 49, 11), favourites_count=8038, utc_offset=None, time_zone=None, geo_enabled=True, verified=False, statuses_count=3668, lang=None, contributors_enabled=False, is_translator=False, is_translation_enabled=False, profile_background_color='F5F8FA', profile_background_image_url=None, profile_background_image_url_https=None, profile_background_tile=False, profile_image_url='http://pbs.twimg.com/profile_images/1234061999203422208/7d3JUaKW_normal.jpg', profile_image_url_https='https://pbs.twimg.com/profile_images/1234061999203422208/7d3JUaKW_normal.jpg', profile_banner_url='https://pbs.twimg.com/profile_banners/745599511960051712/1575024214', profile_link_color='1DA1F2', profile_sidebar_border_color='C0DEED', profile_sidebar_fill_color='DDEEF6', profile_text_color='333333', profile_use_background_image=True, has_extended_profile=True, default_profile=True, default_profile_image=False, following=False, follow_request_sent=False, notifications=False, translator_type='none'), user=User(_api=<tweepy.api.API object at 0x103da65d0>, _json={'id': 745599511960051712, 'id_str': '745599511960051712', 'name': 'Ricardo Menéndez', 'screen_name': 'RMarchNZ', 'location': 'Auckland, New Zealand', 'description': 'Green Party 2020 candidate for Maungakiekie. AAAP spokesperson. Mexicano. Climate and economic justice yarns 🍉 Auth’d by G Shaw, 1/17 Garrett Street, WLG', 'url': 'https://t.co/GHHi1edIUx', 'entities': {'url': {'urls': [{'url': 'https://t.co/GHHi1edIUx', 'expanded_url': 'https://www.greens.org.nz/joinricardo', 'display_url': 'greens.org.nz/joinricardo', 'indices': [0, 23]}]}, 'description': {'urls': []}}, 'protected': False, 'followers_count': 3799, 'friends_count': 1804, 'listed_count': 20, 'created_at': 'Wed Jun 22 12:49:11 +0000 2016', 'favourites_count': 8038, 'utc_offset': None, 'time_zone': None, 'geo_enabled': True, 'verified': False, 'statuses_count': 3668, 'lang': None, 'contributors_enabled': False, 'is_translator': False, 'is_translation_enabled': False, 'profile_background_color': 'F5F8FA', 'profile_background_image_url': None, 'profile_background_image_url_https': None, 'profile_background_tile': False, 'profile_image_url': 'http://pbs.twimg.com/profile_images/1234061999203422208/7d3JUaKW_normal.jpg', 'profile_image_url_https': 'https://pbs.twimg.com/profile_images/1234061999203422208/7d3JUaKW_normal.jpg', 'profile_banner_url': 'https://pbs.twimg.com/profile_banners/745599511960051712/1575024214', 'profile_link_color': '1DA1F2', 'profile_sidebar_border_color': 'C0DEED', 'profile_sidebar_fill_color': 'DDEEF6', 'profile_text_color': '333333', 'profile_use_background_image': True, 'has_extended_profile': True, 'default_profile': True, 'default_profile_image': False, 'following': False, 'follow_request_sent': False, 'notifications': False, 'translator_type': 'none'}, id=745599511960051712, id_str='745599511960051712', name='Ricardo Menéndez', screen_name='RMarchNZ', location='Auckland, New Zealand', description='Green Party 2020 candidate for Maungakiekie. AAAP spokesperson. Mexicano. Climate and economic justice yarns 🍉 Auth’d by G Shaw, 1/17 Garrett Street, WLG', url='https://t.co/GHHi1edIUx', entities={'url': {'urls': [{'url': 'https://t.co/GHHi1edIUx', 'expanded_url': 'https://www.greens.org.nz/joinricardo', 'display_url': 'greens.org.nz/joinricardo', 'indices': [0, 23]}]}, 'description': {'urls': []}}, protected=False, followers_count=3799, friends_count=1804, listed_count=20, created_at=datetime.datetime(2016, 6, 22, 12, 49, 11), favourites_count=8038, utc_offset=None, time_zone=None, geo_enabled=True, verified=False, statuses_count=3668, lang=None, contributors_enabled=False, is_translator=False, is_translation_enabled=False, profile_background_color='F5F8FA', profile_background_image_url=None, profile_background_image_url_https=None, profile_background_tile=False, profile_image_url='http://pbs.twimg.com/profile_images/1234061999203422208/7d3JUaKW_normal.jpg', profile_image_url_https='https://pbs.twimg.com/profile_images/1234061999203422208/7d3JUaKW_normal.jpg', profile_banner_url='https://pbs.twimg.com/profile_banners/745599511960051712/1575024214', profile_link_color='1DA1F2', profile_sidebar_border_color='C0DEED', profile_sidebar_fill_color='DDEEF6', profile_text_color='333333', profile_use_background_image=True, has_extended_profile=True, default_profile=True, default_profile_image=False, following=False, follow_request_sent=False, notifications=False, translator_type='none'), geo=None, coordinates=None, place=Place(_api=<tweepy.api.API object at 0x103da65d0>, id='0022e3c837579650', url='https://api.twitter.com/1.1/geo/id/0022e3c837579650.json', place_type='city', name='Auckland', full_name='Auckland, New Zealand', country_code='NZ', country='New Zealand', contained_within=[], bounding_box=BoundingBox(_api=<tweepy.api.API object at 0x103da65d0>, type='Polygon', coordinates=[[[174.161834, -37.292621], [175.550653, -37.292621], [175.550653, -35.898837], [174.161834, -35.898837]]]), attributes={}), contributors=None, is_quote_status=False, retweet_count=13, favorite_count=86, favorited=False, retweeted=True, lang='en'), is_quote_status=False, retweet_count=13, favorite_count=0, favorited=False, retweeted=True, lang='en')"
      ]
     },
     "execution_count": 65,
     "metadata": {},
     "output_type": "execute_result"
    }
   ],
   "source": [
    "rt_result = tweet_to_rt.retweet()"
   ]
  },
  {
   "cell_type": "code",
   "execution_count": null,
   "metadata": {},
   "outputs": [],
   "source": []
  }
 ],
 "metadata": {
  "kernelspec": {
   "display_name": "Python 3",
   "language": "python",
   "name": "python3"
  },
  "language_info": {
   "codemirror_mode": {
    "name": "ipython",
    "version": 3
   },
   "file_extension": ".py",
   "mimetype": "text/x-python",
   "name": "python",
   "nbconvert_exporter": "python",
   "pygments_lexer": "ipython3",
   "version": "3.7.7"
  }
 },
 "nbformat": 4,
 "nbformat_minor": 2
}

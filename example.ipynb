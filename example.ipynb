{
 "cells": [
  {
   "cell_type": "markdown",
   "metadata": {},
   "source": [
    "Resoruces:\n",
    " - https://www.digitalocean.com/community/tutorials/how-to-create-a-twitterbot-with-python-3-and-the-tweepy-library#storing-credentials\n",
    " - https://www.digitalocean.com/community/tutorials/how-to-create-a-twitter-app\n",
    " - https://blog.devmountain.com/its-alive-how-to-make-a-twitter-bot-in-five-steps/\n",
    " - https://readwrite.com/2014/06/20/random-non-sequitur-twitter-bot-instructions/\n",
    " - https://dev.to/emcain/how-to-set-up-a-twitter-bot-with-python-and-heroku-1n39\n",
    "        \n",
    "        \n",
    "Tweets:\n",
    "\n",
    " - https://developer.twitter.com/en/docs/tweets/tweet-updates\n",
    "        "
   ]
  },
  {
   "cell_type": "code",
   "execution_count": null,
   "metadata": {},
   "outputs": [],
   "source": []
  },
  {
   "cell_type": "markdown",
   "metadata": {},
   "source": [
    "### Connect"
   ]
  },
  {
   "cell_type": "code",
   "execution_count": 6,
   "metadata": {},
   "outputs": [],
   "source": [
    "# Import Tweepy, sleep, credentials.py\n",
    "import tweepy\n",
    "from time import sleep\n"
   ]
  },
  {
   "cell_type": "code",
   "execution_count": 7,
   "metadata": {},
   "outputs": [],
   "source": [
    "import sys, os\n",
    "sys.path.insert(1, os.path.join(sys.path[0], '..'))\n",
    "from credentials import *"
   ]
  },
  {
   "cell_type": "code",
   "execution_count": 8,
   "metadata": {},
   "outputs": [],
   "source": [
    "# Access and authorize our Twitter credentials from credentials.py\n",
    "auth = tweepy.OAuthHandler(consumer_key, consumer_secret)\n",
    "auth.set_access_token(access_token, access_token_secret)\n",
    "api = tweepy.API(auth)"
   ]
  },
  {
   "cell_type": "code",
   "execution_count": null,
   "metadata": {},
   "outputs": [],
   "source": []
  },
  {
   "cell_type": "code",
   "execution_count": 9,
   "metadata": {},
   "outputs": [],
   "source": [
    "import tweepy"
   ]
  },
  {
   "cell_type": "markdown",
   "metadata": {},
   "source": [
    "### write a tweet"
   ]
  },
  {
   "cell_type": "code",
   "execution_count": 3,
   "metadata": {},
   "outputs": [
    {
     "data": {
      "text/plain": [
       "Status(_api=<tweepy.api.API object at 0x103da65d0>, _json={'created_at': 'Mon Jul 13 04:26:32 +0000 2020', 'id': 1282531836594286597, 'id_str': '1282531836594286597', 'text': '#legalisehousing', 'truncated': False, 'entities': {'hashtags': [{'text': 'legalisehousing', 'indices': [0, 16]}], 'symbols': [], 'user_mentions': [], 'urls': []}, 'source': '<a href=\"https://twitter.com/aotearoayimby\" rel=\"nofollow\">retweethousing</a>', 'in_reply_to_status_id': None, 'in_reply_to_status_id_str': None, 'in_reply_to_user_id': None, 'in_reply_to_user_id_str': None, 'in_reply_to_screen_name': None, 'user': {'id': 1276662988460576768, 'id_str': '1276662988460576768', 'name': 'Housing is a human right 🥑🥑🥑', 'screen_name': 'AotearoaYimby', 'location': 'Aotearoa', 'description': 'Aotearoa Yes in my backyard! \\n\\nLegalise housing\\n\\nhousing is a human right', 'url': None, 'entities': {'description': {'urls': []}}, 'protected': False, 'followers_count': 8, 'friends_count': 66, 'listed_count': 0, 'created_at': 'Fri Jun 26 23:45:58 +0000 2020', 'favourites_count': 4, 'utc_offset': None, 'time_zone': None, 'geo_enabled': False, 'verified': False, 'statuses_count': 17, 'lang': None, 'contributors_enabled': False, 'is_translator': False, 'is_translation_enabled': False, 'profile_background_color': 'F5F8FA', 'profile_background_image_url': None, 'profile_background_image_url_https': None, 'profile_background_tile': False, 'profile_image_url': 'http://pbs.twimg.com/profile_images/1276666373821759489/AHczBGmf_normal.jpg', 'profile_image_url_https': 'https://pbs.twimg.com/profile_images/1276666373821759489/AHczBGmf_normal.jpg', 'profile_banner_url': 'https://pbs.twimg.com/profile_banners/1276662988460576768/1593215602', 'profile_link_color': '1DA1F2', 'profile_sidebar_border_color': 'C0DEED', 'profile_sidebar_fill_color': 'DDEEF6', 'profile_text_color': '333333', 'profile_use_background_image': True, 'has_extended_profile': True, 'default_profile': True, 'default_profile_image': False, 'following': False, 'follow_request_sent': False, 'notifications': False, 'translator_type': 'none'}, 'geo': None, 'coordinates': None, 'place': None, 'contributors': None, 'is_quote_status': False, 'retweet_count': 0, 'favorite_count': 0, 'favorited': False, 'retweeted': False, 'lang': 'und'}, created_at=datetime.datetime(2020, 7, 13, 4, 26, 32), id=1282531836594286597, id_str='1282531836594286597', text='#legalisehousing', truncated=False, entities={'hashtags': [{'text': 'legalisehousing', 'indices': [0, 16]}], 'symbols': [], 'user_mentions': [], 'urls': []}, source='retweethousing', source_url='https://twitter.com/aotearoayimby', in_reply_to_status_id=None, in_reply_to_status_id_str=None, in_reply_to_user_id=None, in_reply_to_user_id_str=None, in_reply_to_screen_name=None, author=User(_api=<tweepy.api.API object at 0x103da65d0>, _json={'id': 1276662988460576768, 'id_str': '1276662988460576768', 'name': 'Housing is a human right 🥑🥑🥑', 'screen_name': 'AotearoaYimby', 'location': 'Aotearoa', 'description': 'Aotearoa Yes in my backyard! \\n\\nLegalise housing\\n\\nhousing is a human right', 'url': None, 'entities': {'description': {'urls': []}}, 'protected': False, 'followers_count': 8, 'friends_count': 66, 'listed_count': 0, 'created_at': 'Fri Jun 26 23:45:58 +0000 2020', 'favourites_count': 4, 'utc_offset': None, 'time_zone': None, 'geo_enabled': False, 'verified': False, 'statuses_count': 17, 'lang': None, 'contributors_enabled': False, 'is_translator': False, 'is_translation_enabled': False, 'profile_background_color': 'F5F8FA', 'profile_background_image_url': None, 'profile_background_image_url_https': None, 'profile_background_tile': False, 'profile_image_url': 'http://pbs.twimg.com/profile_images/1276666373821759489/AHczBGmf_normal.jpg', 'profile_image_url_https': 'https://pbs.twimg.com/profile_images/1276666373821759489/AHczBGmf_normal.jpg', 'profile_banner_url': 'https://pbs.twimg.com/profile_banners/1276662988460576768/1593215602', 'profile_link_color': '1DA1F2', 'profile_sidebar_border_color': 'C0DEED', 'profile_sidebar_fill_color': 'DDEEF6', 'profile_text_color': '333333', 'profile_use_background_image': True, 'has_extended_profile': True, 'default_profile': True, 'default_profile_image': False, 'following': False, 'follow_request_sent': False, 'notifications': False, 'translator_type': 'none'}, id=1276662988460576768, id_str='1276662988460576768', name='Housing is a human right 🥑🥑🥑', screen_name='AotearoaYimby', location='Aotearoa', description='Aotearoa Yes in my backyard! \\n\\nLegalise housing\\n\\nhousing is a human right', url=None, entities={'description': {'urls': []}}, protected=False, followers_count=8, friends_count=66, listed_count=0, created_at=datetime.datetime(2020, 6, 26, 23, 45, 58), favourites_count=4, utc_offset=None, time_zone=None, geo_enabled=False, verified=False, statuses_count=17, lang=None, contributors_enabled=False, is_translator=False, is_translation_enabled=False, profile_background_color='F5F8FA', profile_background_image_url=None, profile_background_image_url_https=None, profile_background_tile=False, profile_image_url='http://pbs.twimg.com/profile_images/1276666373821759489/AHczBGmf_normal.jpg', profile_image_url_https='https://pbs.twimg.com/profile_images/1276666373821759489/AHczBGmf_normal.jpg', profile_banner_url='https://pbs.twimg.com/profile_banners/1276662988460576768/1593215602', profile_link_color='1DA1F2', profile_sidebar_border_color='C0DEED', profile_sidebar_fill_color='DDEEF6', profile_text_color='333333', profile_use_background_image=True, has_extended_profile=True, default_profile=True, default_profile_image=False, following=False, follow_request_sent=False, notifications=False, translator_type='none'), user=User(_api=<tweepy.api.API object at 0x103da65d0>, _json={'id': 1276662988460576768, 'id_str': '1276662988460576768', 'name': 'Housing is a human right 🥑🥑🥑', 'screen_name': 'AotearoaYimby', 'location': 'Aotearoa', 'description': 'Aotearoa Yes in my backyard! \\n\\nLegalise housing\\n\\nhousing is a human right', 'url': None, 'entities': {'description': {'urls': []}}, 'protected': False, 'followers_count': 8, 'friends_count': 66, 'listed_count': 0, 'created_at': 'Fri Jun 26 23:45:58 +0000 2020', 'favourites_count': 4, 'utc_offset': None, 'time_zone': None, 'geo_enabled': False, 'verified': False, 'statuses_count': 17, 'lang': None, 'contributors_enabled': False, 'is_translator': False, 'is_translation_enabled': False, 'profile_background_color': 'F5F8FA', 'profile_background_image_url': None, 'profile_background_image_url_https': None, 'profile_background_tile': False, 'profile_image_url': 'http://pbs.twimg.com/profile_images/1276666373821759489/AHczBGmf_normal.jpg', 'profile_image_url_https': 'https://pbs.twimg.com/profile_images/1276666373821759489/AHczBGmf_normal.jpg', 'profile_banner_url': 'https://pbs.twimg.com/profile_banners/1276662988460576768/1593215602', 'profile_link_color': '1DA1F2', 'profile_sidebar_border_color': 'C0DEED', 'profile_sidebar_fill_color': 'DDEEF6', 'profile_text_color': '333333', 'profile_use_background_image': True, 'has_extended_profile': True, 'default_profile': True, 'default_profile_image': False, 'following': False, 'follow_request_sent': False, 'notifications': False, 'translator_type': 'none'}, id=1276662988460576768, id_str='1276662988460576768', name='Housing is a human right 🥑🥑🥑', screen_name='AotearoaYimby', location='Aotearoa', description='Aotearoa Yes in my backyard! \\n\\nLegalise housing\\n\\nhousing is a human right', url=None, entities={'description': {'urls': []}}, protected=False, followers_count=8, friends_count=66, listed_count=0, created_at=datetime.datetime(2020, 6, 26, 23, 45, 58), favourites_count=4, utc_offset=None, time_zone=None, geo_enabled=False, verified=False, statuses_count=17, lang=None, contributors_enabled=False, is_translator=False, is_translation_enabled=False, profile_background_color='F5F8FA', profile_background_image_url=None, profile_background_image_url_https=None, profile_background_tile=False, profile_image_url='http://pbs.twimg.com/profile_images/1276666373821759489/AHczBGmf_normal.jpg', profile_image_url_https='https://pbs.twimg.com/profile_images/1276666373821759489/AHczBGmf_normal.jpg', profile_banner_url='https://pbs.twimg.com/profile_banners/1276662988460576768/1593215602', profile_link_color='1DA1F2', profile_sidebar_border_color='C0DEED', profile_sidebar_fill_color='DDEEF6', profile_text_color='333333', profile_use_background_image=True, has_extended_profile=True, default_profile=True, default_profile_image=False, following=False, follow_request_sent=False, notifications=False, translator_type='none'), geo=None, coordinates=None, place=None, contributors=None, is_quote_status=False, retweet_count=0, favorite_count=0, favorited=False, retweeted=False, lang='und')"
      ]
     },
     "execution_count": 3,
     "metadata": {},
     "output_type": "execute_result"
    }
   ],
   "source": [
    "# Write a tweet to push to our Twitter account\n",
    "tweet = '#legalisehousing'\n",
    "api.update_status(status=tweet)"
   ]
  },
  {
   "cell_type": "markdown",
   "metadata": {},
   "source": [
    "### get some tweets"
   ]
  },
  {
   "cell_type": "code",
   "execution_count": 78,
   "metadata": {},
   "outputs": [],
   "source": [
    "from datetime import datetime, timezone, timedelta\n",
    "start = (datetime.now(timezone.utc) - timedelta(days=1)).strftime(\"%Y-%m-%d\")\n",
    "end = (datetime.now(timezone.utc) + timedelta(days=1)).strftime(\"%Y-%m-%d\")\n",
    "#this is EXCLUSIVE of 'end', \n",
    "#so we have to put in the end to be TOMORROW \n",
    "#if we want it to get tweets from today"
   ]
  },
  {
   "cell_type": "code",
   "execution_count": 79,
   "metadata": {},
   "outputs": [
    {
     "name": "stdout",
     "output_type": "stream",
     "text": [
      "from 2020-07-12 to 2020-07-14\n",
      "Tweet by: @vaughndavis\n",
      "0\n",
      "Tweet by: @hellomotorbike\n",
      "0\n",
      "Tweet by: @AnxietyHobbit\n",
      "0\n",
      "Tweet by: @JamesMFCNZ\n",
      "3\n",
      "Tweet by: @bernardchickey\n",
      "11\n",
      "Tweet by: @elen2486\n",
      "1\n",
      "Tweet by: @Aethylred\n",
      "0\n",
      "Tweet by: @sarahpolo10\n",
      "1\n",
      "Tweet by: @dylanp\n",
      "0\n",
      "Tweet by: @miketreen\n",
      "0\n",
      "Tweet by: @anarkaytie\n",
      "2\n",
      "Tweet by: @JamesFluker\n",
      "0\n",
      "Tweet by: @BexGraham\n",
      "0\n",
      "Tweet by: @AotearoaYimby\n",
      "0\n",
      "Tweet by: @2TAPU\n",
      "12\n",
      "Tweet by: @thekiwicanary\n",
      "0\n",
      "Tweet by: @sarahhbickerton\n",
      "53\n",
      "Tweet by: @weincludedorg\n",
      "0\n",
      "Tweet by: @allonsflaneur\n",
      "1\n",
      "Tweet by: @RosemarieNorth\n",
      "6\n",
      "Tweet by: @Jubbb\n",
      "0\n",
      "Tweet by: @Maureen473\n",
      "1\n",
      "Tweet by: @JulieAnneGenter\n",
      "2\n",
      "Tweet by: @NZBystander\n",
      "0\n",
      "Tweet by: @LouieTheRed1\n",
      "0\n",
      "Tweet by: @_snozzberry_\n",
      "5\n",
      "Tweet by: @Kiwi_Whites\n",
      "0\n",
      "Tweet by: @lachlandcp\n",
      "0\n",
      "Tweet by: @LaceEatenLegs\n",
      "4\n",
      "Tweet by: @NedGilmore\n",
      "0\n"
     ]
    }
   ],
   "source": [
    "print(\"from \" + start + \" to \" + end)\n",
    "# For loop to iterate over tweets with #ocean, limit to 10\n",
    "for tweet in tweepy.Cursor(api.search,\n",
    "                           q='housing',\n",
    "                           since=start,\n",
    "                           until=end,\n",
    "                          geocode='-41.1,173.3,1500km').items(30):\n",
    "\n",
    "# Print out usernames of the last 10 people to use #ocean\n",
    "    print('Tweet by: @' + tweet.user.screen_name)\n",
    "    print(tweet.favorite_count)\n",
    "    "
   ]
  },
  {
   "cell_type": "code",
   "execution_count": 68,
   "metadata": {},
   "outputs": [
    {
     "data": {
      "text/plain": [
       "[2, 0, 0, 1, 0, 0, 1, 14, 0, 0, 9, 40, 1, 0, 0, 0, 4, 86, 0, 39]"
      ]
     },
     "execution_count": 68,
     "metadata": {},
     "output_type": "execute_result"
    }
   ],
   "source": [
    "fav_counts = [t.favorite_count for t in tweets]#.index(max())\n",
    "fav_counts"
   ]
  },
  {
   "cell_type": "markdown",
   "metadata": {},
   "source": [
    "## get the most populat tweet and retweet it. then wait 10 minutes and tweet the most recent tweet"
   ]
  },
  {
   "cell_type": "code",
   "execution_count": 11,
   "metadata": {},
   "outputs": [],
   "source": [
    "from datetime import datetime, timezone, timedelta\n",
    "start = (datetime.now(timezone.utc) - timedelta(days=1)).strftime(\"%Y-%m-%d\")\n",
    "end = (datetime.now(timezone.utc) + timedelta(days=1)).strftime(\"%Y-%m-%d\")\n",
    "#this is EXCLUSIVE of 'end', \n",
    "#so we have to put in the end to be TOMORROW \n",
    "#if we want it to get tweets from today"
   ]
  },
  {
   "cell_type": "code",
   "execution_count": 59,
   "metadata": {},
   "outputs": [],
   "source": [
    "tweets = [t for t in \n",
    "          tweepy.Cursor(api.search,\n",
    "                           q='housing',\n",
    "                           since=start,\n",
    "                           until=end,\n",
    "                          geocode='-41.1,173.3,1500km').items(20)\n",
    "         ]# get the 20 MOST RECENT tweets that match the qualification\n",
    "\n"
   ]
  },
  {
   "cell_type": "code",
   "execution_count": 62,
   "metadata": {},
   "outputs": [],
   "source": [
    "# TO DO: filter by a date range"
   ]
  },
  {
   "cell_type": "code",
   "execution_count": null,
   "metadata": {},
   "outputs": [],
   "source": [
    "fav_counts = [t.favorite_count for t in tweets]"
   ]
  },
  {
   "cell_type": "code",
   "execution_count": 63,
   "metadata": {},
   "outputs": [],
   "source": [
    "tweet_to_rt_index =  fav_counts.index(max(fav_counts)) # get the index of an arbitrary tweet with the most favorites\n",
    "tweet_to_rt = tweets[tweet_to_rt_index]"
   ]
  },
  {
   "cell_type": "code",
   "execution_count": null,
   "metadata": {},
   "outputs": [],
   "source": []
  },
  {
   "cell_type": "code",
   "execution_count": 65,
   "metadata": {},
   "outputs": [
    {
     "data": {
      "text/plain": [
       "Status(_api=<tweepy.api.API object at 0x103da65d0>, _json={'created_at': 'Mon Jul 13 05:02:04 +0000 2020', 'id': 1282540776447078403, 'id_str': '1282540776447078403', 'text': 'RT @RMarchNZ: Greens’ election platform: guaranteed minimum incomes, tax on wealth, solar panels on public housing, green jobs in clean ene…', 'truncated': False, 'entities': {'hashtags': [], 'symbols': [], 'user_mentions': [{'screen_name': 'RMarchNZ', 'name': 'Ricardo Menéndez', 'id': 745599511960051712, 'id_str': '745599511960051712', 'indices': [3, 12]}], 'urls': []}, 'source': '<a href=\"https://twitter.com/aotearoayimby\" rel=\"nofollow\">retweethousing</a>', 'in_reply_to_status_id': None, 'in_reply_to_status_id_str': None, 'in_reply_to_user_id': None, 'in_reply_to_user_id_str': None, 'in_reply_to_screen_name': None, 'user': {'id': 1276662988460576768, 'id_str': '1276662988460576768', 'name': 'Housing is a human right 🥑🥑🥑', 'screen_name': 'AotearoaYimby', 'location': 'Aotearoa', 'description': 'Aotearoa Yes in my backyard! \\n\\nLegalise housing\\n\\nhousing is a human right', 'url': None, 'entities': {'description': {'urls': []}}, 'protected': False, 'followers_count': 8, 'friends_count': 66, 'listed_count': 0, 'created_at': 'Fri Jun 26 23:45:58 +0000 2020', 'favourites_count': 4, 'utc_offset': None, 'time_zone': None, 'geo_enabled': False, 'verified': False, 'statuses_count': 17, 'lang': None, 'contributors_enabled': False, 'is_translator': False, 'is_translation_enabled': False, 'profile_background_color': 'F5F8FA', 'profile_background_image_url': None, 'profile_background_image_url_https': None, 'profile_background_tile': False, 'profile_image_url': 'http://pbs.twimg.com/profile_images/1276666373821759489/AHczBGmf_normal.jpg', 'profile_image_url_https': 'https://pbs.twimg.com/profile_images/1276666373821759489/AHczBGmf_normal.jpg', 'profile_banner_url': 'https://pbs.twimg.com/profile_banners/1276662988460576768/1593215602', 'profile_link_color': '1DA1F2', 'profile_sidebar_border_color': 'C0DEED', 'profile_sidebar_fill_color': 'DDEEF6', 'profile_text_color': '333333', 'profile_use_background_image': True, 'has_extended_profile': True, 'default_profile': True, 'default_profile_image': False, 'following': False, 'follow_request_sent': False, 'notifications': False, 'translator_type': 'none'}, 'geo': None, 'coordinates': None, 'place': None, 'contributors': None, 'retweeted_status': {'created_at': 'Mon Jul 13 01:42:23 +0000 2020', 'id': 1282490526684463105, 'id_str': '1282490526684463105', 'text': 'Greens’ election platform: guaranteed minimum incomes, tax on wealth, solar panels on public housing, green jobs in… https://t.co/3Wsv34dqEt', 'truncated': True, 'entities': {'hashtags': [], 'symbols': [], 'user_mentions': [], 'urls': [{'url': 'https://t.co/3Wsv34dqEt', 'expanded_url': 'https://twitter.com/i/web/status/1282490526684463105', 'display_url': 'twitter.com/i/web/status/1…', 'indices': [117, 140]}]}, 'source': '<a href=\"http://twitter.com/download/iphone\" rel=\"nofollow\">Twitter for iPhone</a>', 'in_reply_to_status_id': None, 'in_reply_to_status_id_str': None, 'in_reply_to_user_id': None, 'in_reply_to_user_id_str': None, 'in_reply_to_screen_name': None, 'user': {'id': 745599511960051712, 'id_str': '745599511960051712', 'name': 'Ricardo Menéndez', 'screen_name': 'RMarchNZ', 'location': 'Auckland, New Zealand', 'description': 'Green Party 2020 candidate for Maungakiekie. AAAP spokesperson. Mexicano. Climate and economic justice yarns 🍉 Auth’d by G Shaw, 1/17 Garrett Street, WLG', 'url': 'https://t.co/GHHi1edIUx', 'entities': {'url': {'urls': [{'url': 'https://t.co/GHHi1edIUx', 'expanded_url': 'https://www.greens.org.nz/joinricardo', 'display_url': 'greens.org.nz/joinricardo', 'indices': [0, 23]}]}, 'description': {'urls': []}}, 'protected': False, 'followers_count': 3799, 'friends_count': 1804, 'listed_count': 20, 'created_at': 'Wed Jun 22 12:49:11 +0000 2016', 'favourites_count': 8038, 'utc_offset': None, 'time_zone': None, 'geo_enabled': True, 'verified': False, 'statuses_count': 3668, 'lang': None, 'contributors_enabled': False, 'is_translator': False, 'is_translation_enabled': False, 'profile_background_color': 'F5F8FA', 'profile_background_image_url': None, 'profile_background_image_url_https': None, 'profile_background_tile': False, 'profile_image_url': 'http://pbs.twimg.com/profile_images/1234061999203422208/7d3JUaKW_normal.jpg', 'profile_image_url_https': 'https://pbs.twimg.com/profile_images/1234061999203422208/7d3JUaKW_normal.jpg', 'profile_banner_url': 'https://pbs.twimg.com/profile_banners/745599511960051712/1575024214', 'profile_link_color': '1DA1F2', 'profile_sidebar_border_color': 'C0DEED', 'profile_sidebar_fill_color': 'DDEEF6', 'profile_text_color': '333333', 'profile_use_background_image': True, 'has_extended_profile': True, 'default_profile': True, 'default_profile_image': False, 'following': False, 'follow_request_sent': False, 'notifications': False, 'translator_type': 'none'}, 'geo': None, 'coordinates': None, 'place': {'id': '0022e3c837579650', 'url': 'https://api.twitter.com/1.1/geo/id/0022e3c837579650.json', 'place_type': 'city', 'name': 'Auckland', 'full_name': 'Auckland, New Zealand', 'country_code': 'NZ', 'country': 'New Zealand', 'contained_within': [], 'bounding_box': {'type': 'Polygon', 'coordinates': [[[174.161834, -37.292621], [175.550653, -37.292621], [175.550653, -35.898837], [174.161834, -35.898837]]]}, 'attributes': {}}, 'contributors': None, 'is_quote_status': False, 'retweet_count': 13, 'favorite_count': 86, 'favorited': False, 'retweeted': True, 'lang': 'en'}, 'is_quote_status': False, 'retweet_count': 13, 'favorite_count': 0, 'favorited': False, 'retweeted': True, 'lang': 'en'}, created_at=datetime.datetime(2020, 7, 13, 5, 2, 4), id=1282540776447078403, id_str='1282540776447078403', text='RT @RMarchNZ: Greens’ election platform: guaranteed minimum incomes, tax on wealth, solar panels on public housing, green jobs in clean ene…', truncated=False, entities={'hashtags': [], 'symbols': [], 'user_mentions': [{'screen_name': 'RMarchNZ', 'name': 'Ricardo Menéndez', 'id': 745599511960051712, 'id_str': '745599511960051712', 'indices': [3, 12]}], 'urls': []}, source='retweethousing', source_url='https://twitter.com/aotearoayimby', in_reply_to_status_id=None, in_reply_to_status_id_str=None, in_reply_to_user_id=None, in_reply_to_user_id_str=None, in_reply_to_screen_name=None, author=User(_api=<tweepy.api.API object at 0x103da65d0>, _json={'id': 1276662988460576768, 'id_str': '1276662988460576768', 'name': 'Housing is a human right 🥑🥑🥑', 'screen_name': 'AotearoaYimby', 'location': 'Aotearoa', 'description': 'Aotearoa Yes in my backyard! \\n\\nLegalise housing\\n\\nhousing is a human right', 'url': None, 'entities': {'description': {'urls': []}}, 'protected': False, 'followers_count': 8, 'friends_count': 66, 'listed_count': 0, 'created_at': 'Fri Jun 26 23:45:58 +0000 2020', 'favourites_count': 4, 'utc_offset': None, 'time_zone': None, 'geo_enabled': False, 'verified': False, 'statuses_count': 17, 'lang': None, 'contributors_enabled': False, 'is_translator': False, 'is_translation_enabled': False, 'profile_background_color': 'F5F8FA', 'profile_background_image_url': None, 'profile_background_image_url_https': None, 'profile_background_tile': False, 'profile_image_url': 'http://pbs.twimg.com/profile_images/1276666373821759489/AHczBGmf_normal.jpg', 'profile_image_url_https': 'https://pbs.twimg.com/profile_images/1276666373821759489/AHczBGmf_normal.jpg', 'profile_banner_url': 'https://pbs.twimg.com/profile_banners/1276662988460576768/1593215602', 'profile_link_color': '1DA1F2', 'profile_sidebar_border_color': 'C0DEED', 'profile_sidebar_fill_color': 'DDEEF6', 'profile_text_color': '333333', 'profile_use_background_image': True, 'has_extended_profile': True, 'default_profile': True, 'default_profile_image': False, 'following': False, 'follow_request_sent': False, 'notifications': False, 'translator_type': 'none'}, id=1276662988460576768, id_str='1276662988460576768', name='Housing is a human right 🥑🥑🥑', screen_name='AotearoaYimby', location='Aotearoa', description='Aotearoa Yes in my backyard! \\n\\nLegalise housing\\n\\nhousing is a human right', url=None, entities={'description': {'urls': []}}, protected=False, followers_count=8, friends_count=66, listed_count=0, created_at=datetime.datetime(2020, 6, 26, 23, 45, 58), favourites_count=4, utc_offset=None, time_zone=None, geo_enabled=False, verified=False, statuses_count=17, lang=None, contributors_enabled=False, is_translator=False, is_translation_enabled=False, profile_background_color='F5F8FA', profile_background_image_url=None, profile_background_image_url_https=None, profile_background_tile=False, profile_image_url='http://pbs.twimg.com/profile_images/1276666373821759489/AHczBGmf_normal.jpg', profile_image_url_https='https://pbs.twimg.com/profile_images/1276666373821759489/AHczBGmf_normal.jpg', profile_banner_url='https://pbs.twimg.com/profile_banners/1276662988460576768/1593215602', profile_link_color='1DA1F2', profile_sidebar_border_color='C0DEED', profile_sidebar_fill_color='DDEEF6', profile_text_color='333333', profile_use_background_image=True, has_extended_profile=True, default_profile=True, default_profile_image=False, following=False, follow_request_sent=False, notifications=False, translator_type='none'), user=User(_api=<tweepy.api.API object at 0x103da65d0>, _json={'id': 1276662988460576768, 'id_str': '1276662988460576768', 'name': 'Housing is a human right 🥑🥑🥑', 'screen_name': 'AotearoaYimby', 'location': 'Aotearoa', 'description': 'Aotearoa Yes in my backyard! \\n\\nLegalise housing\\n\\nhousing is a human right', 'url': None, 'entities': {'description': {'urls': []}}, 'protected': False, 'followers_count': 8, 'friends_count': 66, 'listed_count': 0, 'created_at': 'Fri Jun 26 23:45:58 +0000 2020', 'favourites_count': 4, 'utc_offset': None, 'time_zone': None, 'geo_enabled': False, 'verified': False, 'statuses_count': 17, 'lang': None, 'contributors_enabled': False, 'is_translator': False, 'is_translation_enabled': False, 'profile_background_color': 'F5F8FA', 'profile_background_image_url': None, 'profile_background_image_url_https': None, 'profile_background_tile': False, 'profile_image_url': 'http://pbs.twimg.com/profile_images/1276666373821759489/AHczBGmf_normal.jpg', 'profile_image_url_https': 'https://pbs.twimg.com/profile_images/1276666373821759489/AHczBGmf_normal.jpg', 'profile_banner_url': 'https://pbs.twimg.com/profile_banners/1276662988460576768/1593215602', 'profile_link_color': '1DA1F2', 'profile_sidebar_border_color': 'C0DEED', 'profile_sidebar_fill_color': 'DDEEF6', 'profile_text_color': '333333', 'profile_use_background_image': True, 'has_extended_profile': True, 'default_profile': True, 'default_profile_image': False, 'following': False, 'follow_request_sent': False, 'notifications': False, 'translator_type': 'none'}, id=1276662988460576768, id_str='1276662988460576768', name='Housing is a human right 🥑🥑🥑', screen_name='AotearoaYimby', location='Aotearoa', description='Aotearoa Yes in my backyard! \\n\\nLegalise housing\\n\\nhousing is a human right', url=None, entities={'description': {'urls': []}}, protected=False, followers_count=8, friends_count=66, listed_count=0, created_at=datetime.datetime(2020, 6, 26, 23, 45, 58), favourites_count=4, utc_offset=None, time_zone=None, geo_enabled=False, verified=False, statuses_count=17, lang=None, contributors_enabled=False, is_translator=False, is_translation_enabled=False, profile_background_color='F5F8FA', profile_background_image_url=None, profile_background_image_url_https=None, profile_background_tile=False, profile_image_url='http://pbs.twimg.com/profile_images/1276666373821759489/AHczBGmf_normal.jpg', profile_image_url_https='https://pbs.twimg.com/profile_images/1276666373821759489/AHczBGmf_normal.jpg', profile_banner_url='https://pbs.twimg.com/profile_banners/1276662988460576768/1593215602', profile_link_color='1DA1F2', profile_sidebar_border_color='C0DEED', profile_sidebar_fill_color='DDEEF6', profile_text_color='333333', profile_use_background_image=True, has_extended_profile=True, default_profile=True, default_profile_image=False, following=False, follow_request_sent=False, notifications=False, translator_type='none'), geo=None, coordinates=None, place=None, contributors=None, retweeted_status=Status(_api=<tweepy.api.API object at 0x103da65d0>, _json={'created_at': 'Mon Jul 13 01:42:23 +0000 2020', 'id': 1282490526684463105, 'id_str': '1282490526684463105', 'text': 'Greens’ election platform: guaranteed minimum incomes, tax on wealth, solar panels on public housing, green jobs in… https://t.co/3Wsv34dqEt', 'truncated': True, 'entities': {'hashtags': [], 'symbols': [], 'user_mentions': [], 'urls': [{'url': 'https://t.co/3Wsv34dqEt', 'expanded_url': 'https://twitter.com/i/web/status/1282490526684463105', 'display_url': 'twitter.com/i/web/status/1…', 'indices': [117, 140]}]}, 'source': '<a href=\"http://twitter.com/download/iphone\" rel=\"nofollow\">Twitter for iPhone</a>', 'in_reply_to_status_id': None, 'in_reply_to_status_id_str': None, 'in_reply_to_user_id': None, 'in_reply_to_user_id_str': None, 'in_reply_to_screen_name': None, 'user': {'id': 745599511960051712, 'id_str': '745599511960051712', 'name': 'Ricardo Menéndez', 'screen_name': 'RMarchNZ', 'location': 'Auckland, New Zealand', 'description': 'Green Party 2020 candidate for Maungakiekie. AAAP spokesperson. Mexicano. Climate and economic justice yarns 🍉 Auth’d by G Shaw, 1/17 Garrett Street, WLG', 'url': 'https://t.co/GHHi1edIUx', 'entities': {'url': {'urls': [{'url': 'https://t.co/GHHi1edIUx', 'expanded_url': 'https://www.greens.org.nz/joinricardo', 'display_url': 'greens.org.nz/joinricardo', 'indices': [0, 23]}]}, 'description': {'urls': []}}, 'protected': False, 'followers_count': 3799, 'friends_count': 1804, 'listed_count': 20, 'created_at': 'Wed Jun 22 12:49:11 +0000 2016', 'favourites_count': 8038, 'utc_offset': None, 'time_zone': None, 'geo_enabled': True, 'verified': False, 'statuses_count': 3668, 'lang': None, 'contributors_enabled': False, 'is_translator': False, 'is_translation_enabled': False, 'profile_background_color': 'F5F8FA', 'profile_background_image_url': None, 'profile_background_image_url_https': None, 'profile_background_tile': False, 'profile_image_url': 'http://pbs.twimg.com/profile_images/1234061999203422208/7d3JUaKW_normal.jpg', 'profile_image_url_https': 'https://pbs.twimg.com/profile_images/1234061999203422208/7d3JUaKW_normal.jpg', 'profile_banner_url': 'https://pbs.twimg.com/profile_banners/745599511960051712/1575024214', 'profile_link_color': '1DA1F2', 'profile_sidebar_border_color': 'C0DEED', 'profile_sidebar_fill_color': 'DDEEF6', 'profile_text_color': '333333', 'profile_use_background_image': True, 'has_extended_profile': True, 'default_profile': True, 'default_profile_image': False, 'following': False, 'follow_request_sent': False, 'notifications': False, 'translator_type': 'none'}, 'geo': None, 'coordinates': None, 'place': {'id': '0022e3c837579650', 'url': 'https://api.twitter.com/1.1/geo/id/0022e3c837579650.json', 'place_type': 'city', 'name': 'Auckland', 'full_name': 'Auckland, New Zealand', 'country_code': 'NZ', 'country': 'New Zealand', 'contained_within': [], 'bounding_box': {'type': 'Polygon', 'coordinates': [[[174.161834, -37.292621], [175.550653, -37.292621], [175.550653, -35.898837], [174.161834, -35.898837]]]}, 'attributes': {}}, 'contributors': None, 'is_quote_status': False, 'retweet_count': 13, 'favorite_count': 86, 'favorited': False, 'retweeted': True, 'lang': 'en'}, created_at=datetime.datetime(2020, 7, 13, 1, 42, 23), id=1282490526684463105, id_str='1282490526684463105', text='Greens’ election platform: guaranteed minimum incomes, tax on wealth, solar panels on public housing, green jobs in… https://t.co/3Wsv34dqEt', truncated=True, entities={'hashtags': [], 'symbols': [], 'user_mentions': [], 'urls': [{'url': 'https://t.co/3Wsv34dqEt', 'expanded_url': 'https://twitter.com/i/web/status/1282490526684463105', 'display_url': 'twitter.com/i/web/status/1…', 'indices': [117, 140]}]}, source='Twitter for iPhone', source_url='http://twitter.com/download/iphone', in_reply_to_status_id=None, in_reply_to_status_id_str=None, in_reply_to_user_id=None, in_reply_to_user_id_str=None, in_reply_to_screen_name=None, author=User(_api=<tweepy.api.API object at 0x103da65d0>, _json={'id': 745599511960051712, 'id_str': '745599511960051712', 'name': 'Ricardo Menéndez', 'screen_name': 'RMarchNZ', 'location': 'Auckland, New Zealand', 'description': 'Green Party 2020 candidate for Maungakiekie. AAAP spokesperson. Mexicano. Climate and economic justice yarns 🍉 Auth’d by G Shaw, 1/17 Garrett Street, WLG', 'url': 'https://t.co/GHHi1edIUx', 'entities': {'url': {'urls': [{'url': 'https://t.co/GHHi1edIUx', 'expanded_url': 'https://www.greens.org.nz/joinricardo', 'display_url': 'greens.org.nz/joinricardo', 'indices': [0, 23]}]}, 'description': {'urls': []}}, 'protected': False, 'followers_count': 3799, 'friends_count': 1804, 'listed_count': 20, 'created_at': 'Wed Jun 22 12:49:11 +0000 2016', 'favourites_count': 8038, 'utc_offset': None, 'time_zone': None, 'geo_enabled': True, 'verified': False, 'statuses_count': 3668, 'lang': None, 'contributors_enabled': False, 'is_translator': False, 'is_translation_enabled': False, 'profile_background_color': 'F5F8FA', 'profile_background_image_url': None, 'profile_background_image_url_https': None, 'profile_background_tile': False, 'profile_image_url': 'http://pbs.twimg.com/profile_images/1234061999203422208/7d3JUaKW_normal.jpg', 'profile_image_url_https': 'https://pbs.twimg.com/profile_images/1234061999203422208/7d3JUaKW_normal.jpg', 'profile_banner_url': 'https://pbs.twimg.com/profile_banners/745599511960051712/1575024214', 'profile_link_color': '1DA1F2', 'profile_sidebar_border_color': 'C0DEED', 'profile_sidebar_fill_color': 'DDEEF6', 'profile_text_color': '333333', 'profile_use_background_image': True, 'has_extended_profile': True, 'default_profile': True, 'default_profile_image': False, 'following': False, 'follow_request_sent': False, 'notifications': False, 'translator_type': 'none'}, id=745599511960051712, id_str='745599511960051712', name='Ricardo Menéndez', screen_name='RMarchNZ', location='Auckland, New Zealand', description='Green Party 2020 candidate for Maungakiekie. AAAP spokesperson. Mexicano. Climate and economic justice yarns 🍉 Auth’d by G Shaw, 1/17 Garrett Street, WLG', url='https://t.co/GHHi1edIUx', entities={'url': {'urls': [{'url': 'https://t.co/GHHi1edIUx', 'expanded_url': 'https://www.greens.org.nz/joinricardo', 'display_url': 'greens.org.nz/joinricardo', 'indices': [0, 23]}]}, 'description': {'urls': []}}, protected=False, followers_count=3799, friends_count=1804, listed_count=20, created_at=datetime.datetime(2016, 6, 22, 12, 49, 11), favourites_count=8038, utc_offset=None, time_zone=None, geo_enabled=True, verified=False, statuses_count=3668, lang=None, contributors_enabled=False, is_translator=False, is_translation_enabled=False, profile_background_color='F5F8FA', profile_background_image_url=None, profile_background_image_url_https=None, profile_background_tile=False, profile_image_url='http://pbs.twimg.com/profile_images/1234061999203422208/7d3JUaKW_normal.jpg', profile_image_url_https='https://pbs.twimg.com/profile_images/1234061999203422208/7d3JUaKW_normal.jpg', profile_banner_url='https://pbs.twimg.com/profile_banners/745599511960051712/1575024214', profile_link_color='1DA1F2', profile_sidebar_border_color='C0DEED', profile_sidebar_fill_color='DDEEF6', profile_text_color='333333', profile_use_background_image=True, has_extended_profile=True, default_profile=True, default_profile_image=False, following=False, follow_request_sent=False, notifications=False, translator_type='none'), user=User(_api=<tweepy.api.API object at 0x103da65d0>, _json={'id': 745599511960051712, 'id_str': '745599511960051712', 'name': 'Ricardo Menéndez', 'screen_name': 'RMarchNZ', 'location': 'Auckland, New Zealand', 'description': 'Green Party 2020 candidate for Maungakiekie. AAAP spokesperson. Mexicano. Climate and economic justice yarns 🍉 Auth’d by G Shaw, 1/17 Garrett Street, WLG', 'url': 'https://t.co/GHHi1edIUx', 'entities': {'url': {'urls': [{'url': 'https://t.co/GHHi1edIUx', 'expanded_url': 'https://www.greens.org.nz/joinricardo', 'display_url': 'greens.org.nz/joinricardo', 'indices': [0, 23]}]}, 'description': {'urls': []}}, 'protected': False, 'followers_count': 3799, 'friends_count': 1804, 'listed_count': 20, 'created_at': 'Wed Jun 22 12:49:11 +0000 2016', 'favourites_count': 8038, 'utc_offset': None, 'time_zone': None, 'geo_enabled': True, 'verified': False, 'statuses_count': 3668, 'lang': None, 'contributors_enabled': False, 'is_translator': False, 'is_translation_enabled': False, 'profile_background_color': 'F5F8FA', 'profile_background_image_url': None, 'profile_background_image_url_https': None, 'profile_background_tile': False, 'profile_image_url': 'http://pbs.twimg.com/profile_images/1234061999203422208/7d3JUaKW_normal.jpg', 'profile_image_url_https': 'https://pbs.twimg.com/profile_images/1234061999203422208/7d3JUaKW_normal.jpg', 'profile_banner_url': 'https://pbs.twimg.com/profile_banners/745599511960051712/1575024214', 'profile_link_color': '1DA1F2', 'profile_sidebar_border_color': 'C0DEED', 'profile_sidebar_fill_color': 'DDEEF6', 'profile_text_color': '333333', 'profile_use_background_image': True, 'has_extended_profile': True, 'default_profile': True, 'default_profile_image': False, 'following': False, 'follow_request_sent': False, 'notifications': False, 'translator_type': 'none'}, id=745599511960051712, id_str='745599511960051712', name='Ricardo Menéndez', screen_name='RMarchNZ', location='Auckland, New Zealand', description='Green Party 2020 candidate for Maungakiekie. AAAP spokesperson. Mexicano. Climate and economic justice yarns 🍉 Auth’d by G Shaw, 1/17 Garrett Street, WLG', url='https://t.co/GHHi1edIUx', entities={'url': {'urls': [{'url': 'https://t.co/GHHi1edIUx', 'expanded_url': 'https://www.greens.org.nz/joinricardo', 'display_url': 'greens.org.nz/joinricardo', 'indices': [0, 23]}]}, 'description': {'urls': []}}, protected=False, followers_count=3799, friends_count=1804, listed_count=20, created_at=datetime.datetime(2016, 6, 22, 12, 49, 11), favourites_count=8038, utc_offset=None, time_zone=None, geo_enabled=True, verified=False, statuses_count=3668, lang=None, contributors_enabled=False, is_translator=False, is_translation_enabled=False, profile_background_color='F5F8FA', profile_background_image_url=None, profile_background_image_url_https=None, profile_background_tile=False, profile_image_url='http://pbs.twimg.com/profile_images/1234061999203422208/7d3JUaKW_normal.jpg', profile_image_url_https='https://pbs.twimg.com/profile_images/1234061999203422208/7d3JUaKW_normal.jpg', profile_banner_url='https://pbs.twimg.com/profile_banners/745599511960051712/1575024214', profile_link_color='1DA1F2', profile_sidebar_border_color='C0DEED', profile_sidebar_fill_color='DDEEF6', profile_text_color='333333', profile_use_background_image=True, has_extended_profile=True, default_profile=True, default_profile_image=False, following=False, follow_request_sent=False, notifications=False, translator_type='none'), geo=None, coordinates=None, place=Place(_api=<tweepy.api.API object at 0x103da65d0>, id='0022e3c837579650', url='https://api.twitter.com/1.1/geo/id/0022e3c837579650.json', place_type='city', name='Auckland', full_name='Auckland, New Zealand', country_code='NZ', country='New Zealand', contained_within=[], bounding_box=BoundingBox(_api=<tweepy.api.API object at 0x103da65d0>, type='Polygon', coordinates=[[[174.161834, -37.292621], [175.550653, -37.292621], [175.550653, -35.898837], [174.161834, -35.898837]]]), attributes={}), contributors=None, is_quote_status=False, retweet_count=13, favorite_count=86, favorited=False, retweeted=True, lang='en'), is_quote_status=False, retweet_count=13, favorite_count=0, favorited=False, retweeted=True, lang='en')"
      ]
     },
     "execution_count": 65,
     "metadata": {},
     "output_type": "execute_result"
    }
   ],
   "source": [
    "rt_result = tweet_to_rt.retweet()"
   ]
  },
  {
   "cell_type": "markdown",
   "metadata": {},
   "source": [
    "### get tweets on my timeline\n"
   ]
  },
  {
   "cell_type": "code",
   "execution_count": null,
   "metadata": {},
   "outputs": [],
   "source": []
  },
  {
   "cell_type": "code",
   "execution_count": 90,
   "metadata": {},
   "outputs": [],
   "source": [
    "tweets = [t for t in \n",
    "          tweepy.Cursor(api.home_timeline,count=20).items(50)\n",
    "         ]# get the 20 MOST RECENT tweets that match the qualification\n",
    "\n"
   ]
  },
  {
   "cell_type": "code",
   "execution_count": 93,
   "metadata": {},
   "outputs": [
    {
     "name": "stdout",
     "output_type": "stream",
     "text": [
      "Tweet by: @everylotakl\n",
      "0\n",
      "12 Peridot Place, Conifer Grove https://t.co/JQXk5usCpH\n",
      "Tweet by: @AotearoaYimby\n",
      "0\n",
      "RT @bernardchickey: @chamfy @RebeccaJEmm The dirty little secret of local politics in NZ is older suburban property owners vote much more t…\n",
      "Tweet by: @everylotwlg\n",
      "0\n",
      "12 Kauamo Close, Waiwhetu https://t.co/8aqBV0kkwU\n",
      "Tweet by: @everylotakl\n",
      "0\n",
      "55 Great South Road, Papakura https://t.co/cH3eGJyNB5\n",
      "Tweet by: @everylotakl\n",
      "0\n",
      "17 Evesham Avenue, Glendowie https://t.co/zYZaOpEl3Q\n",
      "Tweet by: @JulieAnneGenter\n",
      "0\n",
      "RT @billbennettnz: Includes our own Stephen Tindall\n",
      "\n",
      "Super-rich call for higher taxes on wealthy to pay for Covid-19 recovery https://t.co/…\n",
      "Tweet by: @ScootFoundation\n",
      "9\n",
      "The Zoo is said to have lost its appeal to animals. We discussed what's putting them off with Zookeeper Joe Exotic. https://t.co/RxR5SJFyxs\n",
      "Tweet by: @JulieAnneGenter\n",
      "0\n",
      "RT @radionz: Health experts have been surprised by a lower number of deaths throughout the country over the lockdown period.\n",
      "\n",
      "During alert…\n",
      "Tweet by: @everylotwlg\n",
      "0\n",
      "242A Tinakori Road, Thorndon https://t.co/MTPfJf7LcS\n",
      "Tweet by: @direhousing\n",
      "3\n",
      "thank u @coolandnormal3 for sending me this room in palmy where you cannot even stand up straight!!!! https://t.co/Y2Cclv5prL\n",
      "Tweet by: @everylotakl\n",
      "3\n",
      "1A Holly Street, Avondale https://t.co/hr7pY3CJHy\n",
      "Tweet by: @pv_reynolds\n",
      "0\n",
      "RT @vaguelyspecific: Irish Transport Minister rules out mandatory helmet law: \"International evidence is that mandatory helmet legislation…\n",
      "Tweet by: @everylotakl\n",
      "0\n",
      "11 Jane Gifford Place, Half Moon Bay https://t.co/45agLmP3Ec\n",
      "Tweet by: @everylotwlg\n",
      "0\n",
      "31B Jessie Street, Te Aro https://t.co/08zBrICeem\n",
      "Tweet by: @everylotakl\n",
      "0\n",
      "28 Volcanic Street, Mount Eden https://t.co/99PGkOLmgN\n",
      "Tweet by: @everylotwlg\n",
      "0\n",
      "32 Brandon Street, Wellington Central https://t.co/5wyaENaHwy\n",
      "Tweet by: @everylotakl\n",
      "0\n",
      "218 Norman Lesser Drive, Saint Johns https://t.co/0y0Fk4cZz8\n",
      "Tweet by: @jdeheij\n",
      "0\n",
      "RT @damianlight: Auckland's history is littered with poor decisions that have cost us so much in the long term. Easy to lament terrible dec…\n",
      "Tweet by: @jdeheij\n",
      "0\n",
      "RT @sarahhbickerton: Add to this that the cycling infrastructure is better in Auckland than in Wellington AND GETTING BETTER, investment in…\n",
      "Tweet by: @jdeheij\n",
      "2\n",
      "A little thread 🧵 why Auckland is so awesome 🥰👍 https://t.co/vpfB8kk9Lv\n",
      "Tweet by: @everylotakl\n",
      "0\n",
      "20 Portage Road, Otahuhu https://t.co/LbXWCKilKg\n",
      "Tweet by: @everylotwlg\n",
      "0\n",
      "30 Surprise Place, Cannons Creek https://t.co/0T52fRJq6A\n",
      "Tweet by: @AotearoaYimby\n",
      "0\n",
      "RT @sarahhbickerton: It’s not secret how much I love Wellington. But.\n",
      "\n",
      "- Housing in Auckland is expensive ... BUT not as expensive as Welli…\n",
      "Tweet by: @everylotakl\n",
      "0\n",
      "70 Bluegrey Avenue, Stonefields https://t.co/8ezjgIm35v\n",
      "Tweet by: @everylotwlg\n",
      "0\n",
      "114 Totara Road, Miramar https://t.co/YtBYF7uwqA\n",
      "Tweet by: @AklTransport\n",
      "2\n",
      "UPDATE 6:20PM\n",
      "This crash now fully cleared. ^TP\n",
      "https://t.co/LmLjc5b84d\n",
      "Tweet by: @everylotakl\n",
      "0\n",
      "94 Fisher Crescent, Otara https://t.co/lwe5wLfVl0\n",
      "Tweet by: @AklTransport\n",
      "0\n",
      "SOUTH EASTERN HWY, PENROSE - CRASH - 6:00PM\n",
      "A crash is blocking westbound lanes on South Eastern Hwy at the interse… https://t.co/SFOnaiWrFU\n",
      "Tweet by: @everylotwlg\n",
      "0\n",
      "8 Plymouth Street, Karori https://t.co/ymOoDkXlZJ\n",
      "Tweet by: @everylotakl\n",
      "0\n",
      "36 Churchouse Road, Greenhithe https://t.co/uY0IxlMy5V\n",
      "Tweet by: @everylotakl\n",
      "0\n",
      "66 Kupe Street, Orakei https://t.co/uN1NTVhVkl\n",
      "Tweet by: @everylotwlg\n",
      "0\n",
      "49 Erlestoke Crescent, Churton Park https://t.co/C352Zv8HaZ\n",
      "Tweet by: @everylotakl\n",
      "1\n",
      "26A Camelot Place, Glenfield https://t.co/64ZPkgSxsi\n",
      "Tweet by: @everylotakl\n",
      "0\n",
      "2C Harrod Street, Ellerslie https://t.co/zr7SZ8EMvc\n",
      "Tweet by: @everylotwlg\n",
      "0\n",
      "3 Macky Street, Taita https://t.co/eUXp8ae2jm\n",
      "Tweet by: @dbseymour\n",
      "557\n",
      "Party Vote ACT. The SFO is not investigating us.\n",
      "Tweet by: @ScootFoundation\n",
      "89\n",
      "They took this from you. https://t.co/fxezzuuzRm\n",
      "Tweet by: @everylotakl\n",
      "0\n",
      "9 Crystal Avenue, Glendene https://t.co/KaehqH4UDq\n",
      "Tweet by: @everylotwlg\n",
      "0\n",
      "9 Mander Place, Miramar https://t.co/eqjjvmWiJV\n",
      "Tweet by: @everylotakl\n",
      "1\n",
      "16A Mattson Road, Pakuranga https://t.co/HwV0DHdL1v\n",
      "Tweet by: @cayimby\n",
      "0\n",
      "RT @RobinAGardner1: I just signed a @cayimby's petition: Help Stop #AB1063. We need to build *more*, not less affordable housing in Califor…\n",
      "Tweet by: @AklTransport\n",
      "11\n",
      "From tomorrow, some stairs will be closed at Britomart for up to 5 weeks for the installment of faster metro-grade… https://t.co/s2sKo7MOPT\n",
      "Tweet by: @everylotakl\n",
      "0\n",
      "151 Avondale Road, Avondale https://t.co/iQWLiTaD6n\n",
      "Tweet by: @everylotwlg\n",
      "0\n",
      "332 The Esplanade, Island Bay https://t.co/9ayan1B4qc\n",
      "Tweet by: @jaackiepaul\n",
      "0\n",
      "RT @thisteeks: Te mātahi o te tau.. The year has only just begun e te iwi, ngā mihi o te tau hou Māori ✨\n",
      "Tweet by: @AotearoaYimby\n",
      "0\n",
      "I'm not saying Auckland's mindlessly copying timeless Wellington architecture but 🧐https://t.co/zvNlmUPK0w https://t.co/W89W38T1MQ\n",
      "Tweet by: @AotearoaYimby\n",
      "1\n",
      "Lotta Auckland/Wellington battles over housing today.\n",
      "\n",
      "Wellington's housing keeps out young people by deliberately… https://t.co/To2yUythqM\n",
      "Tweet by: @everylotakl\n",
      "0\n",
      "60 Barrack Road, Mount Wellington https://t.co/DYuwr1drW9\n",
      "Tweet by: @ScootFoundation\n",
      "0\n",
      "RT @rustie5555: *screaming at confused passers-by on Queen Street*\n",
      "DOVE-MYER ROBINSON WAS RIGHT https://t.co/IzChYqnDoW\n",
      "Tweet by: @everylotwlg\n",
      "0\n",
      "254 Taranaki Street, Mount Cook https://t.co/WjjEXjUlMF\n"
     ]
    }
   ],
   "source": [
    "for t in tweets:\n",
    "#    if (t.favorite_count>0):\n",
    "    print('Tweet by: @' + t.user.screen_name)\n",
    "    print(t.favorite_count)\n",
    "    print(t.text)\n",
    "    #print(t.extended_tweet.full_tweet)\n"
   ]
  },
  {
   "cell_type": "code",
   "execution_count": 88,
   "metadata": {},
   "outputs": [
    {
     "data": {
      "text/plain": [
       "'17 Evesham Avenue, Glendowie https://t.co/zYZaOpEl3Q'"
      ]
     },
     "execution_count": 88,
     "metadata": {},
     "output_type": "execute_result"
    }
   ],
   "source": [
    "tweets[0].text"
   ]
  },
  {
   "cell_type": "markdown",
   "metadata": {},
   "source": [
    "We could do this but it is not going to help much for the project...these are generally crap tweets."
   ]
  },
  {
   "cell_type": "markdown",
   "metadata": {},
   "source": [
    "## looking at other queries"
   ]
  },
  {
   "cell_type": "code",
   "execution_count": 51,
   "metadata": {},
   "outputs": [],
   "source": [
    "from datetime import datetime, timezone, timedelta\n",
    "search_start = (datetime.now(timezone.utc) - timedelta(days=1)).strftime(\"%Y-%m-%d\")\n",
    "search_end = (datetime.now(timezone.utc) + timedelta(days=1)).strftime(\"%Y-%m-%d\")\n",
    "\n",
    "\n",
    "narrow_start = (datetime.now(timezone.utc) - timedelta(hours=2))\n",
    "narrow_end = (datetime.now(timezone.utc) - timedelta(hours=1))\n",
    "#give them a little bit of time to pick up\n",
    "\n",
    "#this is EXCLUSIVE of 'end', \n",
    "#so we have to put in the end to be TOMORROW \n",
    "#if we want it to get tweets from today"
   ]
  },
  {
   "cell_type": "code",
   "execution_count": 52,
   "metadata": {},
   "outputs": [],
   "source": [
    "def output_tweet(t):\n",
    "    print('Tweet by: @' + t.user.screen_name + \"; \" + str(t.favorite_count) + \". \" + t.text)\n",
    "    print(t.in_reply_to_screen_name)"
   ]
  },
  {
   "cell_type": "code",
   "execution_count": 53,
   "metadata": {},
   "outputs": [],
   "source": [
    "tweets = [t for t in \n",
    "          tweepy.Cursor(api.search,\n",
    "                           q='housing crisis',\n",
    "                           since=start,\n",
    "                           until=end,\n",
    "                          geocode='-41.1,173.3,1500km').items(50)\n",
    "         ]# get the 20 MOST RECENT tweets that match the qualification\n"
   ]
  },
  {
   "cell_type": "code",
   "execution_count": 55,
   "metadata": {},
   "outputs": [],
   "source": [
    "import time"
   ]
  },
  {
   "cell_type": "code",
   "execution_count": 57,
   "metadata": {},
   "outputs": [
    {
     "ename": "KeyboardInterrupt",
     "evalue": "",
     "output_type": "error",
     "traceback": [
      "\u001b[0;31m---------------------------------------------------------------------------\u001b[0m",
      "\u001b[0;31mKeyboardInterrupt\u001b[0m                         Traceback (most recent call last)",
      "\u001b[0;32m<ipython-input-57-16726ad311e5>\u001b[0m in \u001b[0;36m<module>\u001b[0;34m\u001b[0m\n\u001b[1;32m     12\u001b[0m             \u001b[0mt\u001b[0m\u001b[0;34m.\u001b[0m\u001b[0mretweet\u001b[0m\u001b[0;34m(\u001b[0m\u001b[0;34m)\u001b[0m\u001b[0;34m\u001b[0m\u001b[0;34m\u001b[0m\u001b[0m\n\u001b[1;32m     13\u001b[0m             \u001b[0;31m#have a sleep before you tweet another thing.\u001b[0m\u001b[0;34m\u001b[0m\u001b[0;34m\u001b[0m\u001b[0;34m\u001b[0m\u001b[0m\n\u001b[0;32m---> 14\u001b[0;31m             \u001b[0mtime\u001b[0m\u001b[0;34m.\u001b[0m\u001b[0msleep\u001b[0m\u001b[0;34m(\u001b[0m\u001b[0;36m600\u001b[0m\u001b[0;34m)\u001b[0m\u001b[0;34m\u001b[0m\u001b[0;34m\u001b[0m\u001b[0m\n\u001b[0m",
      "\u001b[0;31mKeyboardInterrupt\u001b[0m: "
     ]
    }
   ],
   "source": [
    "for t in tweets:\n",
    "    \n",
    "    t_time = t.created_at.replace(tzinfo=timezone.utc)\n",
    "    if((t_time>narrow_start) & (t_time<narrow_end)):#if it's in the right set\n",
    "        #if it's not a retweet\n",
    "        #output_tweet(t)\n",
    "        if hasattr(t,'retweeted_status')==False:\n",
    "            #it's had at least one RT or favorite.\n",
    "            #if (t.favorite_count>0) or (t.retweet_count>0):\n",
    "            #go ahead and retweet it\n",
    "            #output_tweet(t)\n",
    "            t.retweet()\n",
    "            #have a sleep before you tweet another thing.\n",
    "            time.sleep(600)                \n"
   ]
  },
  {
   "cell_type": "code",
   "execution_count": 1,
   "metadata": {},
   "outputs": [
    {
     "ename": "NameError",
     "evalue": "name 'start' is not defined",
     "output_type": "error",
     "traceback": [
      "\u001b[0;31m---------------------------------------------------------------------------\u001b[0m",
      "\u001b[0;31mNameError\u001b[0m                                 Traceback (most recent call last)",
      "\u001b[0;32m<ipython-input-1-6a0b0e26a94a>\u001b[0m in \u001b[0;36m<module>\u001b[0;34m\u001b[0m\n\u001b[1;32m     31\u001b[0m           tweepy.Cursor(api.search,\n\u001b[1;32m     32\u001b[0m                            \u001b[0mq\u001b[0m\u001b[0;34m=\u001b[0m\u001b[0;34m'housing crisis'\u001b[0m\u001b[0;34m,\u001b[0m\u001b[0;34m\u001b[0m\u001b[0;34m\u001b[0m\u001b[0m\n\u001b[0;32m---> 33\u001b[0;31m                            \u001b[0msince\u001b[0m\u001b[0;34m=\u001b[0m\u001b[0mstart\u001b[0m\u001b[0;34m,\u001b[0m\u001b[0;34m\u001b[0m\u001b[0;34m\u001b[0m\u001b[0m\n\u001b[0m\u001b[1;32m     34\u001b[0m                            \u001b[0muntil\u001b[0m\u001b[0;34m=\u001b[0m\u001b[0mend\u001b[0m\u001b[0;34m,\u001b[0m\u001b[0;34m\u001b[0m\u001b[0;34m\u001b[0m\u001b[0m\n\u001b[1;32m     35\u001b[0m                           geocode='-41.1,173.3,1500km').items(50)\n",
      "\u001b[0;31mNameError\u001b[0m: name 'start' is not defined"
     ]
    }
   ],
   "source": [
    "# Import Tweepy, sleep, credentials.py\n",
    "import tweepy\n",
    "from time import sleep\n",
    "from datetime import datetime, timezone, timedelta\n",
    "\n",
    "import sys, os\n",
    "sys.path.insert(1, os.path.join(sys.path[0], '..'))\n",
    "from credentials import *\n",
    "\n",
    "# Access and authorize our Twitter credentials from credentials.py\n",
    "auth = tweepy.OAuthHandler(consumer_key, consumer_secret)\n",
    "auth.set_access_token(access_token, access_token_secret)\n",
    "api = tweepy.API(auth)\n",
    "\n",
    "def output_tweet(t):\n",
    "    print('Tweet by: @' + t.user.screen_name + \"; \" + str(t.favorite_count) + \". \" + t.text)\n",
    "    print(t.in_reply_to_screen_name)\n",
    "\n",
    "\n",
    "#set times to search with\n",
    "search_start = (datetime.now(timezone.utc) - timedelta(days=1)).strftime(\"%Y-%m-%d\")\n",
    "search_end = (datetime.now(timezone.utc) + timedelta(days=1)).strftime(\"%Y-%m-%d\")\n",
    "\n",
    "#set times to limit retweeting (because we're running this every hour, we don't want to repeat.)\n",
    "narrow_start = (datetime.now(timezone.utc) - timedelta(hours=2))\n",
    "narrow_end = (datetime.now(timezone.utc) - timedelta(hours=1))\n",
    "#give them a little bit of time to pick up\n",
    "\n",
    "#get the tweets\n",
    "tweets = [t for t in \n",
    "          tweepy.Cursor(api.search,\n",
    "                           q='housing crisis',\n",
    "                           since=start,\n",
    "                           until=end,\n",
    "                          geocode='-41.1,173.3,1500km').items(50)\n",
    "         ]# get the 20 MOST RECENT tweets that match the qualification\n",
    "\n",
    "#tweet any tweets that match criteria\n",
    "for t in tweets:\n",
    "    t_time = t.created_at.replace(tzinfo=timezone.utc)\n",
    "    if((t_time>narrow_start) & (t_time<narrow_end)):#if it's in the right set\n",
    "        #if it's not a retweet\n",
    "        #output_tweet(t)\n",
    "        if hasattr(t,'retweeted_status')==False:\n",
    "            #it's had at least one RT or favorite.\n",
    "            #if (t.favorite_count>0) or (t.retweet_count>0):\n",
    "            #go ahead and retweet it\n",
    "            #output_tweet(t)\n",
    "            t.retweet()\n",
    "            #have a sleep before you tweet another thing.\n",
    "            time.sleep(600)                \n"
   ]
  },
  {
   "cell_type": "code",
   "execution_count": null,
   "metadata": {},
   "outputs": [],
   "source": []
  },
  {
   "cell_type": "code",
   "execution_count": null,
   "metadata": {},
   "outputs": [],
   "source": []
  },
  {
   "cell_type": "code",
   "execution_count": null,
   "metadata": {},
   "outputs": [],
   "source": []
  },
  {
   "cell_type": "code",
   "execution_count": null,
   "metadata": {},
   "outputs": [],
   "source": []
  },
  {
   "cell_type": "code",
   "execution_count": null,
   "metadata": {},
   "outputs": [],
   "source": []
  },
  {
   "cell_type": "code",
   "execution_count": null,
   "metadata": {},
   "outputs": [],
   "source": []
  },
  {
   "cell_type": "code",
   "execution_count": null,
   "metadata": {},
   "outputs": [],
   "source": []
  },
  {
   "cell_type": "code",
   "execution_count": null,
   "metadata": {},
   "outputs": [],
   "source": []
  }
 ],
 "metadata": {
  "kernelspec": {
   "display_name": "Python 3",
   "language": "python",
   "name": "python3"
  },
  "language_info": {
   "codemirror_mode": {
    "name": "ipython",
    "version": 3
   },
   "file_extension": ".py",
   "mimetype": "text/x-python",
   "name": "python",
   "nbconvert_exporter": "python",
   "pygments_lexer": "ipython3",
   "version": "3.7.7"
  }
 },
 "nbformat": 4,
 "nbformat_minor": 2
}
